{
  "nbformat": 4,
  "nbformat_minor": 0,
  "metadata": {
    "colab": {
      "provenance": []
    },
    "kernelspec": {
      "name": "python3",
      "display_name": "Python 3"
    },
    "language_info": {
      "name": "python"
    }
  },
  "cells": [
    {
      "cell_type": "markdown",
      "source": [
        "---\n",
        "# 1. [최단 거리 구하기](https://www.acmicpc.net/problem/1753)\n",
        "----\n"
      ],
      "metadata": {
        "id": "Pej6yyuUk0it"
      }
    },
    {
      "cell_type": "markdown",
      "source": [
        "#### 아이디어 = 다익스트라 알고리즘\n",
        "\n",
        "1. 인접 리스트로 그래프 구현\n",
        "2. 최단 거리 리스트 초기화\n",
        "3. 값이 가장 작은 노드 선택\n",
        "4. 최단 거리 리스트 업데이트\n",
        "5. 3~4를 반복해 최단 거리 리스트 완성"
      ],
      "metadata": {
        "id": "He9KyRE-k6CS"
      }
    },
    {
      "cell_type": "code",
      "execution_count": null,
      "metadata": {
        "colab": {
          "base_uri": "https://localhost:8080/"
        },
        "id": "UpCSQVPpkEvE",
        "outputId": "1c6eb1d2-a544-46c1-ce19-2c6684a94e6c"
      },
      "outputs": [
        {
          "name": "stdout",
          "output_type": "stream",
          "text": [
            "5 6\n",
            "1\n",
            "5 1 1\n",
            "1 2 2\n",
            "1 3 3\n",
            "2 3 4\n",
            "2 4 5\n",
            "3 4 6\n"
          ]
        }
      ],
      "source": [
        "from queue import PriorityQueue\n",
        "\n",
        "V, E = map(int,input().split()) # 노드 개수 # 엣지 개수\n",
        "K = int(input()) # 시작 점의 번호\n",
        "distance = [100] * (V+1) # 거리 저장 리스트 (충분히 큰 수로 초기화)\n",
        "visited = [False] * (V+1) # 방문 여부 저장 리스트\n",
        "mylist = [[] for i in range(V+1)] # 엣지 데이터 저장 인접 리스트\n",
        "q = PriorityQueue()\n",
        "\n",
        "for i in range(E):\n",
        "  u, v, w = map(int,input().split()) # 가중치가 있는 인접 리스트 저장\n",
        "  mylist[u].append((v,w))\n",
        "\n",
        "q.put((0,K))  # K를 시작점으로 설정\n",
        "distance[K] = 0"
      ]
    },
    {
      "cell_type": "code",
      "source": [
        "print('엣지 데이터 저장 인접 리스트',mylist)"
      ],
      "metadata": {
        "colab": {
          "base_uri": "https://localhost:8080/"
        },
        "id": "anHDwdCvmt4b",
        "outputId": "68f14222-af96-4e9e-a9eb-049e5dbd9b4f"
      },
      "execution_count": null,
      "outputs": [
        {
          "output_type": "stream",
          "name": "stdout",
          "text": [
            "엣지 데이터 저장 인접 리스트 [[], [(2, 2), (3, 3)], [(3, 4), (4, 5)], [(4, 6)], [], [(1, 1)]]\n"
          ]
        }
      ]
    },
    {
      "cell_type": "code",
      "source": [
        "while q.qsize() > 0:\n",
        "  current = q.get() # 우선순위 큐에서 노드 가져오기\n",
        "  print(current)\n",
        "  cv = current[1]\n",
        "  if visited[cv] : # 가져온 노드 방문기록 확인 \n",
        "    continue\n",
        "  visited[cv] = True # 방문하지 않았다면 이번에 방문으로 체크\n",
        "  for tmp in mylist[cv]: # 현재 선택한 노드의 엣지 확인\n",
        "    next = tmp[0]\n",
        "    value = tmp[1]\n",
        "    if distance[next] > (distance[cv] + value) :\n",
        "      distance[next] = (distance[cv] + value) # 최단 거리로 업데이트\n",
        "      # 가중치가 정렬 기준이므로 순서를 가중치, 목표 노드 순으로 우선순위 큐에 정렬\n",
        "      q.put((distance[next], next))\n",
        "\n",
        "for i in range(1, V+1):\n",
        "  if visited[i]:\n",
        "    print(distance[i])\n",
        "  else:\n",
        "    print('INF')"
      ],
      "metadata": {
        "colab": {
          "base_uri": "https://localhost:8080/"
        },
        "id": "bbvW2OMmm3Fx",
        "outputId": "d43573d4-ca59-4e28-e09d-bbfdbfc724d4"
      },
      "execution_count": null,
      "outputs": [
        {
          "output_type": "stream",
          "name": "stdout",
          "text": [
            "(0, 1)\n",
            "(2, 2)\n",
            "(3, 3)\n",
            "(7, 4)\n",
            "0\n",
            "2\n",
            "3\n",
            "7\n",
            "INF\n"
          ]
        }
      ]
    },
    {
      "cell_type": "markdown",
      "source": [
        "---\n",
        "# 2. [최소 비용 구하기](https://www.acmicpc.net/problem/1916)\n",
        "---"
      ],
      "metadata": {
        "id": "g0ycVyYOtoWu"
      }
    },
    {
      "cell_type": "code",
      "source": [
        "from queue import PriorityQueue\n",
        "\n",
        "N, M = map(int,input().split()) # 노드 개수  # 엣지 개수\n",
        "mylist = [[] for i in range(N+1)] # 엣지 데이터 저장 인접 리스트\n",
        "distance = [1000] * (N+1) # 거리 저장 리스트\n",
        "visited = [False] * (N+1) # 방문 여부 저장 리스트 \n",
        "\n",
        "for i in range(M):\n",
        "  start, end, weight = map(int,input().split())\n",
        "  mylist[start].append((end, weight))\n",
        "\n",
        "start_index, end_index = map(int, input().split())"
      ],
      "metadata": {
        "colab": {
          "base_uri": "https://localhost:8080/"
        },
        "id": "aVSTcpxvtuOW",
        "outputId": "cce2d259-e135-46ba-eed7-bc787e39aab8"
      },
      "execution_count": null,
      "outputs": [
        {
          "name": "stdout",
          "output_type": "stream",
          "text": [
            "5 8\n",
            "1 2 2\n",
            "1 3 3\n",
            "1 4 1\n",
            "1 5 10\n",
            "2 4 2\n",
            "3 4 1\n",
            "3 5 1\n",
            "4 5 3\n",
            "1 5\n"
          ]
        }
      ]
    },
    {
      "cell_type": "code",
      "source": [
        "def dijkstra(start, end):\n",
        "  pd = PriorityQueue() \n",
        "  pd.put((0, start)) #출발 노드를 우선순위 큐에 넣고 시작\n",
        "  distance[start] = 0 # 우선순위큐에 데이터를 최단 거리, 노드 순으로 삽입\n",
        "  while pd.qsize() > 0:\n",
        "    now_node = pd.get()\n",
        "    now = now_node[1]\n",
        "    if not visited[now]:\n",
        "      visited[now] = True\n",
        "      for next in mylist[now]:\n",
        "        if not visited[next[0]] and distance[next[0]] > (distance[now] + next[1]):\n",
        "          distance[next[0]] = distance[now] + next[1] # 타겟 노드의 최단거리 업데이트\n",
        "          pd.put((distance[next[0]], next[0])) # 타겟 노드 추가\n",
        "  return distance[end]\n",
        "\n",
        "print(dijkstra(start_index, end_index))"
      ],
      "metadata": {
        "colab": {
          "base_uri": "https://localhost:8080/"
        },
        "id": "SiAyGiQXuWIU",
        "outputId": "596a3ed8-41e0-4c54-e0df-ec4710ff06b1"
      },
      "execution_count": null,
      "outputs": [
        {
          "output_type": "stream",
          "name": "stdout",
          "text": [
            "4\n"
          ]
        }
      ]
    },
    {
      "cell_type": "markdown",
      "source": [
        "---\n",
        "# 3. [K 번째 최단 경로 찾기](https://www.acmicpc.net/problem/1854)\n",
        "---"
      ],
      "metadata": {
        "id": "j-mi0vUVv7om"
      }
    },
    {
      "cell_type": "code",
      "source": [
        "from queue import PriorityQueue\n",
        "\n",
        "N, M, K = map(int,input().split()) # 노드 개수 # 엣지 개수 # 몇 번째 최단 경로를 구할 것인지\n",
        "W = [[] for i in range(N+1)]\n",
        "distance = [[1000] * K for i in range(N+1)]\n",
        "\n",
        "for _ in range(M):\n",
        "  a, b, c = map(int, input().split()) # a도시 에서 b 도시로 갈 때 c의 시간이 걸림\n",
        "  W[a].append((b,c))\n",
        "\n",
        "pq = [(0,1)]  # 가중치가 우선이므로 (가중치, 노드) 순으로 설정\n",
        "distance[1][0] = 0"
      ],
      "metadata": {
        "colab": {
          "base_uri": "https://localhost:8080/"
        },
        "id": "AVPZaUWOvheV",
        "outputId": "ebf8ce3c-0483-442f-9034-57d5d984c7e9"
      },
      "execution_count": null,
      "outputs": [
        {
          "name": "stdout",
          "output_type": "stream",
          "text": [
            "5 10 2\n",
            "1 2 2\n",
            "1 3 7\n",
            "1 4 5\n",
            "1 5 6\n",
            "2 4 2\n",
            "2 3 4\n",
            "3 4 6\n",
            "3 5 8\n",
            "5 2 4\n",
            "5 4 1\n"
          ]
        }
      ]
    },
    {
      "cell_type": "code",
      "source": [
        "W"
      ],
      "metadata": {
        "colab": {
          "base_uri": "https://localhost:8080/"
        },
        "id": "rg_4kCWcxsmp",
        "outputId": "7fb75b26-7d2e-42ba-fa1e-1f5c8c84171e"
      },
      "execution_count": null,
      "outputs": [
        {
          "output_type": "execute_result",
          "data": {
            "text/plain": [
              "[[],\n",
              " [(2, 2), (3, 7), (4, 5), (5, 6)],\n",
              " [(4, 2), (3, 4)],\n",
              " [(4, 6), (5, 8)],\n",
              " [],\n",
              " [(2, 4), (4, 1)]]"
            ]
          },
          "metadata": {},
          "execution_count": 46
        }
      ]
    },
    {
      "cell_type": "code",
      "source": [
        "import heapq\n",
        "\n",
        "while pq:\n",
        "  cost, node = heapq.heappop(pq) # 우선순위 큐에서 데이터 가져오기 (거리, 노드)\n",
        "  for n_node, n_cost in W[node]: # 현재 노드에서 연결된 엣지 탐색\n",
        "    s_cost = cost + n_cost # 새로운 총 거리 = 현재 노드의 거리 + 엣지 가중치\n",
        "    if distance[n_node][K-1] > s_cost: # 새로운 노드의 K번째 최단거리가 > 새로운 총거리 보다 크다면 \n",
        "      distance[n_node][K-1] = s_cost # 최단 거리 업데이트 \n",
        "      distance[n_node].sort() # 거리 순으로 정렬\n",
        "      heapq.heappush(pq,[s_cost,n_node]) # 우선순위 큐에 새로운 데이터 추가 (거리, 노드)\n",
        "\n",
        "for i in range(1, N+1):\n",
        "  if distance[i][K-1] == 1000:\n",
        "    print(-1)\n",
        "  else:\n",
        "    print(distance[i][K-1])      "
      ],
      "metadata": {
        "colab": {
          "base_uri": "https://localhost:8080/"
        },
        "id": "5uuZDE5kw3Yv",
        "outputId": "793c2535-3c3b-40f0-c206-d366701906ca"
      },
      "execution_count": null,
      "outputs": [
        {
          "output_type": "stream",
          "name": "stdout",
          "text": [
            "-1\n",
            "10\n",
            "7\n",
            "5\n",
            "14\n"
          ]
        }
      ]
    },
    {
      "cell_type": "markdown",
      "source": [
        "---\n",
        "# 4. [타임머신으로 빨리가기](https://www.acmicpc.net/problem/11657)\n",
        "---"
      ],
      "metadata": {
        "id": "Zhz5V0PjQnl0"
      }
    },
    {
      "cell_type": "markdown",
      "source": [
        "#### 아이디어 = 벨만-포드 알고리즘 \n",
        "- 시작점에서 다른 노드와 관련된 최단거리를 구할 경우 + 엣지가 음수가 가능할 때 사용\n",
        "\n",
        "1. 엣지 리스트로 그래프를 구현하고 최단 경로 리스트 초기화\n",
        "2. 모든 엣지를 확인해 정답 리스트 업데이트\n",
        "3. 음수 사이클 유무 확인\n"
      ],
      "metadata": {
        "id": "snuHrOdSQ-7o"
      }
    },
    {
      "cell_type": "code",
      "source": [
        "N, M = map(int, input().split()) # 노드 개수 # 엣지 개수\n",
        "edges = []\n",
        "distance = [1000] * (N+1)\n",
        "\n",
        "for i in range(M):\n",
        "  start, end, time = map(int, input().split()) # 시작 도시 / 도착 도시 / 걸리는 시간 \n",
        "  edges.append((start, end, time))\n",
        "\n",
        "distance[1] = 0 # 출발 노드 0으로 초기화"
      ],
      "metadata": {
        "colab": {
          "base_uri": "https://localhost:8080/"
        },
        "id": "u6gJGthQQ-X2",
        "outputId": "f31f0c81-5501-477f-d7b8-eb5425492c49"
      },
      "execution_count": null,
      "outputs": [
        {
          "name": "stdout",
          "output_type": "stream",
          "text": [
            "3 4\n",
            "1 2 4\n",
            "1 3 3\n",
            "2 3 -4\n",
            "3 1 -2\n"
          ]
        }
      ]
    },
    {
      "cell_type": "code",
      "source": [
        "print(edges)\n",
        "print(distance)"
      ],
      "metadata": {
        "colab": {
          "base_uri": "https://localhost:8080/"
        },
        "id": "2wtrX0xgTiMG",
        "outputId": "2f57ad18-0a13-4c58-b6c8-29ceb93f29d8"
      },
      "execution_count": null,
      "outputs": [
        {
          "output_type": "stream",
          "name": "stdout",
          "text": [
            "[(1, 2, 4), (1, 3, 3), (2, 3, -4), (3, 1, -2)]\n",
            "[1000, 0, 1000, 1000]\n"
          ]
        }
      ]
    },
    {
      "cell_type": "code",
      "source": [
        "for _ in range(N-1):\n",
        "  for start, end, time in edges:\n",
        "    # 출발 노드가 무한대가 아니며, 종료 노드 값 > 출발 노드 + 경과시간 (가중치)\n",
        "    if distance[start] != (1000) and distance[end] > (distance[start] + time):\n",
        "      distance[end] = (distance[start] + time) # 업데이트\n",
        "      print(distance)\n",
        "# 음수 사이클 확인\n",
        "cycle = False\n",
        "\n",
        "for start, end, time in edges:\n",
        "  # 출발 노드가 무한대가 아니며, 종료 노드 값 > 출발 노드 + 경과시간 (가중치)\n",
        "  if distance[start] != (1000) and distance[end] > (distance[start] + time):\n",
        "    cycle = True\n",
        "\n",
        "if not cycle: # 음수가 존재하지 않으면 거리 리스트의 값 출력\n",
        "  for i in range(2, N+1):\n",
        "    if distance[i] != 1000:\n",
        "      print(distance[1])\n",
        "    else: # 거리 리스트의 값이 inf(1000)일 경우 -1 출력\n",
        "      print(-1)\n",
        "else: # 음수가 존재하면 -1 출력\n",
        "  print(-1)      "
      ],
      "metadata": {
        "colab": {
          "base_uri": "https://localhost:8080/"
        },
        "id": "xhCgoviSR_sa",
        "outputId": "94359cab-8cfa-43e1-e614-94b297e1fa6c"
      },
      "execution_count": null,
      "outputs": [
        {
          "output_type": "stream",
          "name": "stdout",
          "text": [
            "[1000, 0, 4, 1000]\n",
            "[1000, 0, 4, 3]\n",
            "[1000, 0, 4, 0]\n",
            "[1000, -2, 4, 0]\n",
            "[1000, -2, 2, 0]\n",
            "[1000, -2, 2, -2]\n",
            "[1000, -4, 2, -2]\n",
            "-1\n"
          ]
        }
      ]
    },
    {
      "cell_type": "markdown",
      "source": [
        "----\n",
        "# 5. [세일즈맨의 고민](https://www.acmicpc.net/problem/1219)\n",
        "----"
      ],
      "metadata": {
        "id": "mUcsC2TxWAgC"
      }
    },
    {
      "cell_type": "code",
      "source": [
        "N, start_city, end_city, M  = map(int, input().split()) # 노드개수 / 시작 도시 / 도착 도시 / 엣지 개수\n",
        "edges = []\n",
        "distance = [-1000] * N\n",
        "\n",
        "for _ in range(M):\n",
        "  start, end, price = map(int, input().split())\n",
        "  edges.append((start, end, price))\n",
        "\n",
        "city_money = list(map(int, input().split()))\n",
        "\n",
        "distance[start_city] = city_money[start_city]  # 출발 노드를 city_money[start_city]로 초기화\n",
        "\n"
      ],
      "metadata": {
        "colab": {
          "base_uri": "https://localhost:8080/"
        },
        "id": "ne5j4l3pVfvV",
        "outputId": "c703834e-7e9c-4872-8730-2560c4f7c7c4"
      },
      "execution_count": null,
      "outputs": [
        {
          "name": "stdout",
          "output_type": "stream",
          "text": [
            "2 0 1 2\n",
            "0 1 1000\n",
            "1 1 10\n",
            "11 11\n"
          ]
        }
      ]
    },
    {
      "cell_type": "code",
      "source": [
        "print(edges)\n",
        "print(distance)\n",
        "print(city_money)"
      ],
      "metadata": {
        "colab": {
          "base_uri": "https://localhost:8080/"
        },
        "id": "D4epLXf8Y48W",
        "outputId": "da3394d3-8e8d-467b-96ee-f6fe45c156b2"
      },
      "execution_count": null,
      "outputs": [
        {
          "output_type": "stream",
          "name": "stdout",
          "text": [
            "[(0, 1, 1000), (1, 1, 10)]\n",
            "[11, -1000]\n",
            "[11, 11]\n"
          ]
        }
      ]
    },
    {
      "cell_type": "code",
      "source": [
        "\n",
        "# 양수 사이클이 전파되도록 충분히 큰 수로 반복\n",
        "for i in range(N+101):\n",
        "  for start, end, price in edges:\n",
        "    # 출발 노드가 미방분 노드일 경우 skip\n",
        "    if distance[start] == -1000:\n",
        "      continue\n",
        "    # 출발 노드가 양수 사이클에 연결된 노드일 경우  \n",
        "    elif distance[start] == 1000:\n",
        "      distance[end] = 1000 # 업데이트\n",
        "    # 종료 노드의 값 < 출발 노드의 값 + 도착 도시의 수입 - 교통 수단의 가격(엣지의 가중치)  \n",
        "    elif distance[end] < distance[start] + city_money[end] - price:\n",
        "      distance[end] = distance[start] + city_money[end] - price # 업데이트\n",
        "      if i >= N-1:\n",
        "        distance[end] = 1000\n",
        "\n",
        "if distance[end_city] == -1000: # 도착 불가능 \n",
        "  print('gg')       \n",
        "elif distance[end_city] == 1000: # 양수 사이클 => 돈을 무한대로 벌 수 있는 경우\n",
        "  print('Gee')\n",
        "else:\n",
        "  print(distance[end_city])"
      ],
      "metadata": {
        "colab": {
          "base_uri": "https://localhost:8080/"
        },
        "id": "MwxCFpHeXI9F",
        "outputId": "bd8f7f2e-eaa6-4d5f-cd6b-ca1038ad4862"
      },
      "execution_count": null,
      "outputs": [
        {
          "output_type": "stream",
          "name": "stdout",
          "text": [
            "Gee\n"
          ]
        }
      ]
    },
    {
      "cell_type": "markdown",
      "source": [
        "---\n",
        "# 6. [가장 빠른 버스 노선 구하기](https://www.acmicpc.net/problem/11404)\n",
        "---"
      ],
      "metadata": {
        "id": "IIxPtYvzb5Br"
      }
    },
    {
      "cell_type": "markdown",
      "source": [
        "#### 아이디어 = 플로이드-워셜 \n",
        "\n",
        "- 그래프에서 최단 거리를 구하는 알고리즘\n",
        "- A노드, B노드, A와B노드 사이에 있는 노드 K가 있을 경우   \n",
        "  A-B 최단거리 = A-k 최단거리 + K-B 최단거리\n",
        "\n",
        "1. 리스트를 선언하고 초기화\n",
        "2. 최단 거리 리스트에 그래프 데이터 저장 (그래프를 인접 행렬로 표현)\n",
        "3. 점화식으로 리스트 업데이트  "
      ],
      "metadata": {
        "id": "x68NQvwkb_au"
      }
    },
    {
      "cell_type": "code",
      "source": [
        "N = int(input()) # 도시 개수\n",
        "M = int(input()) # 노선 개수\n",
        "distance = [[100 for i in range(N+1)] for j in range(N+1)]  # 사각 행렬 생성\n",
        "\n",
        "# 인접 행렬 초기화 == 자기 자신으로 가는 거리는 0\n",
        "for i in range(1, N+1):\n",
        "  distance[i][i] = 0\n",
        "\n",
        "# 노선 데이터를 사각(distance) 행렬에 저장\n",
        "for i in range(M):\n",
        "  s, e, v = map(int, input().split())\n",
        "  if distance[s][e] > v:\n",
        "    distance[s][e] = v"
      ],
      "metadata": {
        "colab": {
          "base_uri": "https://localhost:8080/"
        },
        "id": "Cx0tBzDWZugz",
        "outputId": "93857253-d49c-4b05-eba9-2ad1ba670b92"
      },
      "execution_count": null,
      "outputs": [
        {
          "name": "stdout",
          "output_type": "stream",
          "text": [
            "5\n",
            "14\n",
            "1 2 2\n",
            "1 3 3\n",
            "1 4 1\n",
            "1 5 10\n",
            "2 4 2\n",
            "3 4 1\n",
            "3 5 1\n",
            "4 5 3\n",
            "3 5 10\n",
            "3 1 8\n",
            "1 4 2\n",
            "5 1 7\n",
            "3 4 2\n",
            "5 2 4\n"
          ]
        }
      ]
    },
    {
      "cell_type": "code",
      "source": [
        "distance"
      ],
      "metadata": {
        "colab": {
          "base_uri": "https://localhost:8080/"
        },
        "id": "VWNeIz7pdShE",
        "outputId": "355c9121-83df-41cb-8214-d3c32baae77b"
      },
      "execution_count": null,
      "outputs": [
        {
          "output_type": "execute_result",
          "data": {
            "text/plain": [
              "[[100, 100, 100, 100, 100, 100],\n",
              " [100, 0, 2, 3, 1, 10],\n",
              " [100, 100, 0, 100, 2, 100],\n",
              " [100, 8, 100, 0, 1, 1],\n",
              " [100, 100, 100, 100, 0, 3],\n",
              " [100, 7, 4, 100, 100, 0]]"
            ]
          },
          "metadata": {},
          "execution_count": 31
        }
      ]
    },
    {
      "cell_type": "code",
      "source": [
        "# 플로이드-워셜 수행\n",
        "for k in range(1, N+1):\n",
        "  for i in range(1, N+1):\n",
        "    for j in range(1, N+1):\n",
        "      if distance[i][j] > distance[i][k] + distance[k][j]:\n",
        "        distance[i][j] = distance[i][k] + distance[k][j]\n",
        "\n",
        "for i in range(1, N+1):\n",
        "  for j in range(1, N+1):\n",
        "    if distance[i][j] == 1000:\n",
        "      print(0, end = ' ')\n",
        "    else:\n",
        "      print(distance[i][j], end = ' ')\n",
        "  print() # 줄바꿈"
      ],
      "metadata": {
        "colab": {
          "base_uri": "https://localhost:8080/"
        },
        "id": "P8yY_WjIddgr",
        "outputId": "842a0867-f3ae-44ec-86c3-45e4f7bf3dfb"
      },
      "execution_count": null,
      "outputs": [
        {
          "output_type": "stream",
          "name": "stdout",
          "text": [
            "0 2 3 1 4 \n",
            "12 0 15 2 5 \n",
            "8 5 0 1 1 \n",
            "10 7 13 0 3 \n",
            "7 4 10 6 0 \n"
          ]
        }
      ]
    },
    {
      "cell_type": "markdown",
      "source": [
        "---\n",
        "# 7. [경로 찾기](https://www.acmicpc.net/problem/11403)\n",
        "---"
      ],
      "metadata": {
        "id": "J-tg6lcWeWFG"
      }
    },
    {
      "cell_type": "code",
      "source": [
        "N = int(input())\n",
        "distance = [[0 for i in range(N)] for j in range(N)]\n",
        "\n",
        "for i in range(N):\n",
        "  distance[i] = list(map(int, input().split()))"
      ],
      "metadata": {
        "colab": {
          "base_uri": "https://localhost:8080/"
        },
        "id": "CIQHbDk1eGMu",
        "outputId": "d251790c-8c15-4d29-ae83-9ada78ce36d9"
      },
      "execution_count": null,
      "outputs": [
        {
          "name": "stdout",
          "output_type": "stream",
          "text": [
            "3\n",
            "0 1 0 \n",
            "0 0 1\n",
            "1 0 0\n"
          ]
        }
      ]
    },
    {
      "cell_type": "code",
      "source": [
        "distance"
      ],
      "metadata": {
        "colab": {
          "base_uri": "https://localhost:8080/"
        },
        "id": "By0PlpO1godF",
        "outputId": "7f44105f-fd45-4368-cb37-cf6d43fe9aba"
      },
      "execution_count": null,
      "outputs": [
        {
          "output_type": "execute_result",
          "data": {
            "text/plain": [
              "[[0, 1, 0], [0, 0, 1], [1, 0, 0]]"
            ]
          },
          "metadata": {},
          "execution_count": 46
        }
      ]
    },
    {
      "cell_type": "code",
      "source": [
        "# 변형된 플로아드-워셜 수행 == S와 E가 모든 중간 경로(K) 중 1개라도 연결되어 있다면 연결 노드로 저장 \n",
        "for k in range(N):\n",
        "  for i in range(N):\n",
        "    for j in range(N):\n",
        "      if distance[i][k] == 1 and distance[k][j] == 1:\n",
        "        distance[i][j] = 1\n",
        "\n",
        "for i in range(N):\n",
        "  for j in range(N):\n",
        "    print(distance[i][j], end= ' ')\n",
        "  print() # 줄바꿈"
      ],
      "metadata": {
        "colab": {
          "base_uri": "https://localhost:8080/"
        },
        "id": "6oysccJ0fnhg",
        "outputId": "0c06b7e9-5b75-45f4-d680-979cb4d3b5cc"
      },
      "execution_count": null,
      "outputs": [
        {
          "output_type": "stream",
          "name": "stdout",
          "text": [
            "1 1 1 \n",
            "1 1 1 \n",
            "1 1 1 \n"
          ]
        }
      ]
    },
    {
      "cell_type": "markdown",
      "source": [
        "---\n",
        "# 8. [케빈 베이컨의 6단계 법칙](https://www.acmicpc.net/problem/1389)\n",
        "---"
      ],
      "metadata": {
        "id": "j6qj2_-shzF-"
      }
    },
    {
      "cell_type": "code",
      "source": [
        "N,M = map(int,input().split()) # 유저 수 / 친구 관계 수\n",
        "distance = [[1000 for i in range(N+1)] for j in range(N+1)] \n",
        "\n",
        "for i in range(1, N+1): # 인접행렬 초기화\n",
        "  distance[i][i] = 0\n",
        "\n",
        "for i in range(M):\n",
        "  s,e = map(int,input().split())\n",
        "  distance[s][e] = 1  # 양방향 엣지로 설정하기 위해 \n",
        "  distance[e][s] = 1"
      ],
      "metadata": {
        "id": "LyfPhPT6ge8q",
        "colab": {
          "base_uri": "https://localhost:8080/"
        },
        "outputId": "90429cdf-6488-4173-f616-766c30970d8d"
      },
      "execution_count": 2,
      "outputs": [
        {
          "name": "stdout",
          "output_type": "stream",
          "text": [
            "5 5\n",
            "1 3\n",
            "1 4\n",
            "4 5\n",
            "4 3\n",
            "3 2\n"
          ]
        }
      ]
    },
    {
      "cell_type": "code",
      "source": [
        "from tempfile import template\n",
        "for k in range(1, N+1):\n",
        "  for i in range(1, N+1):\n",
        "    for j in range(1, N+1):\n",
        "      if distance[i][j] > distance[i][k] + distance[k][j]:\n",
        "        distance[i][j] = distance[i][k] + distance[k][j]\n",
        "\n",
        "min = 1000\n",
        "answer = -1 \n",
        "\n",
        "for i in range(1, N+1):\n",
        "  temp = 0\n",
        "  for j in range(1, N+1):\n",
        "    temp += distance[i][j]\n",
        "  if min > temp:\n",
        "    min = temp\n",
        "    answer = i\n",
        "\n",
        "print(answer)"
      ],
      "metadata": {
        "colab": {
          "base_uri": "https://localhost:8080/"
        },
        "id": "D7s8iMyQiexB",
        "outputId": "a65bd04d-7a49-447c-a642-d657d34feb95"
      },
      "execution_count": 3,
      "outputs": [
        {
          "output_type": "stream",
          "name": "stdout",
          "text": [
            "3\n"
          ]
        }
      ]
    }
  ]
}