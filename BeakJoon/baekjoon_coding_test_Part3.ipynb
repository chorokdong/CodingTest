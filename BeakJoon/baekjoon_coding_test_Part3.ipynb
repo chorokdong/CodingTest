{
  "nbformat": 4,
  "nbformat_minor": 0,
  "metadata": {
    "colab": {
      "provenance": []
    },
    "kernelspec": {
      "name": "python3",
      "display_name": "Python 3"
    },
    "language_info": {
      "name": "python"
    }
  },
  "cells": [
    {
      "cell_type": "markdown",
      "source": [
        "---\n",
        "# 1. [수 정렬하기](https://www.acmicpc.net/problem/2750)\n",
        "----"
      ],
      "metadata": {
        "id": "AQR3-wTurELK"
      }
    },
    {
      "cell_type": "markdown",
      "source": [
        "### 아이디어 == 버블 정렬"
      ],
      "metadata": {
        "id": "7DJPev3KrL96"
      }
    },
    {
      "cell_type": "code",
      "execution_count": null,
      "metadata": {
        "colab": {
          "base_uri": "https://localhost:8080/"
        },
        "id": "1Rp4kMS5rCtT",
        "outputId": "5afccf78-5211-4237-9707-a67f02c2cf19"
      },
      "outputs": [
        {
          "name": "stdout",
          "output_type": "stream",
          "text": [
            "5\n",
            "5\n",
            "2\n",
            "3\n",
            "4\n",
            "1\n"
          ]
        }
      ],
      "source": [
        "N = int(input())\n",
        "A = [0] * N\n",
        "\n",
        "for i in range(N):\n",
        "  A[i] = int(input())"
      ]
    },
    {
      "cell_type": "code",
      "source": [
        "for i in range(N-1):\n",
        "  for j in range(N-1-i): # 뒷 부분에 정렬된 데이터를 빼기 위해\n",
        "    if A[j] > A[j+1]:\n",
        "      value = A[j]\n",
        "      A[j] = A[j+1]\n",
        "      A[j+1] = value\n",
        "\n",
        "for i in range(N):\n",
        "  print(A[i])"
      ],
      "metadata": {
        "colab": {
          "base_uri": "https://localhost:8080/"
        },
        "id": "UNYo5fL6sXco",
        "outputId": "4ef7cc54-383c-4a71-9d60-32c4dbed6322"
      },
      "execution_count": null,
      "outputs": [
        {
          "output_type": "stream",
          "name": "stdout",
          "text": [
            "1\n",
            "2\n",
            "3\n",
            "4\n",
            "5\n"
          ]
        }
      ]
    },
    {
      "cell_type": "markdown",
      "source": [
        "---\n",
        "# 2. [버블 정렬 프로그램](https://www.acmicpc.net/problem/1377)\n",
        "---"
      ],
      "metadata": {
        "id": "Ys6HfY1Jtv1b"
      }
    },
    {
      "cell_type": "markdown",
      "source": [
        "### 아이디어 == 루프를 돌 동안 버블 정렬이 일어나지 않은 루프의 수를 찾기\n",
        "\n",
        "\n",
        "버블정렬은 기본적으로 Sweap을 하면서 우측 이동을 진행\n",
        "\n",
        "반대로보면, 특정 값이 정렬된 본인 자리를 찾아가기 위해서는 루프당 1자리씩 이동을 하게 됨\n",
        "\n",
        "즉, 가장 많이 이동을 한 값의 수가 루프를 반복한 횟수가 됨\n",
        "\n",
        "그렇다면 어떻게 찾아낼 것인가?\n",
        "\n",
        "데이터 정렬 전 index와 정렬 후 index의 빼기를 통해 왼쪽으로 가장 많이 이동한 값을 찾고 반복문이 한 번 더 실행되는 것을 감안해 1을 더해서 계산\n"
      ],
      "metadata": {
        "id": "x5VoHmVEvWZ2"
      }
    },
    {
      "cell_type": "code",
      "source": [
        "N = int(input())\n",
        "A = []\n",
        "\n",
        "for i in range(N):\n",
        "  A.append((int(input()), i))"
      ],
      "metadata": {
        "colab": {
          "base_uri": "https://localhost:8080/"
        },
        "id": "JpNFr3yWtTRB",
        "outputId": "49584d17-90c8-4ad6-f2b8-1cd3bf2a154b"
      },
      "execution_count": null,
      "outputs": [
        {
          "name": "stdout",
          "output_type": "stream",
          "text": [
            "5\n",
            "10\n",
            "1\n",
            "5\n",
            "2\n",
            "3\n"
          ]
        }
      ]
    },
    {
      "cell_type": "code",
      "source": [
        "A_sort = sorted(A)\n",
        "\n",
        "max = 0\n",
        "for i in range(N):\n",
        "  value = A_sort[i][1] - A[i][1]\n",
        "  if value > max:\n",
        "    max = value\n",
        "\n",
        "print(max + 1)"
      ],
      "metadata": {
        "colab": {
          "base_uri": "https://localhost:8080/"
        },
        "id": "HVdaxxzaxl-e",
        "outputId": "ab8850e6-1734-4318-d611-4573f3333e5c"
      },
      "execution_count": null,
      "outputs": [
        {
          "output_type": "stream",
          "name": "stdout",
          "text": [
            "3\n"
          ]
        }
      ]
    },
    {
      "cell_type": "markdown",
      "source": [
        "---\n",
        "# 3. [내림차순으로 자리수 정렬하기](https://www.acmicpc.net/problem/1427)\n",
        "---"
      ],
      "metadata": {
        "id": "nSp0Q6tI09AP"
      }
    },
    {
      "cell_type": "code",
      "source": [
        "A = list(input())\n",
        "\n",
        "for i in range(len(A)):\n",
        "  Max = i\n",
        "  for j in range(i+1, len(A)):\n",
        "    if A[j] > A[Max]:\n",
        "      Max = j\n",
        "  if A[i] < A[Max]:    \n",
        "    value = A[i]\n",
        "    A[i] = A[Max]\n",
        "    A[Max] = value\n",
        "\n",
        "for i in range(len(A)):\n",
        "  print(A[i])"
      ],
      "metadata": {
        "colab": {
          "base_uri": "https://localhost:8080/"
        },
        "id": "CCaqtntOyQKO",
        "outputId": "4220feeb-0844-4493-b02c-909ef776f663"
      },
      "execution_count": null,
      "outputs": [
        {
          "output_type": "stream",
          "name": "stdout",
          "text": [
            "2143\n",
            "4\n",
            "3\n",
            "2\n",
            "1\n"
          ]
        }
      ]
    },
    {
      "cell_type": "markdown",
      "source": [
        "---\n",
        "# 4. [ATM 인출 시간 계산하기](https://www.acmicpc.net/problem/11399)\n",
        "----"
      ],
      "metadata": {
        "id": "pg7ZAIUWhvoX"
      }
    },
    {
      "cell_type": "markdown",
      "source": [
        "### 아이디어 == 삽입 정렬 \n",
        "\n",
        "인출 시간의 최소값을 찾으라는 문제는 오름차순 정렬을 뜻"
      ],
      "metadata": {
        "id": "v3JTuu6Hh7bN"
      }
    },
    {
      "cell_type": "code",
      "source": [
        "N = int(input())\n",
        "S = [0] * N\n",
        "A = list(map(int,input().split()))"
      ],
      "metadata": {
        "id": "mw06QhzU2i6u",
        "colab": {
          "base_uri": "https://localhost:8080/"
        },
        "outputId": "9b4869f1-464d-478c-8921-d789fc60e891"
      },
      "execution_count": null,
      "outputs": [
        {
          "name": "stdout",
          "output_type": "stream",
          "text": [
            "5 \n",
            "3 1 4 3 2\n"
          ]
        }
      ]
    },
    {
      "cell_type": "code",
      "source": [
        "# 삽입 정렬\n",
        "for i in range(1,N):\n",
        "  insert_point = i\n",
        "  insert_value = A[i]\n",
        "  for j in range(i-1,-1,-1):\n",
        "    if A[j] < A[i]:\n",
        "      insert_point = j + 1\n",
        "      break\n",
        "    if j == 0:\n",
        "      insert_point = 0\n",
        "  for k in range(i, insert_point, -1):\n",
        "    A[k] = A[k-1]\n",
        "  A[insert_point] = insert_value\n",
        "\n",
        "print(A)\n",
        "S[0] = A[0]\n",
        "\n",
        "for i in range(1,N):\n",
        "  S[i] = S[i-1] + A[i]\n",
        "\n",
        "sum = 0\n",
        "for i in range(N):\n",
        "  sum += S[i]\n",
        "\n",
        "print(sum)"
      ],
      "metadata": {
        "colab": {
          "base_uri": "https://localhost:8080/"
        },
        "id": "WSRfANVUjC_k",
        "outputId": "7eb55467-eb97-4555-ad2a-f1612d62b612"
      },
      "execution_count": null,
      "outputs": [
        {
          "output_type": "stream",
          "name": "stdout",
          "text": [
            "[1, 2, 3, 3, 4]\n",
            "32\n"
          ]
        }
      ]
    },
    {
      "cell_type": "code",
      "source": [
        "# 구간합을 이용한 계산\n",
        "A.sort()\n",
        "S[0] = A[0]\n",
        "\n",
        "for i in range(1, len(A)):\n",
        "  S[i] = A[i] + S[i-1]\n",
        "\n",
        "value = 0\n",
        "for i in range(len(S)):\n",
        "  value += S[i]\n",
        "\n",
        "print(value)"
      ],
      "metadata": {
        "colab": {
          "base_uri": "https://localhost:8080/"
        },
        "id": "Mwc8Yf_Ti2Te",
        "outputId": "ebddc76c-4926-4b3a-efaf-9e172cd1fdd5"
      },
      "execution_count": null,
      "outputs": [
        {
          "output_type": "stream",
          "name": "stdout",
          "text": [
            "32\n"
          ]
        }
      ]
    },
    {
      "cell_type": "markdown",
      "source": [
        "---\n",
        "# 5. [수 정렬하기 2](https://www.acmicpc.net/problem/2751)\n",
        "---"
      ],
      "metadata": {
        "id": "gZkKROfpm7VW"
      }
    },
    {
      "cell_type": "markdown",
      "source": [
        "### 아이디어 == 병합 정렬"
      ],
      "metadata": {
        "id": "NfZwW1Cvxvfp"
      }
    },
    {
      "cell_type": "code",
      "source": [
        "N = int(input())\n",
        "A = [0] * int(N + 1)\n",
        "tmp = [0] * int(N + 1)\n",
        "\n",
        "for i in range(1, N+1):\n",
        "  A[i] = int(input())"
      ],
      "metadata": {
        "colab": {
          "base_uri": "https://localhost:8080/"
        },
        "id": "ak7qdTQ8zBAp",
        "outputId": "877f282b-fef2-4df3-d22b-87bd71bbc362"
      },
      "execution_count": null,
      "outputs": [
        {
          "name": "stdout",
          "output_type": "stream",
          "text": [
            "5\n",
            "5\n",
            "4\n",
            "3\n",
            "2\n",
            "1\n"
          ]
        }
      ]
    },
    {
      "cell_type": "code",
      "source": [
        "def merge_sort(s,e): # s = 시작점 / e = 종료점\n",
        "  global result \n",
        "  if e-s < 1 : # 재귀로 반복했을 때 더이상 자를수 없을 경우 return\n",
        "    return\n",
        "  m = int(s + (e-s) / 2) # 절반 자르기 \n",
        "\n",
        "  merge_sort(s,m) # 재귀를 위해서 다시 가져옴 (자른거 앞 부분)\n",
        "  merge_sort(m+1 , e) # 재귀를 위해서 다시 가져옴 (자른거 뒤 부분)\n",
        "\n",
        "  for i in range(s, e+1): #tmp에 A 데이터를 복사\n",
        "    tmp[i] = A[i]\n",
        "\n",
        "  #### 재귀로 인해 최소 단위로 잘라진 값들이 모두 정렬이 된 상태 (위 코드를 돌았을 경우)\n",
        "\n",
        "  k = s # A배열에서 어느 위치에 들어가야 하는지 나태나는 원본 index값\n",
        "  index1 = s # 첫 번째 그룹의 시작점\n",
        "  index2 = m + 1 # 2번째 그룹의 시작점 \n",
        "\n",
        "  # 두 그룹을 합쳐주는 logit\n",
        "  while (index1 <= m) & (index2 <= e) : \n",
        "    if tmp[index1] > tmp[index2]: # 앞 그룹의 데이터와 뒤 그룹의 데이터를 비교 \n",
        "                                  # 뒤 그룹의 index2의 값이 작다면?\n",
        "      A[k] = tmp[index2] # 앞그룹으로 이동 \n",
        "      \n",
        "      # 위 코드로 인해 뒤 그룹의 index2의 값이 k 자리로 올바르게 이동 했기 때문에 다음 값을 살펴보기 위해 k와 index2에 1씩 더해 준다.\n",
        "      k += 1 \n",
        "      index2 += 1 \n",
        "    else : # 앞 그룹의 index1의 값이 작다면?\n",
        "      A[k] = tmp[index1] \n",
        "      \n",
        "      # 마찬가지로 앞 그룹의 index21의 값이 k 자리로 올바르게 이동 했기 때문에 다음 값을 살펴보기 위해 k와 index1에 1씩 더해 준다.\n",
        "      k += 1\n",
        "      index1 += 1\n",
        "\n",
        "  while index1 <= m: # 만약 뒤 그룹이 다 정렬이 되어서 앞 그룹이 붕 떴을 경우 해결하는 Code\n",
        "                     # 즉, index1이 m 보다 크게 될 경우\n",
        "    A[k] = tmp[index1]\n",
        "    k += 1\n",
        "    index1 += 1\n",
        "\n",
        "  while index2 <= e: # 만약 앞 그룹이 다 정렬이 되어서 앞 그룹이 붕 떴을 경우 해결하는 Code\n",
        "                     # 즉, index2가 e 보다 크게 될 경우\n",
        "    A[k] = tmp[index2]\n",
        "    k += 1\n",
        "    index2 += 1\n",
        "\n",
        "merge_sort(1,N)\n",
        "\n",
        "for i in range(1, N + 1):\n",
        "  print(str(A[i]) + '\\n')"
      ],
      "metadata": {
        "colab": {
          "base_uri": "https://localhost:8080/"
        },
        "id": "K3hmG28OsxFa",
        "outputId": "f41d7a35-9351-40a8-c8f2-c532c2f950ab"
      },
      "execution_count": null,
      "outputs": [
        {
          "output_type": "stream",
          "name": "stdout",
          "text": [
            "1\n",
            "\n",
            "2\n",
            "\n",
            "3\n",
            "\n",
            "4\n",
            "\n",
            "5\n",
            "\n"
          ]
        }
      ]
    },
    {
      "cell_type": "markdown",
      "source": [
        "---\n",
        "# 6. [버블 정렬 프로그램 2](https://www.acmicpc.net/problem/1517)\n",
        "---"
      ],
      "metadata": {
        "id": "1fvD0zMDe5zS"
      }
    },
    {
      "cell_type": "markdown",
      "source": [
        "### 아이디어 == swap을 몇 번 해야 하는가는 본래 값의 위치와 변동 값의 위치에서 앞에 몇개의 데이터가 남아있는가로 계산할 수 있음"
      ],
      "metadata": {
        "id": "JshoJswam5JA"
      }
    },
    {
      "cell_type": "code",
      "source": [
        "N = int(input())\n",
        "A = list(map(int,input().split()))\n",
        "A.insert(0,0) # 시작값의 index를 0이 아닌 1로 시작하고자 삽입\n",
        "tmp = [0] * int(N + 1) # 앞에서 0번째 index를 넣어주었기 때문에 N + 1\n",
        "result = 0"
      ],
      "metadata": {
        "colab": {
          "base_uri": "https://localhost:8080/"
        },
        "id": "Ze5AJhH_fBj3",
        "outputId": "35262c39-de92-42ee-c74e-5b27d9a85769"
      },
      "execution_count": null,
      "outputs": [
        {
          "name": "stdout",
          "output_type": "stream",
          "text": [
            "8\n",
            "3 2 8 1 7 4 5 6\n"
          ]
        }
      ]
    },
    {
      "cell_type": "code",
      "source": [
        "def merge_sort(s,e): # s = 시작점 / e = 종료점\n",
        "  global result \n",
        "  if e-s < 1 : # 재귀로 반복했을 때 더이상 자를수 없을 경우 return\n",
        "    return\n",
        "  m = int(s + (e-s) / 2) # 절반 자르기 \n",
        "\n",
        "  merge_sort(s,m) # 재귀를 위해서 다시 가져옴 (자른거 앞 부분)\n",
        "  merge_sort(m+1 , e) # 재귀를 위해서 다시 가져옴 (자른거 뒤 부분)\n",
        "\n",
        "  for i in range(s, e+1): #tmp에 A 데이터를 복사\n",
        "    tmp[i] = A[i]\n",
        "\n",
        "  #### 재귀로 인해 최소 단위로 잘라진 값들이 모두 정렬이 된 상태 (위 코드를 돌았을 경우)\n",
        "\n",
        "  k = s # A배열에서 어느 위치에 들어가야 하는지 나태나는 원본 index값\n",
        "  index1 = s # 첫 번째 그룹의 시작점\n",
        "  index2 = m + 1 # 2번째 그룹의 시작점 \n",
        "\n",
        "  # 두 그룹을 합쳐주는 logit\n",
        "  while (index1 <= m) & (index2 <= e) : \n",
        "    if tmp[index1] > tmp[index2]: # 앞 그룹의 데이터와 뒤 그룹의 데이터를 비교 \n",
        "                                  # 뒤 그룹의 index2의 값이 작다면?\n",
        "      A[k] = tmp[index2] # 앞그룹으로 이동 \n",
        "      result = result + index2 - k # Swap의 수를 count\n",
        "                                   # index2의 위치에서 현재 k의 값을 뺸다면 => 현재 앞에 남아있는 데아터의 개수\n",
        "      \n",
        "      # 위 코드로 인해 뒤 그룹의 index2의 값이 k 자리로 올바르게 이동 했기 때문에 다음 값을 살펴보기 위해 k와 index2에 1씩 더해 준다.\n",
        "      k += 1 \n",
        "      index2 += 1 \n",
        "    else : # 앞 그룹의 index1의 값이 작다면?\n",
        "      A[k] = tmp[index1] \n",
        "      \n",
        "      # 마찬가지로 앞 그룹의 index21의 값이 k 자리로 올바르게 이동 했기 때문에 다음 값을 살펴보기 위해 k와 index1에 1씩 더해 준다.\n",
        "      k += 1\n",
        "      index1 += 1\n",
        "\n",
        "  while index1 <= m: # 만약 뒤 그룹이 다 정렬이 되어서 앞 그룹이 붕 떴을 경우 해결하는 Code\n",
        "                     # 즉, index1이 m 보다 크게 될 경우\n",
        "    A[k] = tmp[index1]\n",
        "    k += 1\n",
        "    index1 += 1\n",
        "\n",
        "  while index2 <= e: # 만약 앞 그룹이 다 정렬이 되어서 앞 그룹이 붕 떴을 경우 해결하는 Code\n",
        "                     # 즉, index2가 e 보다 크게 될 경우\n",
        "    A[k] = tmp[index2]\n",
        "    k += 1\n",
        "    index2 += 1\n",
        "\n",
        "merge_sort(1,N)\n",
        "\n",
        "print(result)"
      ],
      "metadata": {
        "colab": {
          "base_uri": "https://localhost:8080/"
        },
        "id": "qySr7IjxfySB",
        "outputId": "1922e495-12d7-4538-950a-edd1ce88f7c3"
      },
      "execution_count": null,
      "outputs": [
        {
          "output_type": "stream",
          "name": "stdout",
          "text": [
            "11\n"
          ]
        }
      ]
    },
    {
      "cell_type": "markdown",
      "source": [
        "---\n",
        "# 7. [수 정렬하기 3](https://www.acmicpc.net/problem/10989)\n",
        "----"
      ],
      "metadata": {
        "id": "JFsfbZhOrEoC"
      }
    },
    {
      "cell_type": "markdown",
      "source": [
        "### 아이디어 == 기수 정렬\n",
        "\n",
        "1. 제한된 숫자 크기의 리스트를 생성\n",
        "2. 입력 받은 값을 리스트의 인덱스 값으로 사용하여 해당하는 값에 1씩 증가\n",
        "3. 반복문을 돌면서 리스트의 값이 0이 아닌 값을 순서대로 출력\n",
        "\n",
        "#### 기수 정렬 핵심 이론\n",
        "- 10개의 큐를 사용   \n",
        "\n",
        "2자리수 정렬의 경우   \n",
        "1차적으로 일의 자리수를 기준으로 10개의 큐에 정렬  \n",
        "1차 정렬된 데이터를 다시 십의 자리수 기준으로 10개의 큐에 재정렬 "
      ],
      "metadata": {
        "id": "ZUWuefOyrSm7"
      }
    },
    {
      "cell_type": "code",
      "source": [
        "N = int(input())\n",
        "A = list(map(int,input().split()))\n",
        "count = [0] * 10001 # 문제에서 제시된 자리수 보다 하나 크게 설정 \n"
      ],
      "metadata": {
        "colab": {
          "base_uri": "https://localhost:8080/"
        },
        "id": "gbhykILlrPjs",
        "outputId": "7a244c4e-67de-4063-d3d7-7929f4011c9e"
      },
      "execution_count": null,
      "outputs": [
        {
          "name": "stdout",
          "output_type": "stream",
          "text": [
            "11\n",
            "215 15 344 372 294 100 8 145 24 198 831\n"
          ]
        }
      ]
    },
    {
      "cell_type": "code",
      "source": [
        "for i in range(N):\n",
        "  count[A[i]] += 1\n",
        "\n",
        "for i in range(len(count)):\n",
        "  if count[i] != 0:\n",
        "    print(i, end = '\\n')"
      ],
      "metadata": {
        "colab": {
          "base_uri": "https://localhost:8080/"
        },
        "id": "mnl_tLJEszGX",
        "outputId": "93d3e52c-0720-4e6d-8e37-4848cf49c190"
      },
      "execution_count": null,
      "outputs": [
        {
          "output_type": "stream",
          "name": "stdout",
          "text": [
            "8\n",
            "15\n",
            "24\n",
            "100\n",
            "145\n",
            "198\n",
            "215\n",
            "294\n",
            "344\n",
            "372\n",
            "831\n"
          ]
        }
      ]
    },
    {
      "cell_type": "markdown",
      "source": [
        "---\n",
        "# 8. [연결 요소의 개수 구하기](https://www.acmicpc.net/problem/11724)\n",
        "---\n",
        "\n"
      ],
      "metadata": {
        "id": "7q0BEg0CvsKB"
      }
    },
    {
      "cell_type": "markdown",
      "source": [
        "### 아이디어 == 깊이 우선 탐색(DFS)(스택 활용)"
      ],
      "metadata": {
        "id": "GU3dGqGMv0En"
      }
    },
    {
      "cell_type": "code",
      "source": [
        "N, M = map(int, input().split())\n",
        "A = [[] for i in range(N+1)] # index 시작값을 1부터 시작하기 위헤 N+1 사용\n",
        "visited = [False] * (N+1) # 방문 확인용 bool 리스트"
      ],
      "metadata": {
        "colab": {
          "base_uri": "https://localhost:8080/"
        },
        "id": "4eFH8HgotVFH",
        "outputId": "9685f0eb-2c5b-48fc-8d38-3707db0e0f94"
      },
      "execution_count": null,
      "outputs": [
        {
          "name": "stdout",
          "output_type": "stream",
          "text": [
            "6 5\n"
          ]
        }
      ]
    },
    {
      "cell_type": "code",
      "source": [
        "print(A)\n",
        "print(visited)"
      ],
      "metadata": {
        "colab": {
          "base_uri": "https://localhost:8080/"
        },
        "id": "3vIhqaNsxNiw",
        "outputId": "cdddbd96-f823-4014-ca43-605e164cb65c"
      },
      "execution_count": null,
      "outputs": [
        {
          "output_type": "stream",
          "name": "stdout",
          "text": [
            "[[], [], [], [], [], [], []]\n",
            "[False, False, False, False, False, False, False]\n"
          ]
        }
      ]
    },
    {
      "cell_type": "code",
      "source": [
        "def DFS(v):\n",
        "  visited[v] = True # 방문한 곳은 True로 변경\n",
        "  print('방문 변경 과정 보기: ',visited)\n",
        "  for i in A[v]: # 여러개의 값이 있다면 모두 방문하기 위해 for문 사용\n",
        "    if not visited[i]: # 방문하지 않았다면 \n",
        "      DFS(i) # 해당 값 방문 \n",
        "\n",
        "\n",
        "for _ in range(M):\n",
        "  s , e = map(int, input().split())\n",
        "  # 양방향 엣지 이므로 양쪽에 더하기\n",
        "  A[s].append(e)\n",
        "  A[e].append(s)"
      ],
      "metadata": {
        "colab": {
          "base_uri": "https://localhost:8080/"
        },
        "id": "RDKC7zs8wex8",
        "outputId": "31c6e1f6-bbd4-4151-8e20-65145885c390"
      },
      "execution_count": null,
      "outputs": [
        {
          "name": "stdout",
          "output_type": "stream",
          "text": [
            "1 2\n",
            "2 5\n",
            "5 1\n",
            "3 4\n",
            "4 6\n"
          ]
        }
      ]
    },
    {
      "cell_type": "code",
      "source": [
        "A"
      ],
      "metadata": {
        "colab": {
          "base_uri": "https://localhost:8080/"
        },
        "id": "evW-wrhOwhmJ",
        "outputId": "67a1fce1-8b16-41f0-9c8a-84d7ec419064"
      },
      "execution_count": null,
      "outputs": [
        {
          "output_type": "execute_result",
          "data": {
            "text/plain": [
              "[[], [2, 5], [1, 5], [4], [3, 6], [2, 1], [4]]"
            ]
          },
          "metadata": {},
          "execution_count": 27
        }
      ]
    },
    {
      "cell_type": "code",
      "source": [
        "count = 0\n",
        "\n",
        "for i in range(1, N+1):\n",
        "  if not visited[i]: # 방문하지 않은 노드 탐색\n",
        "    count += 1\n",
        "    DFS(i)\n",
        "\n",
        "print('연결 요소의 개수:', count)"
      ],
      "metadata": {
        "colab": {
          "base_uri": "https://localhost:8080/"
        },
        "id": "uz4axvjswiAm",
        "outputId": "9a3e071c-0723-4358-e980-ca6bddae0974"
      },
      "execution_count": null,
      "outputs": [
        {
          "output_type": "stream",
          "name": "stdout",
          "text": [
            "방문 변경 과정 보기:  [False, True, False, False, False, False, False]\n",
            "방문 변경 과정 보기:  [False, True, True, False, False, False, False]\n",
            "방문 변경 과정 보기:  [False, True, True, False, False, True, False]\n",
            "방문 변경 과정 보기:  [False, True, True, True, False, True, False]\n",
            "방문 변경 과정 보기:  [False, True, True, True, True, True, False]\n",
            "방문 변경 과정 보기:  [False, True, True, True, True, True, True]\n",
            "연결 요소의 개수: 2\n"
          ]
        }
      ]
    },
    {
      "cell_type": "markdown",
      "source": [
        "---\n",
        "# 9. [신기한 소수 찾기](https://www.acmicpc.net/problem/2023)\n",
        "----\n"
      ],
      "metadata": {
        "id": "ri3WyFeN2gcm"
      }
    },
    {
      "cell_type": "markdown",
      "source": [
        "### 아이디어 == 주어진 자리수에서 한 자리씩 소수인 값들을 DFS 진행"
      ],
      "metadata": {
        "id": "Gh0fYCeV22IS"
      }
    },
    {
      "cell_type": "code",
      "source": [
        "N = int(input())\n",
        "\n",
        "def isprime(num):\n",
        "  for i in range(2, num): # 소수가 아닌 값을 찾는 코드 이기 때문에 2 ~ num-1 까지 범위 지정\n",
        "                          # 소수의 조건인 1과 자기자신으로 나누어지는 경우는 없어야 함 \n",
        "    if num % i == 0:\n",
        "      return False # 소수가 아님\n",
        "  return True # 소수가 맞음\n",
        "\n",
        "def DFS(number):\n",
        "  if len(str(number)) == N: # 자리수에 해당 하는 값이면 출력\n",
        "    print(number)\n",
        "  else:\n",
        "    for i in range(1, 10):\n",
        "      if i % 2 == 0:\n",
        "        continue # 짝수일 경우 탐색 넘어감\n",
        "      if isprime(number * 10 + i): # 소수일 경우 자리수 늘림\n",
        "        DFS(number * 10 + i) # 재귀 탐색\n"
      ],
      "metadata": {
        "colab": {
          "base_uri": "https://localhost:8080/"
        },
        "id": "T7Al4-Ri2mzI",
        "outputId": "9bb4e41f-68cd-422f-90ec-040251c9597d"
      },
      "execution_count": 1,
      "outputs": [
        {
          "name": "stdout",
          "output_type": "stream",
          "text": [
            "4\n"
          ]
        }
      ]
    },
    {
      "cell_type": "code",
      "source": [
        "value = [2,3,5,7] # 일의 자리 소수는 2,3,5,7이기 때문\n",
        "\n",
        "for i in value:\n",
        "  DFS(i)"
      ],
      "metadata": {
        "id": "ygRuuAAq6qWN",
        "outputId": "de54fc58-06bb-4370-b121-96a2552f90ee",
        "colab": {
          "base_uri": "https://localhost:8080/"
        }
      },
      "execution_count": 2,
      "outputs": [
        {
          "output_type": "stream",
          "name": "stdout",
          "text": [
            "2333\n",
            "2339\n",
            "2393\n",
            "2399\n",
            "2939\n",
            "3119\n",
            "3137\n",
            "3733\n",
            "3739\n",
            "3793\n",
            "3797\n",
            "5939\n",
            "7193\n",
            "7331\n",
            "7333\n",
            "7393\n"
          ]
        }
      ]
    },
    {
      "cell_type": "code",
      "source": [],
      "metadata": {
        "id": "mA64qaWZ6_1q"
      },
      "execution_count": null,
      "outputs": []
    }
  ]
}