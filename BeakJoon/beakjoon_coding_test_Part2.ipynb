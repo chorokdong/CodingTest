{
  "nbformat": 4,
  "nbformat_minor": 0,
  "metadata": {
    "colab": {
      "provenance": []
    },
    "kernelspec": {
      "name": "python3",
      "display_name": "Python 3"
    },
    "language_info": {
      "name": "python"
    }
  },
  "cells": [
    {
      "cell_type": "markdown",
      "source": [
        "---\n",
        "# 1. [구간 합 구하기 5](https://www.acmicpc.net/problem/11660)\n",
        "---"
      ],
      "metadata": {
        "id": "gQ2mHFM_CPVk"
      }
    },
    {
      "cell_type": "markdown",
      "source": [
        "- A2 ~ A5의 구간합을 구하는 공식\n",
        "      S5 = A0 + A1 + A2 + A3 + A4 + A5\n",
        "      S1 = A0 + A1\n",
        "      S5 - S1 = A2 + A3 + A4 + A5 "
      ],
      "metadata": {
        "id": "v0zPOHdxLrwn"
      }
    },
    {
      "cell_type": "code",
      "source": [
        "n , m = map(int, input().split())\n",
        "\n",
        "A = [[0] * (n+1)]\n",
        "D = [[0] * (n+1) for _ in range(n+1)]\n"
      ],
      "metadata": {
        "id": "gYyxmDQJ_inY",
        "colab": {
          "base_uri": "https://localhost:8080/"
        },
        "outputId": "f0350cea-8ad0-4b2b-f1e9-49043fee4f66"
      },
      "execution_count": null,
      "outputs": [
        {
          "name": "stdout",
          "output_type": "stream",
          "text": [
            "4 3\n"
          ]
        }
      ]
    },
    {
      "cell_type": "code",
      "source": [
        "for i in range(n):\n",
        "  row = [0] + [int(x) for x in input().split()]\n",
        "  A.append(row)"
      ],
      "metadata": {
        "colab": {
          "base_uri": "https://localhost:8080/"
        },
        "id": "2j-Oz_ddCti8",
        "outputId": "f25372c5-7e6d-4305-ccd4-f48539d8ab34"
      },
      "execution_count": null,
      "outputs": [
        {
          "name": "stdout",
          "output_type": "stream",
          "text": [
            "1 2 3 4\n",
            "2 3 4 5\n",
            "3 4 5 6\n",
            "4 5 6 7\n"
          ]
        }
      ]
    },
    {
      "cell_type": "code",
      "source": [
        "A"
      ],
      "metadata": {
        "colab": {
          "base_uri": "https://localhost:8080/"
        },
        "id": "lAw3eIegDdOA",
        "outputId": "29c93435-2742-4c62-8959-425c044295e0"
      },
      "execution_count": null,
      "outputs": [
        {
          "output_type": "execute_result",
          "data": {
            "text/plain": [
              "[[0, 0, 0, 0, 0],\n",
              " [0, 1, 2, 3, 4],\n",
              " [0, 2, 3, 4, 5],\n",
              " [0, 3, 4, 5, 6],\n",
              " [0, 4, 5, 6, 7]]"
            ]
          },
          "metadata": {},
          "execution_count": 26
        }
      ]
    },
    {
      "cell_type": "code",
      "source": [
        "for i in range(1, n+1):\n",
        "  for j in range(1, n+1):\n",
        "    D[i][j] = D[i-1][j] + D[i][j-1] - D[i-1][j-1] +A[i][j]"
      ],
      "metadata": {
        "id": "YLgrE25aFA0E"
      },
      "execution_count": null,
      "outputs": []
    },
    {
      "cell_type": "code",
      "source": [
        "D"
      ],
      "metadata": {
        "colab": {
          "base_uri": "https://localhost:8080/"
        },
        "id": "XNoc4E_ZF9KR",
        "outputId": "3455ab6c-856a-4a13-8401-5f74e22250e5"
      },
      "execution_count": null,
      "outputs": [
        {
          "output_type": "execute_result",
          "data": {
            "text/plain": [
              "[[0, 0, 0, 0, 0],\n",
              " [0, 1, 3, 6, 10],\n",
              " [0, 3, 8, 15, 24],\n",
              " [0, 6, 15, 27, 42],\n",
              " [0, 10, 24, 42, 64]]"
            ]
          },
          "metadata": {},
          "execution_count": 28
        }
      ]
    },
    {
      "cell_type": "code",
      "source": [
        "for i in range(m):\n",
        "  x1, y1, x2, y2 = map(int, input().split())\n",
        "  result = D[x2][y2] - D[x1-1][y2] - D[x2][y1-1] + D[x1-1][y1-1]\n",
        "  print(f'({x1},{y1})과 ({x2},{y2}) 좌표값 사이의 총합 : ',result)"
      ],
      "metadata": {
        "colab": {
          "base_uri": "https://localhost:8080/"
        },
        "id": "TZpzwJ0tGy9G",
        "outputId": "61d2d56f-0645-4e94-ce88-9591b283ae9b"
      },
      "execution_count": null,
      "outputs": [
        {
          "output_type": "stream",
          "name": "stdout",
          "text": [
            "2 2 3 4\n",
            "(2,2)과 (3,4) 좌표값 사이의 총합 :  27\n",
            "3 4 3 4\n",
            "(3,4)과 (3,4) 좌표값 사이의 총합 :  6\n",
            "1 1 4 4\n",
            "(1,1)과 (4,4) 좌표값 사이의 총합 :  64\n"
          ]
        }
      ]
    },
    {
      "cell_type": "markdown",
      "source": [
        "---\n",
        "# 2. [나머지 합 구하기](https://www.acmicpc.net/problem/10986)\n",
        "---"
      ],
      "metadata": {
        "id": "4eMPyougOh_6"
      }
    },
    {
      "cell_type": "markdown",
      "source": [
        "### 아이디어 \n",
        "- (A + B) % C == ((A & C) + (B % C)) % C 과 동일하다\n",
        "- S[i] - s[j] == 원본 리스트 j+1 부터 i까지의 합이다\n",
        "- **S[i] % C의 값과  s[j] % C의 값이  같다면 (S[i] - s[j]) % C의 값은 0이다.   \n",
        "  why? S[i] - s[j]는 원본[j+1] ~ 원본[i]의 값과 같기 때문**\n",
        "\n",
        "      예시)\n",
        "      원본 : 3 4 5 6 7 \n",
        "      합배열 : 3 7 12 18 25 \n",
        "      나누는 값 : 3\n",
        "\n",
        "      변경된 합 배열 : 0 1 0 0 1\n",
        "\n",
        "      3번째 값과 1번째 값일 경우 => 12 - 3 = 9 \n",
        "                              (3+4+5) - (3) \n",
        "      4번째 값과 1번째 값일 경우 => 18 - 3 = 15 \n",
        "                              (3+4+5+6) - (3)\n",
        "      4번째 값돠 3번째 값일 경우 => 18 - 12 = 6 \n",
        "                              (3+4+5+6) - (3+4+5)\n"
      ],
      "metadata": {
        "id": "gO44eivFl75f"
      }
    },
    {
      "cell_type": "code",
      "source": [
        "n , m = map(int, input().split())\n",
        "value = list(map(int, input().split()))\n",
        "A = [0] * n\n",
        "D = [0] * m\n",
        "A[0] = value[0] \n"
      ],
      "metadata": {
        "colab": {
          "base_uri": "https://localhost:8080/"
        },
        "id": "uuq7FBzcRJBh",
        "outputId": "bf093bd2-51cf-473c-b9e6-76e2ad223852"
      },
      "execution_count": null,
      "outputs": [
        {
          "name": "stdout",
          "output_type": "stream",
          "text": [
            "5 3 \n",
            "1 2 3 1 2\n"
          ]
        }
      ]
    },
    {
      "cell_type": "code",
      "source": [
        "for i in range(1,n):\n",
        "  A[i] = A[i-1] + value[i]"
      ],
      "metadata": {
        "id": "e9A9rPmxSJxg"
      },
      "execution_count": null,
      "outputs": []
    },
    {
      "cell_type": "code",
      "source": [
        "A"
      ],
      "metadata": {
        "colab": {
          "base_uri": "https://localhost:8080/"
        },
        "id": "syf3EDpjTn74",
        "outputId": "d944d438-cee0-4baf-c9a5-fc8a4d4ae3ee"
      },
      "execution_count": null,
      "outputs": [
        {
          "output_type": "execute_result",
          "data": {
            "text/plain": [
              "[1, 3, 6, 7, 9]"
            ]
          },
          "metadata": {},
          "execution_count": 22
        }
      ]
    },
    {
      "cell_type": "code",
      "source": [
        "answer = 0\n",
        "for i in range(n):\n",
        "  remainder = A[i] % 3 # 합 배열의 모든 값에 나누기 수행\n",
        "  if remainder == 0 : # 구간합 0인 값 더하기\n",
        "    answer += 1 \n",
        "  D[remainder] += 1 # 나머지가 같은 인덱스의 개수 값 증가"
      ],
      "metadata": {
        "id": "N5Z_etqZRK2T"
      },
      "execution_count": null,
      "outputs": []
    },
    {
      "cell_type": "code",
      "source": [
        "D \n",
        "# 나머지 0인 값 3개\n",
        "# 나머지 1인 값 2개\n",
        "# 나머지 2인 값 0개"
      ],
      "metadata": {
        "colab": {
          "base_uri": "https://localhost:8080/"
        },
        "id": "Q1NhW6VdM5G9",
        "outputId": "f3b3baf0-b686-499c-c119-3e0654d862bd"
      },
      "execution_count": null,
      "outputs": [
        {
          "output_type": "execute_result",
          "data": {
            "text/plain": [
              "[3, 2, 0]"
            ]
          },
          "metadata": {},
          "execution_count": 24
        }
      ]
    },
    {
      "cell_type": "code",
      "source": [
        "for i in range(m):\n",
        "  if D[i] > 1: # 나머지가 같은 인덱스 중 2개를 뽑는 경우의 수 \n",
        "    answer += (D[i] * (D[i]-1) // 2) # nC2의 조합의 식\n",
        "\n",
        "answer"
      ],
      "metadata": {
        "id": "rAkFQH-VT5-7",
        "colab": {
          "base_uri": "https://localhost:8080/"
        },
        "outputId": "f55d87eb-61b8-4cf0-9a31-ebcaffbc4422"
      },
      "execution_count": null,
      "outputs": [
        {
          "output_type": "execute_result",
          "data": {
            "text/plain": [
              "7"
            ]
          },
          "metadata": {},
          "execution_count": 25
        }
      ]
    },
    {
      "cell_type": "markdown",
      "source": [
        "---\n",
        "# 3. [연속된 자연수의 합 구하기](https://www.acmicpc.net/problem/2018)\n",
        "---"
      ],
      "metadata": {
        "id": "zqxeKH0BwEvj"
      }
    },
    {
      "cell_type": "markdown",
      "source": [
        "### 아이디어 == 투 포인트 이동\n",
        "\n",
        "- start_index와 end_index 설정\n",
        "\n",
        "- 두 index 사이 값의 합이 원하는 총합 보다 작으면 end_index를 우측 이동(더하기 1)\n",
        "  - Start ~ end < sum --> 값을 키우기 위해 end_index 이동\n",
        "- 두 index 사이 값의 합이 원하는 총합 보다 크다면 start_index 우측 이동(더하기 1)\n",
        "  - Start ~ end > sum --> 값을 줄이기 위해 start_index 이동\n",
        "- 두 index 사이의 값이 원하는 총합과 같다면 다음 조건을 확인하기 위해 end_index를 우측 이동"
      ],
      "metadata": {
        "id": "h6lJCIZZwOzT"
      }
    },
    {
      "cell_type": "code",
      "source": [
        "value = int(input())\n",
        "count = 1 # 수열 중 총합에 해당하는 즉 자기 자신의 값을 뽑을 경우를 미리 계산해서 1로 설정\n",
        "start_index = 1\n",
        "end_index = 1\n",
        "sum = 1\n",
        "\n",
        "while end_index != value: # 자기 자신에 해당 되는 경우 까지 무한 반복\n",
        "  if sum == value :\n",
        "    count += 1\n",
        "    sum += end_index\n",
        "  elif sum > value :\n",
        "    sum -= start_index\n",
        "    start_index += 1\n",
        "  else:\n",
        "    end_index += 1\n",
        "    sum += end_index\n",
        "\n",
        "print(count)"
      ],
      "metadata": {
        "colab": {
          "base_uri": "https://localhost:8080/"
        },
        "id": "ElRq7nznszYv",
        "outputId": "63737865-91d7-4cc7-98b0-ed6550be4f33"
      },
      "execution_count": null,
      "outputs": [
        {
          "output_type": "stream",
          "name": "stdout",
          "text": [
            "15\n",
            "4\n"
          ]
        }
      ]
    },
    {
      "cell_type": "markdown",
      "source": [
        "---\n",
        "# 4. [주몽의 명령](https://www.acmicpc.net/problem/1940)\n",
        "---"
      ],
      "metadata": {
        "id": "tfD2FIz127Ra"
      }
    },
    {
      "cell_type": "markdown",
      "source": [
        "### 아이디어 == 투 포인트 이동"
      ],
      "metadata": {
        "id": "98UPOu9JRJ7T"
      }
    },
    {
      "cell_type": "code",
      "source": [
        "count = int(input())\n",
        "sum = int(input())\n",
        "meterial = list(map(int,input().split()))\n",
        "meterial.sort()\n",
        "\n",
        "num = 0\n",
        "i = 0\n",
        "j = count - 1"
      ],
      "metadata": {
        "colab": {
          "base_uri": "https://localhost:8080/"
        },
        "id": "MjHgnJIO1YSA",
        "outputId": "dfde6c9d-01e0-4493-db27-908330473481"
      },
      "execution_count": null,
      "outputs": [
        {
          "name": "stdout",
          "output_type": "stream",
          "text": [
            "6\n",
            "9\n",
            "2 7 4 1 5 3\n"
          ]
        }
      ]
    },
    {
      "cell_type": "code",
      "source": [
        "while i < j:\n",
        "  if meterial[i] + meterial[j] < sum:\n",
        "    i += 1\n",
        "  elif meterial[i] + meterial[j] > sum:\n",
        "    i -= 1\n",
        "  else : \n",
        "    num += 1\n",
        "    i += 1\n",
        "    j -= 1\n",
        "\n",
        "print(num)"
      ],
      "metadata": {
        "colab": {
          "base_uri": "https://localhost:8080/"
        },
        "id": "1xjYIev94bDQ",
        "outputId": "7a20a95e-5f9e-4436-e863-4384a5067e45"
      },
      "execution_count": null,
      "outputs": [
        {
          "output_type": "stream",
          "name": "stdout",
          "text": [
            "2\n"
          ]
        }
      ]
    },
    {
      "cell_type": "markdown",
      "source": [
        "---\n",
        "# 5. ['좋은 수' 구하기](https://www.acmicpc.net/problem/1253)\n",
        "----\n"
      ],
      "metadata": {
        "id": "e2dyAPyEAE_J"
      }
    },
    {
      "cell_type": "markdown",
      "source": [
        "### 아이디어 == 투 포인트 이동"
      ],
      "metadata": {
        "id": "cdCnHA4WSjNO"
      }
    },
    {
      "cell_type": "code",
      "source": [
        "count = int(input())\n",
        "num_list = list(map(int,input().split()))\n",
        "num_list.sort()\n",
        "result = 0"
      ],
      "metadata": {
        "colab": {
          "base_uri": "https://localhost:8080/"
        },
        "id": "6_1qctHo7OtQ",
        "outputId": "d83a53c3-b3e5-4e0c-9830-d42be69e749f"
      },
      "execution_count": null,
      "outputs": [
        {
          "name": "stdout",
          "output_type": "stream",
          "text": [
            "10\n",
            "1 2 3 4 5 6 7 8 9 10\n"
          ]
        }
      ]
    },
    {
      "cell_type": "code",
      "source": [
        "for k in range(count):\n",
        "  find = num_list[k]\n",
        "  i = 0\n",
        "  j = count - 1\n",
        "\n",
        "  while i < j:\n",
        "    if num_list[i] + num_list[j] == find :\n",
        "      if (i != k) & (j != k):\n",
        "        result += 1\n",
        "        break\n",
        "      elif i == k:\n",
        "        i += 1\n",
        "      elif j == k:\n",
        "        j -= 1\n",
        "    elif num_list[i] + num_list[j] < find :\n",
        "      i += 1\n",
        "    else:\n",
        "      j -= 1\n",
        "\n",
        "print(result)"
      ],
      "metadata": {
        "colab": {
          "base_uri": "https://localhost:8080/"
        },
        "id": "09qg_6hZRVVf",
        "outputId": "06430712-9e3d-4c45-e411-20e840e682dd"
      },
      "execution_count": null,
      "outputs": [
        {
          "output_type": "stream",
          "name": "stdout",
          "text": [
            "8\n"
          ]
        }
      ]
    },
    {
      "cell_type": "markdown",
      "source": [
        "---\n",
        "# 6. [DNA 비밀번호](https://www.acmicpc.net/problem/12891)\n",
        "---"
      ],
      "metadata": {
        "id": "Etnods33VIwW"
      }
    },
    {
      "cell_type": "markdown",
      "source": [
        "### 아이디어 == 슬라이딩 윈도우"
      ],
      "metadata": {
        "id": "CgVEFcPJVPIH"
      }
    },
    {
      "cell_type": "code",
      "source": [
        "check_list = [0] * 4\n",
        "my_list = [0] * 4\n",
        "check_secret = 0"
      ],
      "metadata": {
        "id": "abMSUKXySeiP"
      },
      "execution_count": null,
      "outputs": []
    },
    {
      "cell_type": "code",
      "source": [
        "def my_add(c):\n",
        "  global check_list, my_list, check_secret\n",
        "  if c == 'A':\n",
        "    my_list[0] += 1\n",
        "    if my_list[0] == check_list[0]:\n",
        "      check_secret += 1\n",
        "  \n",
        "  if c == 'C':\n",
        "    my_list[1] += 1\n",
        "    if my_list[1] == check_list[1]:\n",
        "      check_secret += 1      \n",
        "\n",
        "  if c == 'G':\n",
        "    my_list[2] += 1\n",
        "    if my_list[2] == check_list[2]:\n",
        "      check_secret += 1\n",
        "\n",
        "  if c == 'T':\n",
        "    my_list[3] += 1\n",
        "    if my_list[3] == check_list[3]:\n",
        "      check_secret += 1            "
      ],
      "metadata": {
        "id": "ypBSbUTEVf5l"
      },
      "execution_count": null,
      "outputs": []
    },
    {
      "cell_type": "code",
      "source": [
        "def my_remove(c):\n",
        "  global check_list, my_list, check_secret\n",
        "  if c == 'A':\n",
        "    my_list[0] += 1\n",
        "    if my_list[0] == check_list[0]:\n",
        "      my_list[0] -= 1\n",
        "  \n",
        "  if c == 'C':\n",
        "    my_list[1] += 1\n",
        "    if my_list[1] == check_list[1]:\n",
        "      my_list[1] -= 1\n",
        "\n",
        "  if c == 'G':\n",
        "    my_list[2] += 1\n",
        "    if my_list[2] == check_list[2]:\n",
        "      my_list[2] -= 1\n",
        "\n",
        "  if c == 'T':\n",
        "    my_list[3] += 1\n",
        "    if my_list[3] == check_list[3]:\n",
        "      my_list[3] -= 1"
      ],
      "metadata": {
        "id": "th5RnBLGWB42"
      },
      "execution_count": null,
      "outputs": []
    },
    {
      "cell_type": "code",
      "source": [
        "s, p = map(int,input().split())\n",
        "result = 0\n",
        "value = list(input())\n",
        "check_list = list(map(int, input().split()))"
      ],
      "metadata": {
        "colab": {
          "base_uri": "https://localhost:8080/"
        },
        "id": "-QfGY5CvWdI8",
        "outputId": "0570c8a9-567f-4465-9b1b-0ae94bef97bb"
      },
      "execution_count": null,
      "outputs": [
        {
          "name": "stdout",
          "output_type": "stream",
          "text": [
            "4 2 \n",
            "GATA\n",
            "1 0 0 1\n"
          ]
        }
      ]
    },
    {
      "cell_type": "code",
      "source": [
        "# check_list의 값이 0이라는 것은 이미 조건을 만족 했다는 뜻\n",
        "for i in range(4):\n",
        "  if check_list[i] == 0:\n",
        "    check_secret += 1"
      ],
      "metadata": {
        "id": "_t6QsaIjW8c1"
      },
      "execution_count": null,
      "outputs": []
    },
    {
      "cell_type": "code",
      "source": [
        "for i in range(p): # 초기 p의 범위 만큼 처리\n",
        "  my_add(value[i])\n",
        "\n",
        "  if check_secret == 4:\n",
        "    result += 1"
      ],
      "metadata": {
        "id": "mEFJmiOuXSrS"
      },
      "execution_count": null,
      "outputs": []
    },
    {
      "cell_type": "code",
      "source": [
        "for i in range(p,s): # 윈도우를 이동하면서 이동 범위 만큼 앞의 것은 빼고, 뒤에 것은 추가\n",
        "  j = i - p\n",
        "  my_add(value[i])\n",
        "  my_remove(value[j])\n",
        "  if check_secret == 4:\n",
        "    result += 1\n",
        "\n",
        "print(result)"
      ],
      "metadata": {
        "colab": {
          "base_uri": "https://localhost:8080/"
        },
        "id": "sU6SGjW6k84B",
        "outputId": "c508cfab-7e05-466f-ebb1-ca0725f09305"
      },
      "execution_count": null,
      "outputs": [
        {
          "output_type": "stream",
          "name": "stdout",
          "text": [
            "2\n"
          ]
        }
      ]
    },
    {
      "cell_type": "markdown",
      "source": [
        "---\n",
        "# 7. [최솟값 찾기 1](https://www.acmicpc.net/problem/11003)\n",
        "---"
      ],
      "metadata": {
        "id": "P4hbwiyJSJT9"
      }
    },
    {
      "cell_type": "markdown",
      "source": [
        "### 아이디어 == 덱 활용\n",
        "\n",
        "1. 최소값의 가능성이 없는 데이터 삭제\n",
        "2. window의 크기 밖 데이터 삭제\n",
        "  - index 기준 0보다 작은 index값 까지 고려해야 함"
      ],
      "metadata": {
        "id": "-VWyqFmWXUGq"
      }
    },
    {
      "cell_type": "code",
      "source": [
        "from collections import deque\n",
        "\n",
        "N, L = map(int, input().split())\n",
        "mydeque = deque()\n",
        "now = list(map(int, input().split()))"
      ],
      "metadata": {
        "colab": {
          "base_uri": "https://localhost:8080/"
        },
        "id": "_1QlawhnSQIw",
        "outputId": "be5af3f7-fcdb-4a74-cf5c-c2c6e5758b9b"
      },
      "execution_count": 13,
      "outputs": [
        {
          "name": "stdout",
          "output_type": "stream",
          "text": [
            "12 3\n",
            "1 5 2 3 6 2 3 7 3 5 2 6\n"
          ]
        }
      ]
    },
    {
      "cell_type": "code",
      "source": [
        "for i in range(N):\n",
        "  while mydeque and mydeque[-1][0] > now[i]: # 최소값의 가능성이 없는 데이터 삭제\n",
        "    mydeque.pop()\n",
        "  mydeque.append((now[i], i)) # 리스트의 값과 index 같이 추가\n",
        "\n",
        "  if mydeque[0][1] <= i - L: # window의 크기 밖 데이터 삭제\n",
        "    mydeque.popleft()\n",
        "  print(mydeque[0][0], end=' ')\n"
      ],
      "metadata": {
        "colab": {
          "base_uri": "https://localhost:8080/"
        },
        "id": "7-6L8rK5XzKN",
        "outputId": "1da88331-b382-4767-f166-6f74b02cee93"
      },
      "execution_count": 10,
      "outputs": [
        {
          "output_type": "stream",
          "name": "stdout",
          "text": [
            "1 1 1 2 2 2 2 2 3 3 2 2 "
          ]
        }
      ]
    },
    {
      "cell_type": "code",
      "source": [
        "# 알고리즘를 모른다는 가정하에 시도했을 경우\n",
        "check = []\n",
        "for i in range(N):\n",
        "  check.append(now[i])\n",
        "  if len(check) >= 4:\n",
        "    check.pop(0)\n",
        "\n",
        "  print(min(check), end=' ')"
      ],
      "metadata": {
        "colab": {
          "base_uri": "https://localhost:8080/"
        },
        "id": "W2sEu9-8atwo",
        "outputId": "1e817b9b-15d7-4270-9d12-01ec0897548e"
      },
      "execution_count": 35,
      "outputs": [
        {
          "output_type": "stream",
          "name": "stdout",
          "text": [
            "1 1 1 2 2 2 2 2 3 3 2 2 "
          ]
        }
      ]
    },
    {
      "cell_type": "markdown",
      "source": [
        "---\n",
        "# 8. [스택으로 수열 만들기](https://www.acmicpc.net/problem/1874)\n",
        "---"
      ],
      "metadata": {
        "id": "Us1knkdAhk94"
      }
    },
    {
      "cell_type": "markdown",
      "source": [
        "### 아이디어 == 스택 (append, pop)"
      ],
      "metadata": {
        "id": "Ka-Y4p8ahu3o"
      }
    },
    {
      "cell_type": "code",
      "source": [
        "N = int(input())\n",
        "A = [0] * N\n",
        "\n",
        "for i in range(N):\n",
        "  A[i] = int(input())\n",
        "\n",
        "stack = []\n",
        "num = 1\n",
        "result = True\n",
        "answer = ''"
      ],
      "metadata": {
        "colab": {
          "base_uri": "https://localhost:8080/"
        },
        "id": "ITjVScBXbPNL",
        "outputId": "a467116f-1a62-42e1-bb83-ba97df6e0a2a"
      },
      "execution_count": 36,
      "outputs": [
        {
          "name": "stdout",
          "output_type": "stream",
          "text": [
            "8\n",
            "4\n",
            "3\n",
            "6\n",
            "8\n",
            "7\n",
            "5\n",
            "2\n",
            "1\n"
          ]
        }
      ]
    },
    {
      "cell_type": "code",
      "source": [
        "for i in range(N):\n",
        "  su = A[i]\n",
        "  if su >= num :\n",
        "    while su >= num : # num 보다 su가 크다면 su의 크기만큼 stack에 저장\n",
        "      stack.append(num)\n",
        "      num += 1 \n",
        "      answer += '+\\n' # 저장(추가)되는 경우 result에는 + 삽입\n",
        "    stack.pop()\n",
        "    answer += '-\\n'\n",
        "\n",
        "  else:\n",
        "    n = stack.pop()\n",
        "    if n > su:\n",
        "      print('No')\n",
        "      result = False\n",
        "      break\n",
        "    else :\n",
        "      answer += '-\\n'\n",
        "\n",
        "if result:\n",
        "  print(answer)\n",
        "      "
      ],
      "metadata": {
        "colab": {
          "base_uri": "https://localhost:8080/"
        },
        "id": "3gvjTTgpiMvL",
        "outputId": "78163bc3-86d4-4c7d-eb3e-a1b662e3df9f"
      },
      "execution_count": 38,
      "outputs": [
        {
          "output_type": "stream",
          "name": "stdout",
          "text": [
            "+\n",
            "+\n",
            "+\n",
            "+\n",
            "-\n",
            "-\n",
            "+\n",
            "+\n",
            "-\n",
            "+\n",
            "+\n",
            "-\n",
            "-\n",
            "-\n",
            "-\n",
            "-\n",
            "\n"
          ]
        }
      ]
    },
    {
      "cell_type": "markdown",
      "source": [
        "---\n",
        "# 9. [오큰수 구하기](https://www.acmicpc.net/problem/17298)\n",
        "---"
      ],
      "metadata": {
        "id": "tI1VkYla1mBw"
      }
    },
    {
      "cell_type": "markdown",
      "source": [
        "### 아이디어 == 스택 (append, pop)"
      ],
      "metadata": {
        "id": "EX7zd0JOSNW_"
      }
    },
    {
      "cell_type": "code",
      "source": [
        "n = int(input())\n",
        "ans = [0] * n\n",
        "\n",
        "A = list(map(int, input().split()))\n",
        "mystack = []"
      ],
      "metadata": {
        "colab": {
          "base_uri": "https://localhost:8080/"
        },
        "id": "JOewqpTYjOhf",
        "outputId": "afcff7d7-2c71-4017-ea69-e913df3a1888"
      },
      "execution_count": 65,
      "outputs": [
        {
          "name": "stdout",
          "output_type": "stream",
          "text": [
            "4\n",
            "3 5 2 7\n"
          ]
        }
      ]
    },
    {
      "cell_type": "code",
      "source": [
        "for i in range(n):\n",
        "  while mystack and A[mystack[-1]] < A[i]: # stack이 비어있지 않고 현재 수열이 stack top 인덱스가 가리키는 수열 보다 클 경우\n",
        "    ans[mystack.pop()] = A[i]              # 정답 리스트에 오큰수를 현재 수열로 저장\n",
        "  mystack.append(i)\n",
        "\n",
        "while mystack: # 반복문 후 stack 안에 남아 있다면\n",
        "  ans[mystack.pop()] = -1 # 해당 index위치의 값 -1로 변경 \n",
        "\n",
        "result = ''\n",
        "\n",
        "for i in range(n):\n",
        "  result += str(ans[i]) + ' '\n",
        "\n",
        "print(result)"
      ],
      "metadata": {
        "colab": {
          "base_uri": "https://localhost:8080/"
        },
        "id": "-SaF67uw17nL",
        "outputId": "1d15b9d3-4764-4e84-958f-33208fd7be72"
      },
      "execution_count": 57,
      "outputs": [
        {
          "output_type": "stream",
          "name": "stdout",
          "text": [
            "5 7 7 -1 \n"
          ]
        }
      ]
    },
    {
      "cell_type": "code",
      "source": [
        "for i in range(n):\n",
        "  while mystack and A[mystack[-1]] < A[i]: # stack이 비어있지 않고 현재 수열이 stack top 인덱스가 가리키는 수열 보다 클 경우\n",
        "    ans[mystack.pop()] = A[i]              # 정답 리스트에 오큰수를 현재 수열로 저장\n",
        "    print(f'{i} 번째 mystack', mystack)\n",
        "    print(f'{i} 번째 ans',ans)\n",
        "  mystack.append(i)\n",
        "  print(f'{i} 번째 루프 밖 mystack', mystack)"
      ],
      "metadata": {
        "colab": {
          "base_uri": "https://localhost:8080/"
        },
        "id": "lw7X41Gn2i6u",
        "outputId": "d3a64cc5-e39f-409f-bcaa-8d49767bf338"
      },
      "execution_count": 66,
      "outputs": [
        {
          "output_type": "stream",
          "name": "stdout",
          "text": [
            "0 번째 루프 밖 mystack [0]\n",
            "1 번째 mystack []\n",
            "1 번째 ans [5, 0, 0, 0]\n",
            "1 번째 루프 밖 mystack [1]\n",
            "2 번째 루프 밖 mystack [1, 2]\n",
            "3 번째 mystack [1]\n",
            "3 번째 ans [5, 0, 7, 0]\n",
            "3 번째 mystack []\n",
            "3 번째 ans [5, 7, 7, 0]\n",
            "3 번째 루프 밖 mystack [3]\n"
          ]
        }
      ]
    },
    {
      "cell_type": "markdown",
      "source": [
        "---\n",
        "# 10. [카드 게임](https://www.acmicpc.net/problem/2164)\n",
        "---"
      ],
      "metadata": {
        "id": "R7j2IJ4zR2Fb"
      }
    },
    {
      "cell_type": "markdown",
      "source": [
        "### 아이디어 == 큐 (append, pop)"
      ],
      "metadata": {
        "id": "dvifYzfhSOCv"
      }
    },
    {
      "cell_type": "code",
      "source": [
        "from collections import deque\n",
        "N = int(input())\n",
        "myqueue = deque()\n",
        "\n",
        "for i in range(1, N+1):\n",
        "  myqueue.append(i)\n",
        "\n",
        "while len(myqueue) > 1:\n",
        "  myqueue.popleft()\n",
        "  myqueue.append(myqueue.popleft())\n",
        "\n",
        "print(myqueue[0])\n"
      ],
      "metadata": {
        "colab": {
          "base_uri": "https://localhost:8080/"
        },
        "id": "z_dqAf-RR8b8",
        "outputId": "a4a38a3f-85cb-4633-da85-2b1b1685adb0"
      },
      "execution_count": 68,
      "outputs": [
        {
          "output_type": "stream",
          "name": "stdout",
          "text": [
            "6\n",
            "4\n"
          ]
        }
      ]
    },
    {
      "cell_type": "markdown",
      "source": [
        "---\n",
        "# 11. [절대값 힙 구현하기](https://www.acmicpc.net/problem/11286)\n",
        "---"
      ],
      "metadata": {
        "id": "QflnEnAXWvd6"
      }
    },
    {
      "cell_type": "code",
      "source": [
        "from queue import PriorityQueue\n",
        "N = int(input())\n",
        "myqueue = PriorityQueue()\n",
        "\n",
        "value = []\n",
        "for i in range(N):\n",
        "  request = int(input())\n",
        "  if request == 0:\n",
        "    if myqueue.empty():\n",
        "      print('출력값 : ','0\\n')\n",
        "      value.append('0')\n",
        "    else:\n",
        "      temp = myqueue.get()\n",
        "      print('출력값 : ',str((temp[1])) + '\\n')\n",
        "      value.append(str((temp[1])))\n",
        "  else:\n",
        "    myqueue.put((abs(request), request))"
      ],
      "metadata": {
        "colab": {
          "base_uri": "https://localhost:8080/"
        },
        "id": "up6P9tiZTCrj",
        "outputId": "696158fd-2970-407f-b5e5-2c4d18947be7"
      },
      "execution_count": 75,
      "outputs": [
        {
          "output_type": "stream",
          "name": "stdout",
          "text": [
            "18\n",
            "1\n",
            "-1\n",
            "0\n",
            "출력값 :  -1\n",
            "\n",
            "0\n",
            "0\n",
            "출력값 :  1\n",
            "\n",
            "출력값 :  0\n",
            "\n",
            "1\n",
            "1\n",
            "-1\n",
            "-1\n",
            "2\n",
            "-2\n",
            "0\n",
            "출력값 :  -1\n",
            "\n",
            "0\n",
            "출력값 :  -1\n",
            "\n",
            "0\n",
            "0\n",
            "출력값 :  1\n",
            "\n",
            "출력값 :  1\n",
            "\n",
            "0\n",
            "0\n",
            "출력값 :  -2\n",
            "\n",
            "출력값 :  2\n",
            "\n",
            "0\n",
            "출력값 :  0\n",
            "\n"
          ]
        }
      ]
    },
    {
      "cell_type": "code",
      "source": [
        "value"
      ],
      "metadata": {
        "colab": {
          "base_uri": "https://localhost:8080/"
        },
        "id": "ECzNxz_AvrLs",
        "outputId": "918da937-b2e9-4765-b87f-3ce0937e4a4d"
      },
      "execution_count": 77,
      "outputs": [
        {
          "output_type": "execute_result",
          "data": {
            "text/plain": [
              "['-1', '1', '0', '-1', '-1', '1', '1', '-2', '2', '0']"
            ]
          },
          "metadata": {},
          "execution_count": 77
        }
      ]
    }
  ]
}