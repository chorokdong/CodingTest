{
  "nbformat": 4,
  "nbformat_minor": 0,
  "metadata": {
    "colab": {
      "provenance": []
    },
    "kernelspec": {
      "name": "python3",
      "display_name": "Python 3"
    },
    "language_info": {
      "name": "python"
    }
  },
  "cells": [
    {
      "cell_type": "markdown",
      "source": [
        "----\n",
        "# 1. [약수 구하기](https://www.acmicpc.net/problem/2501)  (🥉 브론즈 3티어)\n",
        "---\n",
        "\n"
      ],
      "metadata": {
        "id": "Vbg6TGUUbQ1C"
      }
    },
    {
      "cell_type": "code",
      "source": [
        "value, num = map(int, input('값을 입력하세요! :').split())\n",
        "\n",
        "value_list = []\n",
        "for i in range(1, value + 1):\n",
        "  key = value % i\n",
        "  if key == 0:\n",
        "    value_list.append(i)\n",
        "    \n",
        "if len(value_list) < num :\n",
        "  print(0)\n",
        "else:\n",
        "  print(value_list[num - 1])"
      ],
      "metadata": {
        "colab": {
          "base_uri": "https://localhost:8080/"
        },
        "id": "23d6T8CNbQCt",
        "outputId": "6f49e4c8-8fb5-46f9-fc9c-7d533b9e8539"
      },
      "execution_count": null,
      "outputs": [
        {
          "output_type": "stream",
          "name": "stdout",
          "text": [
            "값을 입력하세요! :25 4\n",
            "0\n"
          ]
        }
      ]
    },
    {
      "cell_type": "markdown",
      "source": [
        "---\n",
        "# 2. [이진수](https://www.acmicpc.net/problem/3460) (🥉 브론즈 3티어)\n",
        "---"
      ],
      "metadata": {
        "id": "Esq65orHlpfu"
      }
    },
    {
      "cell_type": "code",
      "source": [
        "value = bin(int(input()))[2:]\n",
        "\n",
        "for i in range(1,len(value) + 1):\n",
        "  if value[-i] == '1':\n",
        "    print(i-1, end = \" \")"
      ],
      "metadata": {
        "colab": {
          "base_uri": "https://localhost:8080/"
        },
        "id": "Vh8dR_piiGB6",
        "outputId": "b37341b5-8230-4dc8-deb4-36ae24cc125e"
      },
      "execution_count": null,
      "outputs": [
        {
          "output_type": "stream",
          "name": "stdout",
          "text": [
            "13\n",
            "0 2 3 "
          ]
        }
      ]
    },
    {
      "cell_type": "markdown",
      "source": [
        "---\n",
        "# 3. [최소, 최대](https://www.acmicpc.net/problem/10818) (🥉 브론즈 3티어)\n",
        "---"
      ],
      "metadata": {
        "id": "_skA21e_3mgL"
      }
    },
    {
      "cell_type": "code",
      "source": [
        "line1 = map(int,input('1번 줄 : '))\n",
        "line2 = list(map(int,input('2번 줄 : ').split()))\n",
        "\n",
        "print(min(line2),'',max(line2))"
      ],
      "metadata": {
        "colab": {
          "base_uri": "https://localhost:8080/"
        },
        "id": "BKseppe80UpL",
        "outputId": "ed1bcd73-d993-4821-b12b-17d1762c62dd"
      },
      "execution_count": null,
      "outputs": [
        {
          "output_type": "stream",
          "name": "stdout",
          "text": [
            "1번 줄 : 5\n",
            "2번 줄 : 20 10 35 30 7\n",
            "7  35\n"
          ]
        }
      ]
    },
    {
      "cell_type": "markdown",
      "source": [
        "---\n",
        "# 4. [지능형 기차 2](https://www.acmicpc.net/problem/2460) (🥉 브론즈 3티어)\n",
        "---"
      ],
      "metadata": {
        "id": "zMIWWeah5jNl"
      }
    },
    {
      "cell_type": "code",
      "source": [
        "count = 0\n",
        "total_num = []\n",
        "value = 0\n",
        "while True:\n",
        "  output, input = map(int, input().split())\n",
        "  value = value - output + input\n",
        "  total_num.append(value)\n",
        "  count += 1\n",
        "  del input, output\n",
        "  if count == 10:\n",
        "    break\n",
        "print(max(total_num))"
      ],
      "metadata": {
        "colab": {
          "base_uri": "https://localhost:8080/"
        },
        "id": "7RPoAsz84X7u",
        "outputId": "90a9a48f-682e-4803-c850-d768acf261bc"
      },
      "execution_count": null,
      "outputs": [
        {
          "output_type": "stream",
          "name": "stdout",
          "text": [
            "0 32\n",
            "3 13\n",
            "28 25\n",
            "17 5\n",
            "21 20\n",
            "11 0\n",
            "12 12\n",
            "4 2\n",
            "0 8\n",
            "21 0\n",
            "42\n"
          ]
        }
      ]
    },
    {
      "cell_type": "markdown",
      "source": [
        "---\n",
        "# 5. [피보나치5](https://www.acmicpc.net/problem/10870)  (🥉 브론즈 2티어)\n",
        "---"
      ],
      "metadata": {
        "id": "DCHKljXlAsSj"
      }
    },
    {
      "cell_type": "code",
      "source": [
        "fibo = [0,1]\n",
        "key = int(input())\n",
        "for i in range(key):\n",
        "  if key-1 != i:\n",
        "    value = fibo[i] + fibo[i+1]\n",
        "    fibo.append(value)\n",
        "  else :\n",
        "    break\n",
        "print(fibo[-1])"
      ],
      "metadata": {
        "colab": {
          "base_uri": "https://localhost:8080/"
        },
        "id": "N7V0TPr4AloT",
        "outputId": "22ebcfbb-59d4-4b42-82e7-45b36aedf7db"
      },
      "execution_count": null,
      "outputs": [
        {
          "output_type": "stream",
          "name": "stdout",
          "text": [
            "10\n",
            "55\n"
          ]
        }
      ]
    },
    {
      "cell_type": "markdown",
      "source": [
        "---\n",
        "# 6. [일곱 난쟁이](https://www.acmicpc.net/problem/2309) (🥉 브론즈 2티어)\n",
        "---"
      ],
      "metadata": {
        "id": "NVKjUpLJGpT3"
      }
    },
    {
      "cell_type": "code",
      "source": [
        "import random\n",
        "\n",
        "dwarf = list(map(int, input().split()))\n",
        "\n",
        "while True:\n",
        "  real_dwarf = random.sample(dwarf,7)\n",
        "  if sum(real_dwarf) == 100:\n",
        "    break\n",
        "      \n",
        "sorted(real_dwarf)"
      ],
      "metadata": {
        "colab": {
          "base_uri": "https://localhost:8080/"
        },
        "id": "TICqu-WyG_wv",
        "outputId": "46b976cf-264e-4ed8-9a48-e9dcdc47ca3b"
      },
      "execution_count": null,
      "outputs": [
        {
          "name": "stdout",
          "output_type": "stream",
          "text": [
            "20 7 23 19 10 15 25 8 13\n"
          ]
        },
        {
          "output_type": "execute_result",
          "data": {
            "text/plain": [
              "[7, 8, 10, 13, 19, 20, 23]"
            ]
          },
          "metadata": {},
          "execution_count": 150
        }
      ]
    },
    {
      "cell_type": "markdown",
      "source": [
        "---\n",
        "# 7. [최대공약수와 최소공배수](https://www.acmicpc.net/problem/2609) (🥈실버 5티어)\n",
        "---"
      ],
      "metadata": {
        "id": "XH3WyuSITNV6"
      }
    },
    {
      "cell_type": "code",
      "source": [
        "num1, num2 = map(int,input().split())\n",
        "\n",
        "# 최대 공약수 \n",
        "value1 = []\n",
        "for i in range(1, min(num1,num2)+1):\n",
        "  if (num1 % i == 0) & (num2 % i == 0):\n",
        "    value1.append(i)\n",
        "\n",
        "# 최소 공배수\n",
        "value2 = []\n",
        "for i in range(max(num1,num2), (num1 * num2)):\n",
        "  if (i % num1 == 0 ) & (i % num2 == 0 ):\n",
        "    value2.append(i)\n",
        "\n",
        "print(max(value1))\n",
        "print(min(value2))"
      ],
      "metadata": {
        "id": "HMwt78HxPbKs",
        "colab": {
          "base_uri": "https://localhost:8080/"
        },
        "outputId": "ad7a865d-eb83-4d86-d491-6506e443919b"
      },
      "execution_count": null,
      "outputs": [
        {
          "output_type": "stream",
          "name": "stdout",
          "text": [
            "24 18\n",
            "6\n",
            "72\n"
          ]
        }
      ]
    },
    {
      "cell_type": "markdown",
      "source": [
        "---\n",
        "# 8. [N번째 큰 수](https://www.acmicpc.net/problem/2693) (🥈실버 5티어)\n",
        "----\n"
      ],
      "metadata": {
        "id": "pbxAHJ9vWZ56"
      }
    },
    {
      "cell_type": "code",
      "source": [
        "while True:\n",
        "  try:\n",
        "    key = list(map(int, input().split()))\n",
        "    print(sorted(key)[-3])\n",
        "  except IndexError :\n",
        "    pass\n",
        "\n"
      ],
      "metadata": {
        "id": "EZpA4bw5WQC0"
      },
      "execution_count": null,
      "outputs": []
    },
    {
      "cell_type": "markdown",
      "source": [
        "---\n",
        "# 9. [소수 찾기](https://www.acmicpc.net/problem/1978) (🥈실버 4티어)\n",
        "---"
      ],
      "metadata": {
        "id": "M4OrTGzEavpI"
      }
    },
    {
      "cell_type": "code",
      "source": [
        "value = list(map(int, input().split()))\n",
        "\n",
        "sosu = []\n",
        "for i in range(len(value)):\n",
        "  count = 0\n",
        "  if value[i] != 1:\n",
        "    for j in range(2,value[i]+1):\n",
        "      if value[i] % j == 0:\n",
        "        count += 1\n",
        "    if count == 1:\n",
        "      sosu.append(value[i])\n",
        "\n",
        "print(len(sosu))\n"
      ],
      "metadata": {
        "id": "1jjlZ4zxazNh",
        "colab": {
          "base_uri": "https://localhost:8080/"
        },
        "outputId": "6603417c-3801-4e3f-de4b-067b1cb3727d"
      },
      "execution_count": null,
      "outputs": [
        {
          "output_type": "stream",
          "name": "stdout",
          "text": [
            "1 3 5 7\n",
            "3\n"
          ]
        }
      ]
    },
    {
      "cell_type": "code",
      "source": [],
      "metadata": {
        "id": "J1Gs-Nz4coUX"
      },
      "execution_count": null,
      "outputs": []
    }
  ]
}