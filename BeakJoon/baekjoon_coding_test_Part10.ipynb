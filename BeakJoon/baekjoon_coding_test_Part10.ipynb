{
  "nbformat": 4,
  "nbformat_minor": 0,
  "metadata": {
    "colab": {
      "provenance": []
    },
    "kernelspec": {
      "name": "python3",
      "display_name": "Python 3"
    },
    "language_info": {
      "name": "python"
    }
  },
  "cells": [
    {
      "cell_type": "markdown",
      "source": [
        "---\n",
        "# 1. [최장 공통 부분 수열 찾기](https://www.acmicpc.net/problem/9252)\n",
        "---"
      ],
      "metadata": {
        "id": "pHv1CH9E384c"
      }
    },
    {
      "cell_type": "markdown",
      "source": [
        "- 특정 자리가 가리키는 행과 열의 문자열값을 비교해 값이 같으면 테이블의 대각선 왼쪾 위의 값에 1을 더한 값을 저장\n",
        "  - DF[i][j] = DF[i-1][j-1] + 1\n",
        "\n",
        "- 마지막 부터 탐색 수행하고, 자리에 있는 index 문자열값을 비교해 값이 같으면 최장 증가 수열에 해당하는 문자로 기록 후 왼쪽상단 대각선으로 이동, 비교한 값이 다르면 테이블의 왼쪽과 위졲 값 중 큰 값으로 이동"
      ],
      "metadata": {
        "id": "uNZMsywF4Uyn"
      }
    },
    {
      "cell_type": "code",
      "execution_count": null,
      "metadata": {
        "colab": {
          "base_uri": "https://localhost:8080/"
        },
        "id": "MZAM-6Z631Yk",
        "outputId": "4b183a1f-2676-4e81-c5d2-e575dcc16876"
      },
      "outputs": [
        {
          "output_type": "stream",
          "name": "stdout",
          "text": [
            "ACAYKP\n",
            "CAPCAK\n",
            "4\n"
          ]
        }
      ],
      "source": [
        "A = list(input())\n",
        "B = list(input())\n",
        "\n",
        "DP = [[0 for _ in range(len(B) + 1)] for _ in range(len(A) + 1)]\n",
        "path = []\n",
        "\n",
        "for i in range(1, len(A) + 1):\n",
        "  for j in range(1, len(B) + 1):\n",
        "    if A[i-1] == B[j-1]: # 같은 문자열 이라면 \n",
        "      DP[i][j] = DP[i-1][j-1] + 1 # 왼쪽 대각선 값의 + 1\n",
        "    else:  # 다르다면\n",
        "      DP[i][j] = max(DP[i-1][j], DP[i][j-1])\n",
        "\n",
        "print(DP[len(A)][len(B)])      "
      ]
    },
    {
      "cell_type": "code",
      "source": [
        "DP"
      ],
      "metadata": {
        "colab": {
          "base_uri": "https://localhost:8080/"
        },
        "id": "N3pZiJpL5CYZ",
        "outputId": "3f8ceb0e-4861-4a57-968b-b623fe0198ac"
      },
      "execution_count": null,
      "outputs": [
        {
          "output_type": "execute_result",
          "data": {
            "text/plain": [
              "[[0, 0, 0, 0, 0, 0, 0],\n",
              " [0, 0, 1, 1, 1, 1, 1],\n",
              " [0, 1, 1, 1, 2, 2, 2],\n",
              " [0, 1, 2, 2, 2, 3, 3],\n",
              " [0, 1, 2, 2, 2, 3, 3],\n",
              " [0, 1, 2, 2, 2, 3, 4],\n",
              " [0, 1, 2, 3, 3, 3, 4]]"
            ]
          },
          "metadata": {},
          "execution_count": 9
        }
      ]
    },
    {
      "cell_type": "code",
      "source": [
        "def gettext(r,c):\n",
        "  if r == 0 or c == 0:\n",
        "    return \n",
        "  if A[r-1] == B[c-1]:\n",
        "    path.append(A[r-1])\n",
        "    gettext(r-1, c-1)\n",
        "  else: \n",
        "    if DP[r-1][c] > DP[r][c-1]:\n",
        "      gettext(r-1,c)\n",
        "    else:\n",
        "      gettext(r,c-1)\n",
        "\n",
        "gettext(len(A), len(B))\n",
        "\n",
        "for i in range(len(path)-1, -1, -1):\n",
        "  print(path.pop(i), end='')\n",
        "  "
      ],
      "metadata": {
        "colab": {
          "base_uri": "https://localhost:8080/"
        },
        "id": "JQfiUPE05G8o",
        "outputId": "f90c67a3-4604-4ab0-a4f9-28562240d56c"
      },
      "execution_count": null,
      "outputs": [
        {
          "output_type": "stream",
          "name": "stdout",
          "text": [
            "ACAK"
          ]
        }
      ]
    },
    {
      "cell_type": "markdown",
      "source": [
        "---\n",
        "# 2. [가장 큰 정사각형 찾기](https://www.acmicpc.net/problem/1915)\n",
        "---"
      ],
      "metadata": {
        "id": "3vgYuAgp8Qfi"
      }
    },
    {
      "cell_type": "code",
      "source": [
        "D = [[0 for _ in range(1001)] for _ in range(1001)] # 최대 1001x1001 크기의 정사각형 리스트\n",
        "N,M = map(int, input().split()) # 가로 / 세로\n",
        "max = 0 # 최대값 저장 \n",
        "\n",
        "for i in range(N):\n",
        "  num = list(input()) # 데이터를 한줄 씩 저장\n",
        "  for j in range(M):\n",
        "    D[i][j] = int(num[j]) # 해당 위치에 데이터 저장\n",
        "    if (D[i][j] == 1) and (j >0) and (i > 0): # 해당 값이 1이면 \n",
        "      D[i][j] = min(D[i-1][j-1],D[i-1][j],D[i][j-1]) + D[i][j] # 자신의 위, 왼쪽, 대각선 위의 값 중 최소값 + 1을 저장\n",
        "    if max < D[i][j]: # 값이 최대값 보다 크면\n",
        "      max = D[i][j] # 최대값 업데이트\n",
        "\n",
        "print(max * max)"
      ],
      "metadata": {
        "colab": {
          "base_uri": "https://localhost:8080/"
        },
        "id": "v4TYHRwz7P8C",
        "outputId": "a843ff91-83c8-4423-935f-7c7d7cd89719"
      },
      "execution_count": null,
      "outputs": [
        {
          "output_type": "stream",
          "name": "stdout",
          "text": [
            "4 4\n",
            "0100\n",
            "0111\n",
            "1110\n",
            "0010\n",
            "4\n"
          ]
        }
      ]
    },
    {
      "cell_type": "markdown",
      "source": [
        "---\n",
        "# 3. [빌딩 순서 구하기](https://www.acmicpc.net/problem/1328)\n",
        "---"
      ],
      "metadata": {
        "id": "NYo8OGoe9tFZ"
      }
    },
    {
      "cell_type": "markdown",
      "source": [
        "- N개의 빌딩이 왼쪽에서 L개 오른쪽에서 R개가 보인다고 가정할 경우  \n",
        "  N-1개의 빌딩에서 왼쪽에 빌딩을 추가할 때, 왼쪽 빌딩이 1개 증가하므로 이전 경우수는 아래와 같다\n",
        "  - D[N-1][L-1][R]\n",
        "\n",
        "-  N-1개의 빌딩에서 오른쪽에 빌딩을 추가할 때, 오른쪽 빌딩이 1개 증가하므로 이전 경우수는 아래와 같다\n",
        "  - D[N-1][L][R-1]\n",
        "\n",
        "-  N-1개의 빌딩에서 가운데에 빌딩을 추가할 때는 증가 수가 없지만, N-2개의 위치에 배치할 수 있으므로 N-2를 곱한다.\n",
        "  - D[N-1][L][R] * (N-2)\n",
        "\n",
        "- 즉, D[N][L][R] = D[N-1][L-1][R] + D[N-1][L][R-1] + D[N-1][L][R] * (N-2)"
      ],
      "metadata": {
        "id": "E05JMwAC-S9C"
      }
    },
    {
      "cell_type": "code",
      "source": [
        "mod = 1000000007\n",
        "N, L ,R = map(int, input().split())\n",
        "D = [[[0 for _ in range(101)] for _ in range(101)] for _ in range(101)]\n",
        "D[1][1][1] = 1 # 빌딩이 1개일 경우 놓는 경우의 수는 1개 \n",
        "\n",
        "for i in range(2, N+1):\n",
        "  for j in range(1, L+1):\n",
        "    for k in range(1, R+1):\n",
        "      D[i][j][k] = (D[i-1][j][k] * (i-2) + (D[i-1][j][k-1] + D[i-1][j-1][k])) % mod      "
      ],
      "metadata": {
        "colab": {
          "base_uri": "https://localhost:8080/"
        },
        "id": "_KCHqfZM9kM2",
        "outputId": "74eb58f8-e127-4dd8-f4d2-6f67b924df2a"
      },
      "execution_count": null,
      "outputs": [
        {
          "name": "stdout",
          "output_type": "stream",
          "text": [
            "3 2 2\n"
          ]
        }
      ]
    },
    {
      "cell_type": "code",
      "source": [
        "print(D[N][L][R])"
      ],
      "metadata": {
        "colab": {
          "base_uri": "https://localhost:8080/"
        },
        "id": "RB85kEYH_5ww",
        "outputId": "95017c0d-a745-4596-861d-da4cd9abf047"
      },
      "execution_count": null,
      "outputs": [
        {
          "output_type": "stream",
          "name": "stdout",
          "text": [
            "2\n"
          ]
        }
      ]
    },
    {
      "cell_type": "markdown",
      "source": [
        "---\n",
        "# 4. [DDR을 해보자](https://www.acmicpc.net/problem/2342)\n",
        "---"
      ],
      "metadata": {
        "id": "Jd1UAXtl1xLD"
      }
    },
    {
      "cell_type": "markdown",
      "source": [
        "- D[N][L][R] = N개의 수열을 수행한 후 왼발의 위치가 L, 오른발의 위치가 R일때 최소 누적 힘"
      ],
      "metadata": {
        "id": "TDwlzzT12IiQ"
      }
    },
    {
      "cell_type": "code",
      "source": [
        "DP = [[[10000 for _ in range(5)] for _ in range(5)] for _ in range(100001)]\n",
        "\n",
        "# 발을 이동할 때 드는 힘을 미리 저장하는 리스트\n",
        "MP = [[0,2,2,2,2],\n",
        "      [2,1,3,4,3],\n",
        "      [2,3,1,3,4],\n",
        "      [2,4,3,1,3],\n",
        "      [2,3,4,3,1]]\n",
        "\n",
        "S = 1\n",
        "DP[0][0][0] = 0 \n",
        "\n",
        "input_list = list(map(int, input().split()))\n",
        "index = 0\n",
        "\n",
        "while input_list[index] != 0:\n",
        "  n = input_list[index]\n",
        "  for i in range(5):\n",
        "    if n == 1:\n",
        "      continue\n",
        "    for j in range(5):\n",
        "      DP[S][i][n] = min(DP[S-1][i][j] + MP[j][n], DP[S][i][n])\n",
        "\n",
        "  for j in range(5):\n",
        "    if n == j:\n",
        "      continue\n",
        "\n",
        "    for i in range(5):\n",
        "      DP[S][n][j] = min(DP[S-1][i][j] + MP[i][n], DP[S][n][j])\n",
        "  S += 1\n",
        "  index += 1\n",
        "\n",
        "S -= 1\n",
        "result = 10000\n",
        "\n",
        "for i in range(5):\n",
        "  for j in range(5):\n",
        "    result = min(result, DP[S][i][j])\n",
        "\n",
        "print(result)"
      ],
      "metadata": {
        "colab": {
          "base_uri": "https://localhost:8080/"
        },
        "id": "0Y6nU1mV11CH",
        "outputId": "c802bb46-dc41-493f-962c-e3a2aa017e6b"
      },
      "execution_count": null,
      "outputs": [
        {
          "output_type": "stream",
          "name": "stdout",
          "text": [
            "1 2 2 4 0\n",
            "8\n"
          ]
        }
      ]
    },
    {
      "cell_type": "markdown",
      "source": [
        "---\n",
        "# 5. [행렬 곱 연산 횟수의 최솟값 구하기](https://www.acmicpc.net/problem/2342)\n",
        "---"
      ],
      "metadata": {
        "id": "36yiHtkB38H2"
      }
    },
    {
      "cell_type": "code",
      "source": [
        "N = int(input()) # 행렬 개수\n",
        "M = [] # 행렬 저장 리스트\n",
        "D = [[-1 for _ in range(N+1)] for _ in range(N+1)] # 최소 연산횟수 저장 테이블 \n",
        "\n",
        "M.append((0,0))\n",
        "\n",
        "for i in range(N):\n",
        "  x,y = map(int,input().split())\n",
        "  M.append((x,y))\n",
        "\n",
        "def execute(s,e): # 탑-다운 방식 점화식 \n",
        "  result = 10000\n",
        "  if D[s][e] != -1: # 이미 계산한 부분은 다시 계산X\n",
        "    return D[s][e]\n",
        "  if s == e : # 행렬 1개의 곱셈 연산\n",
        "    return 0\n",
        "  if s+1 == e: # 행렬 2개의 곱셈 연산\n",
        "    return M[s][0] *M[s][1] * M[e][1]\n",
        "\n",
        "  for i in range(s,e): # 행렬 3개 이상일 경우 곱셈 연산\n",
        "    result = min(result, M[s][0] * M[i][1] * M[e][1] + execute(s,i) + execute(i+1, e))\n",
        "  D[s][e] = result\n",
        "  return D[s][e]"
      ],
      "metadata": {
        "id": "PPN7LH5-3sD8",
        "colab": {
          "base_uri": "https://localhost:8080/"
        },
        "outputId": "9c89de39-beba-48cb-f6f6-8da46975c5c1"
      },
      "execution_count": null,
      "outputs": [
        {
          "name": "stdout",
          "output_type": "stream",
          "text": [
            "3\n",
            "5 3\n",
            "3 2\n",
            "2 6\n"
          ]
        }
      ]
    },
    {
      "cell_type": "code",
      "source": [
        "M"
      ],
      "metadata": {
        "colab": {
          "base_uri": "https://localhost:8080/"
        },
        "id": "CI95cEy18gYc",
        "outputId": "4f5972c0-7f64-464f-cb37-7fed10fe38b4"
      },
      "execution_count": null,
      "outputs": [
        {
          "output_type": "execute_result",
          "data": {
            "text/plain": [
              "[(0, 0), (5, 3), (3, 2), (2, 6)]"
            ]
          },
          "metadata": {},
          "execution_count": 10
        }
      ]
    },
    {
      "cell_type": "code",
      "source": [
        "execute(1,N)"
      ],
      "metadata": {
        "colab": {
          "base_uri": "https://localhost:8080/"
        },
        "id": "SeCZrIEq8v-v",
        "outputId": "a02fd53a-abb4-4615-e50b-3d9e451be9a9"
      },
      "execution_count": null,
      "outputs": [
        {
          "output_type": "execute_result",
          "data": {
            "text/plain": [
              "90"
            ]
          },
          "metadata": {},
          "execution_count": 11
        }
      ]
    },
    {
      "cell_type": "markdown",
      "source": [
        "---\n",
        "# 6. [외판원의 순회 경로 짜기](https://www.acmicpc.net/problem/2098)\n",
        "---"
      ],
      "metadata": {
        "id": "haXF30459JCc"
      }
    },
    {
      "cell_type": "markdown",
      "source": [
        "- D[c][v] : 현재 도시가 c, 현재까지 방문한 모든 도시 리스트가 v 일때, 앞으로 남은 모든 도시를 경유하는대 필요한 최소비용 \n",
        "\n",
        "- 완전 탐색의 경우 DFS, BFS를 이용해 해결이 가능하나, 해당 문제는 v 부분에 리스트로 들어간다는 것이 문제 \n",
        "- 해당 문제를 해결하기 위해 방문한 도시의 리스트를 이진수로 표현해야 됨\n",
        "\n"
      ],
      "metadata": {
        "id": "42FCKcL39hQy"
      }
    },
    {
      "cell_type": "code",
      "source": [
        "N = int(input())\n",
        "W = []\n",
        "\n",
        "for i in range(N):\n",
        "  W.append([])\n",
        "  W[i] = list(map(int,input().split())) \n",
        "\n",
        "D = [[0 for _ in range(1 << 16)] for i in range(16)]"
      ],
      "metadata": {
        "colab": {
          "base_uri": "https://localhost:8080/"
        },
        "id": "zZhuzczC81DQ",
        "outputId": "25651797-5ac4-4297-be61-ed9210d62e8f"
      },
      "execution_count": null,
      "outputs": [
        {
          "name": "stdout",
          "output_type": "stream",
          "text": [
            "4\n",
            "0 10 15 20\n",
            "5 0 9 10\n",
            "6 13 0 12\n",
            "8 8 9 0\n"
          ]
        }
      ]
    },
    {
      "cell_type": "code",
      "source": [
        "W"
      ],
      "metadata": {
        "colab": {
          "base_uri": "https://localhost:8080/"
        },
        "id": "a7w6iolH-hqZ",
        "outputId": "578812b4-bd64-409f-94e7-17c1572f6fd9"
      },
      "execution_count": null,
      "outputs": [
        {
          "output_type": "execute_result",
          "data": {
            "text/plain": [
              "[[0, 10, 15, 20], [5, 0, 9, 10], [6, 13, 0, 12], [8, 8, 9, 0]]"
            ]
          },
          "metadata": {},
          "execution_count": 17
        }
      ]
    },
    {
      "cell_type": "code",
      "source": [
        "def tsp(c,v):\n",
        "  if v == (1<<N) -1 : # 모든 노드를 방문한 경우 \n",
        "    if W[c][0] == 0: # 시작 도시로 돌아갈 수 없을 경우\n",
        "      return float('inf') # 무한대 값 반환\n",
        "    else: # 시작 도시로 돌아갈 수 있는 경우 \n",
        "      return W[c][0] # W[c][시작 도시]\n",
        "  \n",
        "  if D[c][v] != 0: # 이미 방문한 노드인 경우 바로 리턴\n",
        "    return D[c][v]\n",
        "  min_val = float('inf')\n",
        "  for i in range(N):\n",
        "    # 방문한 적이 없고, 갈 수 있는 도시인 경우\n",
        "    if (v & (1 <<i)) == 0 and W[c][i] != 0 :\n",
        "        min_val = min(min_val, tsp(i, (v (1 << i))) + W[c][i])\n",
        "  \n",
        "  D[c][v] = min_val\n",
        "  return D[c][v]"
      ],
      "metadata": {
        "id": "HgS071tQ-kyZ"
      },
      "execution_count": null,
      "outputs": []
    },
    {
      "cell_type": "markdown",
      "source": [
        "---\n",
        "# 7. [선분 방향 구하기](https://www.acmicpc.net/problem/11758)\n",
        "---"
      ],
      "metadata": {
        "id": "97WPpTkiPUqG"
      }
    },
    {
      "cell_type": "markdown",
      "source": [
        "#### 아아디어 = CCW(Counter-Clock Wise) (기하)\n",
        "\n",
        "- CCW = $(X_1Y_2 + X_2Y_3 + X_3Y_1) - (X_2Y_1 + X_3Y_2 + X_1Y_3)$\n",
        "\n",
        "  - CCW < 결과 = 시계 방향\n",
        "  - CCW = 결과 = 일직선\n",
        "  - CCW > 결과 = 반시계 방향\n",
        "- CCW 결과의 절댓값은 세 점의 벡터의 외적값\n",
        "- 절대값을 절반으로 나누면 세 점으로 이뤄진 삼각형의 넓이 "
      ],
      "metadata": {
        "id": "iikZuf2fQS6k"
      }
    },
    {
      "cell_type": "code",
      "source": [
        "x1, y1 = map(int,input().split())\n",
        "x2, y2 = map(int,input().split())\n",
        "x3, y3 = map(int,input().split())\n",
        "\n",
        "# CCW 공식\n",
        "result = ((x1 * y2) + (x2 * y3) + (x3 * y1)) - ((x2 * y1) + (x3 * y2) + (x1 * y3))\n",
        "\n",
        "if result > 0 :\n",
        "  print(1) # 반시계 방향\n",
        "elif result < 0:\n",
        "  print(-1) # 시계 방향\n",
        "else :\n",
        "  print(0) # 일직선"
      ],
      "metadata": {
        "id": "dBjS9rGA_9ZL",
        "colab": {
          "base_uri": "https://localhost:8080/"
        },
        "outputId": "59e6eb47-8601-472c-b782-ec30ad361138"
      },
      "execution_count": null,
      "outputs": [
        {
          "output_type": "stream",
          "name": "stdout",
          "text": [
            "1 1\n",
            "5 5\n",
            "7 3\n",
            "-1\n"
          ]
        }
      ]
    },
    {
      "cell_type": "markdown",
      "source": [
        "---\n",
        "# 8. [선분의 교차 여부 구하기](https://www.acmicpc.net/problem/17387)\n",
        "---"
      ],
      "metadata": {
        "id": "BhmdjSrdSVlg"
      }
    },
    {
      "cell_type": "markdown",
      "source": [
        "- A,B,C,D 4개의 점\n",
        "- A-B를 기준으로 C와 D의 CCW한 값의 곱과 C-D를 기준으로 A와 B의 CCW한 값의 곱이 모두 음수이면 두 선분은 교차"
      ],
      "metadata": {
        "id": "cXf6yV4uWzZ_"
      }
    },
    {
      "cell_type": "code",
      "source": [
        "x1, y1, x2, y2 = map(int, input().split())\n",
        "x3, y3, x4, y4 = map(int, input().split())\n",
        "\n",
        "def CCW(x1,y1,x2,y2,x3,y3):\n",
        "  temp = ((x1 * y2) + (x2 * y3) + (x3 * y1)) - ((x2 * y1) + (x3 * y2) + (x1 * y3))\n",
        "  if temp > 0 :\n",
        "    return 1\n",
        "  elif temp < 0 :\n",
        "    return -1 \n",
        "  else: \n",
        "    return 0\n",
        "\n",
        "def over_lab(x1,y1,x2,y2,x3,y3,x4,y4):    \n",
        "  # 특정 선분과 좌표의 max값이 타 선분의 min값 보다 항상 크거나 같으면 선분 교차\n",
        "  if (min(x1, x2) <= max(x3,x4)) and (min(x3,x4) <= max(x1,x2)) and (min(y1, y2) <= max(y3,y4)) and (min(y3,y4) <= max(y1,y2)):\n",
        "    return True\n",
        "\n",
        "def cross(x1,y1,x2,y2,x3,y3,x4,y4):\n",
        "  abc = CCW(x1, y1, x2, y2, x3, y3)\n",
        "  abd = CCW(x1, y1, x2, y2, x4, y4)\n",
        "  cda = CCW(x3, y3, x4, y4, x1, y1)\n",
        "  cdb = CCW(x3, y3, x4, y4, x2, y2)\n",
        "  if abc * abd == 0 and cda * cdb == 0:\n",
        "    return over_lab(x1,y1,x2,y2,x3,y3,x4,y4)\n",
        "  elif abc * abd <= 0 and cda * cdb <= 0:\n",
        "    return True\n",
        "  return False"
      ],
      "metadata": {
        "colab": {
          "base_uri": "https://localhost:8080/"
        },
        "id": "8I15YTJvRptE",
        "outputId": "0ed3567c-f138-44ce-c74f-525ed92652db"
      },
      "execution_count": null,
      "outputs": [
        {
          "name": "stdout",
          "output_type": "stream",
          "text": [
            "1 1 5 5\n",
            "3 3 1 3\n"
          ]
        }
      ]
    },
    {
      "cell_type": "code",
      "source": [
        "value = cross(x1,y1,x2,y2,x3,y3,x4,y4)\n",
        "\n",
        "if value :\n",
        "  print(1)\n",
        "else:\n",
        "  print(0)"
      ],
      "metadata": {
        "colab": {
          "base_uri": "https://localhost:8080/"
        },
        "id": "AUBdu2GxZ7E8",
        "outputId": "6ca4c2cf-4d14-4501-e45b-bd3f2120da95"
      },
      "execution_count": null,
      "outputs": [
        {
          "output_type": "stream",
          "name": "stdout",
          "text": [
            "1\n"
          ]
        }
      ]
    },
    {
      "cell_type": "markdown",
      "source": [
        "---\n",
        "# 9. [선분을 그룹으로 나누기](https://www.acmicpc.net/problem/2162)\n",
        "---"
      ],
      "metadata": {
        "id": "P5sRGS-y2XPe"
      }
    },
    {
      "cell_type": "code",
      "source": [
        "N = int(input()) # 선분 개수\n",
        "parent = [-1] * (3001) # 선분들의 부모 선분 저장 노드\n",
        "\n",
        "def CCW(x1, y1, x2, y2, x3, y3):\n",
        "  temp = (x1 * y2 + x2 * y3 + x3 * y1) - (x2 * y1 + x3 * y2 + x1 * y3)\n",
        "  if temp > 0:\n",
        "    return 1\n",
        "  elif temp < 0 :\n",
        "    return -1\n",
        "  else:\n",
        "    return 0\n",
        "\n",
        "def over_lab(x1,y1,x2,y2,x3,y3,x4,y4):    \n",
        "  # 특정 선분과 좌표의 max값이 타 선분의 min값 보다 항상 크거나 같으면 선분 교차\n",
        "  if (min(x1, x2) <= max(x3,x4)) and (min(x3,x4) <= max(x1,x2)) and (min(y1, y2) <= max(y3,y4)) and (min(y3,y4) <= max(y1,y2)):\n",
        "    return True\n",
        "\n",
        "def cross(x1,y1,x2,y2,x3,y3,x4,y4):\n",
        "  abc = CCW(x1, y1, x2, y2, x3, y3)\n",
        "  abd = CCW(x1, y1, x2, y2, x4, y4)\n",
        "  cda = CCW(x3, y3, x4, y4, x1, y1)\n",
        "  cdb = CCW(x3, y3, x4, y4, x2, y2)\n",
        "  if abc * abd == 0 and cda * cdb == 0:\n",
        "    return over_lab(x1,y1,x2,y2,x3,y3,x4,y4)\n",
        "  elif abc * abd <= 0 and cda * cdb <= 0:\n",
        "    return True\n",
        "  return False\n",
        "\n",
        "# Union-Find\n",
        "def find(a):     \n",
        "  if parent[a] < 0:\n",
        "    return a\n",
        "  parent[a] = find(parent[a])\n",
        "  return parent[a]\n",
        "\n",
        "def union(a,b):\n",
        "  p = find(a)\n",
        "  q = find(b)\n",
        "  if p == q:\n",
        "    return \n",
        "  parent[p] += parent[q]\n",
        "  parent[q] = p"
      ],
      "metadata": {
        "id": "4rxA-BChaP70",
        "colab": {
          "base_uri": "https://localhost:8080/"
        },
        "outputId": "a284b889-89d0-4f45-d257-c62a386c0752"
      },
      "execution_count": null,
      "outputs": [
        {
          "name": "stdout",
          "output_type": "stream",
          "text": [
            "3\n"
          ]
        }
      ]
    },
    {
      "cell_type": "code",
      "source": [
        "L = []\n",
        "L.append([])  \n",
        "\n",
        "for i in range(1, N+1):\n",
        "  L.append([])\n",
        "  L[i] = list(map(int, input().split()))\n",
        "  for j in range(1,i):\n",
        "    if cross(L[i][0], L[i][1], L[i][2], L[i][3], L[j][0], L[j][1], L[j][2], L[j][3]):\n",
        "      union(i,j)\n",
        "\n",
        "ans = 0\n",
        "res = 0\n",
        "\n",
        "for i in range(1, N+1):\n",
        "  if parent[i] < 0:\n",
        "    ans += 1\n",
        "    res = min(res, parent[i])\n",
        "\n",
        "print(ans)    \n",
        "print(-res)    "
      ],
      "metadata": {
        "colab": {
          "base_uri": "https://localhost:8080/"
        },
        "id": "wx1EGO5n30QH",
        "outputId": "be09dba6-1305-4e36-8cfe-b77d4e812d0b"
      },
      "execution_count": null,
      "outputs": [
        {
          "output_type": "stream",
          "name": "stdout",
          "text": [
            "1 1 2 3\n",
            "2 1 0 0\n",
            "1 0 1 1\n",
            "1\n",
            "3\n"
          ]
        }
      ]
    },
    {
      "cell_type": "markdown",
      "source": [
        "---\n",
        "# 10. [다각형의 넓이 구하기](https://www.acmicpc.net/problem/2166)\n",
        "---"
      ],
      "metadata": {
        "id": "fSX2Lf4krwMD"
      }
    },
    {
      "cell_type": "markdown",
      "source": [
        "- CCW(A,B,C)의 절대값 = 평행사변형의 넓이 \n",
        "- CCW(A,B,C)의 절대값 / 2  = 삼각형의 넓이 \n",
        "- 원점과 다른 두 점 사이의 CCW 공식\n",
        "  - CCW = (x1y2 + x2y3, x3y1) - (x2y2 + x3y2 + x1y3)\n",
        "  - (x1y2 + 0, 0) - (x2y2 + 0 + 0)\n",
        "  - x1y2 - x2y1"
      ],
      "metadata": {
        "id": "w3N8lDa6s_Oj"
      }
    },
    {
      "cell_type": "code",
      "source": [
        "N = int(input()) # 점의 개수\n",
        "X = [] # 좌표 저장 리스트\n",
        "Y = []\n",
        "\n",
        "for i in range(N):\n",
        "  x, y = map(int,input().split())\n",
        "  X.append(x)\n",
        "  Y.append(y)\n",
        "\n",
        "# 마지막에 처음 점 다시 넣기\n",
        "X.append(X[0])  \n",
        "Y.append(Y[0])\n",
        "\n",
        "result = 0"
      ],
      "metadata": {
        "id": "aI7VZrdU4caB",
        "colab": {
          "base_uri": "https://localhost:8080/"
        },
        "outputId": "54fb0a83-6996-4d4d-d353-1f0be93a5269"
      },
      "execution_count": 2,
      "outputs": [
        {
          "name": "stdout",
          "output_type": "stream",
          "text": [
            "4\n",
            "0 0\n",
            "0 10\n",
            "10 10\n",
            "10 0\n"
          ]
        }
      ]
    },
    {
      "cell_type": "code",
      "source": [
        "for i in range(N):\n",
        "  result += (X[i] * Y[i+1]) - (X[i+1] * Y[i])\n",
        "\n",
        "round(abs(result/2), 1)  "
      ],
      "metadata": {
        "colab": {
          "base_uri": "https://localhost:8080/"
        },
        "id": "ofaOkcPvuYhA",
        "outputId": "5e01780d-8ea5-4ff1-9da5-b645f7cbb2f5"
      },
      "execution_count": 5,
      "outputs": [
        {
          "output_type": "execute_result",
          "data": {
            "text/plain": [
              "100.0"
            ]
          },
          "metadata": {},
          "execution_count": 5
        }
      ]
    }
  ]
}