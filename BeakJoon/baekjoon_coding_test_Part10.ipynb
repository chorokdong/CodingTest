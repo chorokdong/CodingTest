{
  "nbformat": 4,
  "nbformat_minor": 0,
  "metadata": {
    "colab": {
      "provenance": []
    },
    "kernelspec": {
      "name": "python3",
      "display_name": "Python 3"
    },
    "language_info": {
      "name": "python"
    }
  },
  "cells": [
    {
      "cell_type": "markdown",
      "source": [
        "---\n",
        "# 1. [최장 공통 부분 수열 찾기](https://www.acmicpc.net/problem/9252)\n",
        "---"
      ],
      "metadata": {
        "id": "pHv1CH9E384c"
      }
    },
    {
      "cell_type": "markdown",
      "source": [
        "- 특정 자리가 가리키는 행과 열의 문자열값을 비교해 값이 같으면 테이블의 대각선 왼쪾 위의 값에 1을 더한 값을 저장\n",
        "  - DF[i][j] = DF[i-1][j-1] + 1\n",
        "\n",
        "- 마지막 부터 탐색 수행하고, 자리에 있는 index 문자열값을 비교해 값이 같으면 최장 증가 수열에 해당하는 문자로 기록 후 왼쪽상단 대각선으로 이동, 비교한 값이 다르면 테이블의 왼쪽과 위졲 값 중 큰 값으로 이동"
      ],
      "metadata": {
        "id": "uNZMsywF4Uyn"
      }
    },
    {
      "cell_type": "code",
      "execution_count": 8,
      "metadata": {
        "colab": {
          "base_uri": "https://localhost:8080/"
        },
        "id": "MZAM-6Z631Yk",
        "outputId": "4b183a1f-2676-4e81-c5d2-e575dcc16876"
      },
      "outputs": [
        {
          "output_type": "stream",
          "name": "stdout",
          "text": [
            "ACAYKP\n",
            "CAPCAK\n",
            "4\n"
          ]
        }
      ],
      "source": [
        "A = list(input())\n",
        "B = list(input())\n",
        "\n",
        "DP = [[0 for _ in range(len(B) + 1)] for _ in range(len(A) + 1)]\n",
        "path = []\n",
        "\n",
        "for i in range(1, len(A) + 1):\n",
        "  for j in range(1, len(B) + 1):\n",
        "    if A[i-1] == B[j-1]: # 같은 문자열 이라면 \n",
        "      DP[i][j] = DP[i-1][j-1] + 1 # 왼쪽 대각선 값의 + 1\n",
        "    else:  # 다르다면\n",
        "      DP[i][j] = max(DP[i-1][j], DP[i][j-1])\n",
        "\n",
        "print(DP[len(A)][len(B)])      "
      ]
    },
    {
      "cell_type": "code",
      "source": [
        "DP"
      ],
      "metadata": {
        "colab": {
          "base_uri": "https://localhost:8080/"
        },
        "id": "N3pZiJpL5CYZ",
        "outputId": "3f8ceb0e-4861-4a57-968b-b623fe0198ac"
      },
      "execution_count": 9,
      "outputs": [
        {
          "output_type": "execute_result",
          "data": {
            "text/plain": [
              "[[0, 0, 0, 0, 0, 0, 0],\n",
              " [0, 0, 1, 1, 1, 1, 1],\n",
              " [0, 1, 1, 1, 2, 2, 2],\n",
              " [0, 1, 2, 2, 2, 3, 3],\n",
              " [0, 1, 2, 2, 2, 3, 3],\n",
              " [0, 1, 2, 2, 2, 3, 4],\n",
              " [0, 1, 2, 3, 3, 3, 4]]"
            ]
          },
          "metadata": {},
          "execution_count": 9
        }
      ]
    },
    {
      "cell_type": "code",
      "source": [
        "def gettext(r,c):\n",
        "  if r == 0 or c == 0:\n",
        "    return \n",
        "  if A[r-1] == B[c-1]:\n",
        "    path.append(A[r-1])\n",
        "    gettext(r-1, c-1)\n",
        "  else: \n",
        "    if DP[r-1][c] > DP[r][c-1]:\n",
        "      gettext(r-1,c)\n",
        "    else:\n",
        "      gettext(r,c-1)\n",
        "\n",
        "gettext(len(A), len(B))\n",
        "\n",
        "for i in range(len(path)-1, -1, -1):\n",
        "  print(path.pop(i), end='')\n",
        "  "
      ],
      "metadata": {
        "colab": {
          "base_uri": "https://localhost:8080/"
        },
        "id": "JQfiUPE05G8o",
        "outputId": "f90c67a3-4604-4ab0-a4f9-28562240d56c"
      },
      "execution_count": 10,
      "outputs": [
        {
          "output_type": "stream",
          "name": "stdout",
          "text": [
            "ACAK"
          ]
        }
      ]
    },
    {
      "cell_type": "markdown",
      "source": [
        "---\n",
        "# 2. [가장 큰 정사각형 찾기](https://www.acmicpc.net/problem/1915)\n",
        "---"
      ],
      "metadata": {
        "id": "3vgYuAgp8Qfi"
      }
    },
    {
      "cell_type": "code",
      "source": [
        "D = [[0 for _ in range(1001)] for _ in range(1001)] # 최대 1001x1001 크기의 정사각형 리스트\n",
        "N,M = map(int, input().split()) # 가로 / 세로\n",
        "max = 0 # 최대값 저장 \n",
        "\n",
        "for i in range(N):\n",
        "  num = list(input()) # 데이터를 한줄 씩 저장\n",
        "  for j in range(M):\n",
        "    D[i][j] = int(num[j]) # 해당 위치에 데이터 저장\n",
        "    if (D[i][j] == 1) and (j >0) and (i > 0): # 해당 값이 1이면 \n",
        "      D[i][j] = min(D[i-1][j-1],D[i-1][j],D[i][j-1]) + D[i][j] # 자신의 위, 왼쪽, 대각선 위의 값 중 최소값 + 1을 저장\n",
        "    if max < D[i][j]: # 값이 최대값 보다 크면\n",
        "      max = D[i][j] # 최대값 업데이트\n",
        "\n",
        "print(max * max)"
      ],
      "metadata": {
        "colab": {
          "base_uri": "https://localhost:8080/"
        },
        "id": "v4TYHRwz7P8C",
        "outputId": "a843ff91-83c8-4423-935f-7c7d7cd89719"
      },
      "execution_count": 12,
      "outputs": [
        {
          "output_type": "stream",
          "name": "stdout",
          "text": [
            "4 4\n",
            "0100\n",
            "0111\n",
            "1110\n",
            "0010\n",
            "4\n"
          ]
        }
      ]
    },
    {
      "cell_type": "markdown",
      "source": [
        "---\n",
        "# 3. [빌딩 순서 구하기](https://www.acmicpc.net/problem/1328)\n",
        "---"
      ],
      "metadata": {
        "id": "NYo8OGoe9tFZ"
      }
    },
    {
      "cell_type": "markdown",
      "source": [
        "- N개의 빌딩이 왼쪽에서 L개 오른쪽에서 R개가 보인다고 가정할 경우  \n",
        "  N-1개의 빌딩에서 왼쪽에 빌딩을 추가할 때, 왼쪽 빌딩이 1개 증가하므로 이전 경우수는 아래와 같다\n",
        "  - D[N-1][L-1][R]\n",
        "\n",
        "-  N-1개의 빌딩에서 오른쪽에 빌딩을 추가할 때, 오른쪽 빌딩이 1개 증가하므로 이전 경우수는 아래와 같다\n",
        "  - D[N-1][L][R-1]\n",
        "\n",
        "-  N-1개의 빌딩에서 가운데에 빌딩을 추가할 때는 증가 수가 없지만, N-2개의 위치에 배치할 수 있으므로 N-2를 곱한다.\n",
        "  - D[N-1][L][R] * (N-2)\n",
        "\n",
        "- 즉, D[N][L][R] = D[N-1][L-1][R] + D[N-1][L][R-1] + D[N-1][L][R] * (N-2)"
      ],
      "metadata": {
        "id": "E05JMwAC-S9C"
      }
    },
    {
      "cell_type": "code",
      "source": [
        "mod = 1000000007\n",
        "N, L ,R = map(int, input().split())\n",
        "D = [[[0 for _ in range(101)] for _ in range(101)] for _ in range(101)]\n",
        "D[1][1][1] = 1 # 빌딩이 1개일 경우 놓는 경우의 수는 1개 \n",
        "\n",
        "for i in range(2, N+1):\n",
        "  for j in range(1, L+1):\n",
        "    for k in range(1, R+1):\n",
        "      D[i][j][k] = (D[i-1][j][k] * (i-2) + (D[i-1][j][k-1] + D[i-1][j-1][k])) % mod      "
      ],
      "metadata": {
        "colab": {
          "base_uri": "https://localhost:8080/"
        },
        "id": "_KCHqfZM9kM2",
        "outputId": "74eb58f8-e127-4dd8-f4d2-6f67b924df2a"
      },
      "execution_count": 13,
      "outputs": [
        {
          "name": "stdout",
          "output_type": "stream",
          "text": [
            "3 2 2\n"
          ]
        }
      ]
    },
    {
      "cell_type": "code",
      "source": [
        "print(D[N][L][R])"
      ],
      "metadata": {
        "colab": {
          "base_uri": "https://localhost:8080/"
        },
        "id": "RB85kEYH_5ww",
        "outputId": "95017c0d-a745-4596-861d-da4cd9abf047"
      },
      "execution_count": 15,
      "outputs": [
        {
          "output_type": "stream",
          "name": "stdout",
          "text": [
            "2\n"
          ]
        }
      ]
    }
  ]
}