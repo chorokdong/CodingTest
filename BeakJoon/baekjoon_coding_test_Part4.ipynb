{
  "nbformat": 4,
  "nbformat_minor": 0,
  "metadata": {
    "colab": {
      "provenance": []
    },
    "kernelspec": {
      "name": "python3",
      "display_name": "Python 3"
    },
    "language_info": {
      "name": "python"
    }
  },
  "cells": [
    {
      "cell_type": "markdown",
      "source": [
        "---\n",
        "# 1. [DFS와 BFS 프로그램](https://www.acmicpc.net/problem/1260)\n",
        "---"
      ],
      "metadata": {
        "id": "ZvdMe7RFtyv3"
      }
    },
    {
      "cell_type": "code",
      "execution_count": null,
      "metadata": {
        "colab": {
          "base_uri": "https://localhost:8080/"
        },
        "id": "Fv-gOWc7txhR",
        "outputId": "a243e91d-e21b-4610-f0b4-88a45290a5af"
      },
      "outputs": [
        {
          "output_type": "stream",
          "name": "stdout",
          "text": [
            "5 5 3\n",
            "5 4\n",
            "5 2\n",
            "1 2\n",
            "3 4\n",
            "3 1\n",
            "정렬 전 [[], [2, 3], [5, 1], [4, 1], [5, 3], [4, 2]]\n",
            "정렬 후: [[], [2, 3], [1, 5], [1, 4], [3, 5], [2, 4]]\n"
          ]
        }
      ],
      "source": [
        "from collections import deque\n",
        "N, M ,start = map(int, input().split())\n",
        "A = [[] for i in range(N+1)]\n",
        "visited = [False] * (N + 1)\n",
        "visited_queue = [False] * (N + 1)\n",
        "\n",
        "for i in range(M):\n",
        "  s, e = map(int,input().split())\n",
        "  A[s].append(e)\n",
        "  A[e].append(s)\n",
        "\n",
        "print('정렬 전',A)\n",
        "\n",
        "for i in range(N + 1):\n",
        "  A[i].sort()\n",
        "\n",
        "print('정렬 후:',A)"
      ]
    },
    {
      "cell_type": "code",
      "source": [
        "# DFS값 \n",
        "def DFS(now):\n",
        "  print(now, end=' ')\n",
        "  visited[now] = True  \n",
        "  for i in A[now]:\n",
        "    if not visited[i]:\n",
        "      DFS(i)\n",
        "\n",
        "DFS(start)"
      ],
      "metadata": {
        "colab": {
          "base_uri": "https://localhost:8080/"
        },
        "id": "3Nw5k8KguN3G",
        "outputId": "5315e2bd-48d7-4585-de60-7562247ec823"
      },
      "execution_count": null,
      "outputs": [
        {
          "output_type": "stream",
          "name": "stdout",
          "text": [
            "3 1 2 5 4 "
          ]
        }
      ]
    },
    {
      "cell_type": "code",
      "source": [
        "# BFS값 = DFS와 달리 재귀함수로 구현할 수 없기 때문에 큐를 사용\n",
        "def BFS(now):\n",
        "  queue = deque()\n",
        "  queue.append(now) # 큐에 저장 \n",
        "  visited_queue[now] = True # 방문 기록 남기기\n",
        "\n",
        "  while queue:\n",
        "    now_node = queue.popleft() # 방문하고 난 뒤 삭제 \n",
        "    print(now_node, end=' ')\n",
        "    for i in A[now_node]:\n",
        "      if not visited_queue[i]:\n",
        "        visited_queue[i] = True\n",
        "        queue.append(i)\n",
        "\n",
        "BFS(start)\n"
      ],
      "metadata": {
        "colab": {
          "base_uri": "https://localhost:8080/"
        },
        "id": "Oe96B84JvTYi",
        "outputId": "9a5a135f-c0ca-4f6d-8717-e1c3b90fed13"
      },
      "execution_count": null,
      "outputs": [
        {
          "output_type": "stream",
          "name": "stdout",
          "text": [
            "3 1 4 2 5 "
          ]
        }
      ]
    },
    {
      "cell_type": "markdown",
      "source": [
        "---\n",
        "# 2. [미로 탐색하기](https://www.acmicpc.net/problem/2178)\n",
        "---"
      ],
      "metadata": {
        "id": "EfFK_V5MxD1Y"
      }
    },
    {
      "cell_type": "markdown",
      "source": [
        "#### 아이디어 = BFS \n",
        "\n",
        "경로의 최단값을 찾기 떄문\n",
        "\n",
        "방문하면서 depth 마다 1씩 더해주면 마지막 경로 도착시 몇번 만에 도착했는지 확인 가능  \n",
        "더불어 각 좌표마다 최단거리 확인 가능 "
      ],
      "metadata": {
        "id": "eo6kEwpYxnMq"
      }
    },
    {
      "cell_type": "code",
      "source": [
        "from collections import deque\n",
        "N,M = map(int,input().split()) # 행과 열\n",
        "A = [[0] * M for i in range(N)] # (N x M)의 행렬을 생성\n",
        "visited = [[False] * M for i in range(N)] # (N x M)의 방문 기록용 행렬 생성 \n",
        "\n",
        "# 상하좌우 탐색을 위한 리스트 선언\n",
        "dx = [0, 1, 0, -1]\n",
        "dy = [1, 0, -1, 0]\n",
        "\n",
        "# 경로값 받아서 A에 삽입\n",
        "for i in range(N):\n",
        "  num = list(input())\n",
        "  for j in range(M):\n",
        "    A[i][j] = int(num[j])"
      ],
      "metadata": {
        "colab": {
          "base_uri": "https://localhost:8080/"
        },
        "id": "MDOyWJsxxImu",
        "outputId": "2717411c-2fe1-4573-f771-f4043aad3a14"
      },
      "execution_count": null,
      "outputs": [
        {
          "name": "stdout",
          "output_type": "stream",
          "text": [
            "4 6\n",
            "101111\n",
            "101010\n",
            "101011\n",
            "111011\n"
          ]
        }
      ]
    },
    {
      "cell_type": "code",
      "source": [
        "A"
      ],
      "metadata": {
        "colab": {
          "base_uri": "https://localhost:8080/"
        },
        "id": "Df9ntVL6zMvj",
        "outputId": "fbe7f94f-089b-4156-a4c9-92bb30cc8335"
      },
      "execution_count": null,
      "outputs": [
        {
          "output_type": "execute_result",
          "data": {
            "text/plain": [
              "[[1, 0, 1, 1, 1, 1],\n",
              " [1, 0, 1, 0, 1, 0],\n",
              " [1, 0, 1, 0, 1, 1],\n",
              " [1, 1, 1, 0, 1, 1]]"
            ]
          },
          "metadata": {},
          "execution_count": 37
        }
      ]
    },
    {
      "cell_type": "code",
      "source": [
        "def BFS(i,j):\n",
        "  queue = deque()\n",
        "  queue.append((i,j))\n",
        "  visited[i][j] = True\n",
        "  while queue:\n",
        "    now = queue.popleft()\n",
        "    for k in range(4):\n",
        "      # 상하좌우 경로 탐색\n",
        "      x = now[0] + dx[k] \n",
        "      y = now[1] + dy[k]\n",
        "      if (x >= 0) and (y >= 0) and (x < N) and (y < M): # 좌표 유효성 검사\n",
        "        if (A[x][y] != 0) and (not visited[x][y]): # 상하좌우 경로 중 0이 아니면서 방문하지 않았던 곳 찾기\n",
        "          visited[x][y] = True # 방문 흔적 남기기 \n",
        "          A[x][y] = A[now[0]][now[1]] + 1 # depth의 깊이를 알 수 있게 끔 1 추가 \n",
        "          queue.append((x,y))\n",
        "\n",
        "BFS(0,0)  \n",
        "print(A[N-1][M-1])"
      ],
      "metadata": {
        "colab": {
          "base_uri": "https://localhost:8080/"
        },
        "id": "_SrfeMr6zSp0",
        "outputId": "378d9f3d-b372-4bf1-a908-fb81197e1315"
      },
      "execution_count": null,
      "outputs": [
        {
          "output_type": "stream",
          "name": "stdout",
          "text": [
            "15\n"
          ]
        }
      ]
    },
    {
      "cell_type": "code",
      "source": [
        "A"
      ],
      "metadata": {
        "colab": {
          "base_uri": "https://localhost:8080/"
        },
        "id": "kOF3aAeS2x6n",
        "outputId": "57b79676-7c38-4e80-c669-f420ee2e8f33"
      },
      "execution_count": null,
      "outputs": [
        {
          "output_type": "execute_result",
          "data": {
            "text/plain": [
              "[[1, 0, 9, 10, 11, 12],\n",
              " [2, 0, 8, 0, 12, 0],\n",
              " [3, 0, 7, 0, 13, 14],\n",
              " [4, 5, 6, 0, 14, 15]]"
            ]
          },
          "metadata": {},
          "execution_count": 57
        }
      ]
    },
    {
      "cell_type": "markdown",
      "source": [
        "---\n",
        "# 3. [트리의 지름 구하기](https://www.acmicpc.net/problem/1167)\n",
        "---"
      ],
      "metadata": {
        "id": "GwwiB6gl7ANR"
      }
    },
    {
      "cell_type": "markdown",
      "source": [
        "#### 아이디어 = 임의의 노드에서 가장 긴 경로로 연결되어 있는 노드는 트리의 지름에 해당하는 두 노드 중 하나다."
      ],
      "metadata": {
        "id": "r2Lz5UMkDPQW"
      }
    },
    {
      "cell_type": "code",
      "source": [
        "from collections import deque \n",
        "N = int(input())\n",
        "A = [[] for i in range(N + 1)]\n",
        "\n",
        "for _ in range(N):\n",
        "  data = list(map(int,input().split()))\n",
        "  index = 0\n",
        "  S = data[index] # 노드의 첫번째 값 선택 \n",
        "  index += 1\n",
        "  while True:\n",
        "    E = data[index] # 주어진 줄의 리스트 탐색\n",
        "    if E == -1:\n",
        "      break\n",
        "    V = data[index + 1] # 2개씩 짝이어져 있기 때문에 인덱스 1 추가\n",
        "    A[S].append((E,V)) # A에 추가\n",
        "    index += 2\n",
        "\n",
        "distance = [0] * (N + 1)\n",
        "visited = [False] * (N + 1)\n",
        "\n",
        "def BFS(now):\n",
        "  queue = deque()\n",
        "  queue.append(now)\n",
        "  visited[now] = True\n",
        "  while queue:\n",
        "    now_node = queue.popleft()\n",
        "    for i in A[now_node]:\n",
        "      if not visited[i[0]]:\n",
        "        visited[i[0]] = True\n",
        "        queue.append(i[0])\n",
        "        distance[i[0]] = distance[now_node] + i[1] # 거리 업데이트"
      ],
      "metadata": {
        "colab": {
          "base_uri": "https://localhost:8080/"
        },
        "id": "kHRluGqe5kUO",
        "outputId": "2bdb2a31-c6ee-4c4e-d802-07bead11e4f9"
      },
      "execution_count": null,
      "outputs": [
        {
          "name": "stdout",
          "output_type": "stream",
          "text": [
            "5\n",
            "1 3 2 -1\n",
            "2 4 4 -1\n",
            "3 1 2 4 3 -1\n",
            "4 2 4 3 3 5 6 -1\n",
            "5 4 6 -1\n"
          ]
        }
      ]
    },
    {
      "cell_type": "code",
      "source": [
        "BFS(1)\n",
        "\n",
        "max = 1 \n",
        "for i in range(2, N+1):\n",
        "  if distance[max] < distance[i]:\n",
        "    max = i\n",
        "print('수정된 max 값:',max)"
      ],
      "metadata": {
        "colab": {
          "base_uri": "https://localhost:8080/"
        },
        "id": "qjSnk1rECOzW",
        "outputId": "35f55d56-5d5b-4b14-9cf3-2b9a795a66bd"
      },
      "execution_count": null,
      "outputs": [
        {
          "output_type": "stream",
          "name": "stdout",
          "text": [
            "수정된 max 값: 5\n"
          ]
        }
      ]
    },
    {
      "cell_type": "code",
      "source": [
        "distance"
      ],
      "metadata": {
        "colab": {
          "base_uri": "https://localhost:8080/"
        },
        "id": "fEVemt6XCsUI",
        "outputId": "69963260-7a20-4081-84b6-85535d2ebdef"
      },
      "execution_count": null,
      "outputs": [
        {
          "output_type": "execute_result",
          "data": {
            "text/plain": [
              "[0, 0, 9, 2, 5, 11]"
            ]
          },
          "metadata": {},
          "execution_count": 77
        }
      ]
    },
    {
      "cell_type": "code",
      "source": [
        "# 가장 긴 max값으로 수정해서 재계산\n",
        "distance = [0] * (N + 1)\n",
        "visited = [False] * (N + 1)\n",
        "\n",
        "BFS(max)\n",
        "print(distance)\n",
        "distance.sort() # 오름차순 정렬\n",
        "print(distance[N]) "
      ],
      "metadata": {
        "colab": {
          "base_uri": "https://localhost:8080/"
        },
        "id": "kjLUcUnLCtcM",
        "outputId": "bc06be05-011b-4024-a103-1fb696e11860"
      },
      "execution_count": null,
      "outputs": [
        {
          "output_type": "stream",
          "name": "stdout",
          "text": [
            "[0, 11, 10, 9, 6, 0]\n",
            "11\n"
          ]
        }
      ]
    },
    {
      "cell_type": "markdown",
      "source": [
        "---\n",
        "# 4. [원하는 정수 찾기](https://www.acmicpc.net/problem/1920)\n",
        "----"
      ],
      "metadata": {
        "id": "MAWzWD4N25ad"
      }
    },
    {
      "cell_type": "markdown",
      "source": [
        "#### 아이디어 = 이진 탐색"
      ],
      "metadata": {
        "id": "Q7kJE52b8gIp"
      }
    },
    {
      "cell_type": "code",
      "source": [
        "N = int(input())\n",
        "A = list(map(int,input().split()))\n",
        "A.sort()\n",
        "M = int(input())\n",
        "target_list = list(map(int, input().split()))"
      ],
      "metadata": {
        "id": "gpoZ2pP-DiwE",
        "colab": {
          "base_uri": "https://localhost:8080/"
        },
        "outputId": "dacbf756-3aa5-41b7-c4ac-b8c3dd67742f"
      },
      "execution_count": null,
      "outputs": [
        {
          "name": "stdout",
          "output_type": "stream",
          "text": [
            "5\n",
            "4 1 5 2 3\n",
            "5 \n",
            "1 3 7 9 5\n"
          ]
        }
      ]
    },
    {
      "cell_type": "code",
      "source": [
        "for i in range(M):\n",
        "  find = False\n",
        "  target = target_list[i] # 찾는 값 선정\n",
        "  start = 0 \n",
        "  end = len(A) -1 \n",
        "  while start <= end:\n",
        "    mid_index = int((start + end) / 2) \n",
        "    mid_value = A[mid_index] # 중간값 선정\n",
        "    if mid_value > target :\n",
        "      end = mid_index - 1 \n",
        "    elif mid_value < target :\n",
        "      start = mid_index + 1\n",
        "    else :\n",
        "      find = True\n",
        "      break\n",
        "  if find :\n",
        "    print(1)\n",
        "  else :\n",
        "    print(0)"
      ],
      "metadata": {
        "colab": {
          "base_uri": "https://localhost:8080/"
        },
        "id": "rdBKm3FA5ssd",
        "outputId": "3af4d524-36c0-4d3c-b31b-140e81b2b903"
      },
      "execution_count": null,
      "outputs": [
        {
          "output_type": "stream",
          "name": "stdout",
          "text": [
            "1\n",
            "1\n",
            "0\n",
            "0\n",
            "1\n"
          ]
        }
      ]
    },
    {
      "cell_type": "markdown",
      "source": [
        "---\n",
        "# 5. [블루레이 만들기](https://www.acmicpc.net/problem/2343)\n",
        "---"
      ],
      "metadata": {
        "id": "wvwm-5qG8LKw"
      }
    },
    {
      "cell_type": "markdown",
      "source": [
        "#### 아이디어 = 이진 탐색"
      ],
      "metadata": {
        "id": "j6uLHkB28ij3"
      }
    },
    {
      "cell_type": "code",
      "source": [
        "N, M = map(int,input().split()) # 레슨 수 / 블루레이 개수\n",
        "A = list(map(int,input().split()))\n",
        "start = 0 \n",
        "end = 0"
      ],
      "metadata": {
        "colab": {
          "base_uri": "https://localhost:8080/"
        },
        "id": "u5Qy4SOB7utt",
        "outputId": "7d543c11-9a17-4e90-a706-7308ddc9d1b0"
      },
      "execution_count": null,
      "outputs": [
        {
          "name": "stdout",
          "output_type": "stream",
          "text": [
            "9 3 \n",
            "1 2 3 4 5 6 7 8 9\n"
          ]
        }
      ]
    },
    {
      "cell_type": "code",
      "source": [
        "for i in A:\n",
        "  if start < i:\n",
        "    start = i # 최대값을 시작 인덱스로 설정\n",
        "  end += 1 # 총합을 종료 인덱스로 설정\n",
        "\n",
        "while start <= end:\n",
        "  mid = int((start + end) / 2 )\n",
        "  sum = 0\n",
        "  count = 0\n",
        "  for i in range(N): # 중간값으로 모든 레슨을 저장할 수 있는지 확인\n",
        "    if sum + A[i] > mid :\n",
        "      count += 1 \n",
        "      sum = 0\n",
        "    sum += A[i]\n",
        "\n",
        "  if sum != 0:\n",
        "    count += 1\n",
        "  if count > M:\n",
        "    start = mid + 1\n",
        "  else:\n",
        "    end = mid - 1\n",
        "\n",
        "print(start) \n"
      ],
      "metadata": {
        "colab": {
          "base_uri": "https://localhost:8080/"
        },
        "id": "yrbtwtei9hhZ",
        "outputId": "d00b6825-8e95-4f06-b27f-721cdcee4e10"
      },
      "execution_count": null,
      "outputs": [
        {
          "output_type": "stream",
          "name": "stdout",
          "text": [
            "17\n"
          ]
        }
      ]
    },
    {
      "cell_type": "markdown",
      "source": [
        "---\n",
        "# 6. [배열에서 k번째 수 찾기](https://www.acmicpc.net/problem/1300)\n",
        "---"
      ],
      "metadata": {
        "id": "GpN_rSQ6_VV0"
      }
    },
    {
      "cell_type": "code",
      "source": [
        "N = int(input())\n",
        "K = int(input())\n",
        "start = 1\n",
        "end = K\n",
        "ans = 0"
      ],
      "metadata": {
        "colab": {
          "base_uri": "https://localhost:8080/"
        },
        "id": "z6bICf5I--vb",
        "outputId": "8a52fa97-0944-4b64-e78b-b9d3e1e2eb16"
      },
      "execution_count": null,
      "outputs": [
        {
          "name": "stdout",
          "output_type": "stream",
          "text": [
            "3\n",
            "7\n"
          ]
        }
      ]
    },
    {
      "cell_type": "code",
      "source": [
        "while start <= end:\n",
        "  mid = int((start + end) / 2)\n",
        "  cnt = 0\n",
        "  for i in range(1,N+1):\n",
        "    cnt += min(int(mid /i), N) # 작은 수 카운트 \n",
        "  if cnt < K:\n",
        "    start = mid + 1\n",
        "  else :\n",
        "    ans = mid\n",
        "    end = mid - 1\n",
        "\n",
        "print(ans)"
      ],
      "metadata": {
        "colab": {
          "base_uri": "https://localhost:8080/"
        },
        "id": "p5h1V_JnDaCE",
        "outputId": "82532800-9f66-4b97-9ad7-f599adff281c"
      },
      "execution_count": null,
      "outputs": [
        {
          "output_type": "stream",
          "name": "stdout",
          "text": [
            "6\n"
          ]
        }
      ]
    },
    {
      "cell_type": "markdown",
      "source": [
        "---\n",
        "# 7. [동전 개수의 최솟값 구하기](https://www.acmicpc.net/problem/11047)\n",
        "---"
      ],
      "metadata": {
        "id": "VqdS2hgC3jgT"
      }
    },
    {
      "cell_type": "markdown",
      "source": [
        "#### 아이디어 = 그리디 알고리즘\n",
        "\n",
        "1. 뒤에서 부터 주어진 가격 K보다 작은 동전의 값을 찾는다\n",
        "2. K보다 작은 동전의 가격으로 나눠 몫과 나머지 값을 구한다.\n",
        "3. 나머지 값을 다시 K로 업데이트 한 뒤 다시 뒤에서 부터 1번 2번의 과정을 구해 나머지가 0이 될 때 까지 구한다. \n",
        "4. 각각 나온 몫들을 더하면 동전 개수의 최솟값이 나온다."
      ],
      "metadata": {
        "id": "btQaUm7j4gWz"
      }
    },
    {
      "cell_type": "code",
      "source": [
        "N, M = map(int, input().split())\n",
        "A = [0] * N\n",
        "\n",
        "for i in range(N):\n",
        "  A[i] = int(input())"
      ],
      "metadata": {
        "id": "goM83sBgES1V",
        "colab": {
          "base_uri": "https://localhost:8080/"
        },
        "outputId": "485c8fa2-235b-428f-b47d-01e8da215c05"
      },
      "execution_count": 2,
      "outputs": [
        {
          "name": "stdout",
          "output_type": "stream",
          "text": [
            "10 4200\n",
            "1 \n",
            "5\n",
            "10\n",
            "50\n",
            "100\n",
            "500\n",
            "1000\n",
            "5000\n",
            "10000\n",
            "50000\n"
          ]
        }
      ]
    },
    {
      "cell_type": "code",
      "source": [
        "count = 0\n",
        "\n",
        "for i in range(N-1,-1,-1):\n",
        "  if A[i] <= M:\n",
        "    count += (M // A[i]) # 몫\n",
        "    M = M % A[i] # 나머지\n",
        "\n",
        "print(count)"
      ],
      "metadata": {
        "colab": {
          "base_uri": "https://localhost:8080/"
        },
        "id": "8y7qrAVj4GaR",
        "outputId": "3ba8dbec-6837-438f-a278-c0ea2076101a"
      },
      "execution_count": 31,
      "outputs": [
        {
          "output_type": "stream",
          "name": "stdout",
          "text": [
            "6\n"
          ]
        }
      ]
    },
    {
      "cell_type": "markdown",
      "source": [
        "---\n",
        "# 8. [카드 정렬하기](https://www.acmicpc.net/problem/1715)\n",
        "---"
      ],
      "metadata": {
        "id": "ibtxGcnb6n-v"
      }
    },
    {
      "cell_type": "markdown",
      "source": [
        "#### 아이디어 = 우선순위 큐를 사용한 그리드 알고리즘 \n",
        "\n",
        "1. 현재 카드의 개수가 가장 작은 묶음 2개 선택\n",
        "2. 합친 카드 묶음을 다시 전체 카드 묶음에 넣기\n",
        "3. 1~2과정을 카드 묶음이 1개만 남을때 까지 반복\n"
      ],
      "metadata": {
        "id": "Xx_A4sEY7QP9"
      }
    },
    {
      "cell_type": "code",
      "source": [
        "from queue import PriorityQueue\n",
        "N = int(input())\n",
        "que = PriorityQueue()\n",
        "\n",
        "for i in range(N):\n",
        "  data = int(input())\n",
        "  que.put(data) # 우선순위 큐에 데이터 넣기"
      ],
      "metadata": {
        "colab": {
          "base_uri": "https://localhost:8080/"
        },
        "id": "AxZ53eGw5HY3",
        "outputId": "4060c8c2-d1c9-44a1-d075-32d6422371f7"
      },
      "execution_count": 40,
      "outputs": [
        {
          "name": "stdout",
          "output_type": "stream",
          "text": [
            "3\n",
            "10\n",
            "20\n",
            "40\n"
          ]
        }
      ]
    },
    {
      "cell_type": "code",
      "source": [
        "data1 = 0\n",
        "data2 = 0\n",
        "sum = 0\n",
        "\n",
        "while que.qsize() > 1:\n",
        "  data1 = que.get() # 우선순위 큐에서 데이터 작은값 부터 빼기\n",
        "  data2 = que.get() \n",
        "  temp = data1 + data2\n",
        "  sum += temp\n",
        "  que.put(temp) \n",
        "\n",
        "print(sum)"
      ],
      "metadata": {
        "colab": {
          "base_uri": "https://localhost:8080/"
        },
        "id": "XNR7gtlX7xQZ",
        "outputId": "720d0407-b146-4199-f285-cce234f0ed09"
      },
      "execution_count": 41,
      "outputs": [
        {
          "output_type": "stream",
          "name": "stdout",
          "text": [
            "100\n"
          ]
        }
      ]
    },
    {
      "cell_type": "markdown",
      "source": [
        "---\n",
        "# 9. [수를 묶어서 최댓값 만들기](https://www.acmicpc.net/problem/1744)\n",
        "---"
      ],
      "metadata": {
        "id": "kwCCr0RV9kR0"
      }
    },
    {
      "cell_type": "markdown",
      "source": [
        "#### 아이디어 = 그리디 알고리즘\n",
        "\n",
        "1. 수의 집합을 (양수,1,0,음수) 4개의 집합으로 구분\n",
        "2. 양수 집합은 내림차순으로 곱 / 음수 집합은 오름 차순으로 곱\n",
        "3. 만약 원소의 개수가 홀수일 경우 수열에 0이 있다면 0 남은 음수에 0을 곱하고 아닐 경우 더하기\n",
        "4. 2~3에서 구한 값을 모두 더하고 숫자 1의 개수를 더해준다.\n"
      ],
      "metadata": {
        "id": "cotqE34w-SJ-"
      }
    },
    {
      "cell_type": "code",
      "source": [
        "from queue import PriorityQueue\n",
        "N = int(input())\n",
        "plusQ = PriorityQueue()\n",
        "minusQ = PriorityQueue()\n",
        "one = 0\n",
        "zero = 0\n",
        "\n",
        "# 데이터 분리해서 저장\n",
        "for i in range(N):\n",
        "  data = int(input())\n",
        "  if data > 1:\n",
        "    plusQ.put(data * -1) # 추후 get으로 뺄때 작은 값 먼저 빠지기 때문에 내림차순 정렬을 위해 -1을 곱해준다.\n",
        "  elif data < 0 :\n",
        "    minusQ.put(data)\n",
        "  elif data == 0:\n",
        "    zero += 1\n",
        "  else :\n",
        "    one += 1"
      ],
      "metadata": {
        "colab": {
          "base_uri": "https://localhost:8080/"
        },
        "id": "tXJEHHPC8ouE",
        "outputId": "091e55a0-3621-4559-868b-639bd885ccab"
      },
      "execution_count": 42,
      "outputs": [
        {
          "name": "stdout",
          "output_type": "stream",
          "text": [
            "9\n",
            "-1\n",
            "-8\n",
            "2\n",
            "1\n",
            "3\n",
            "6\n",
            "-5\n",
            "0\n",
            "1\n"
          ]
        }
      ]
    },
    {
      "cell_type": "code",
      "source": [
        "sum = 0\n",
        "\n",
        "while plusQ.qsize() >1:\n",
        "  first = (plusQ.get() * -1) # 앞에서 내림차순 정렬을 위해 -1 해준 값을 다시 양수로 처리 \n",
        "  second = (plusQ.get() * -1)\n",
        "  sum += first * second\n",
        "\n",
        "if plusQ.qsize() > 0: # 원소의 개수가 홀수일 경우 처리해주는 코드 \n",
        "  sum += (plusQ.get() * -1)\n",
        "\n",
        "while minusQ.qsize() > 1:\n",
        "  first = minusQ.get()\n",
        "  second = minusQ.get()\n",
        "  sum += first * second\n",
        "\n",
        "if minusQ.qsize() > 0: # 원소의 개수가 홀수일 경우 \n",
        "  if zero == 0:\n",
        "    sum += minusQ.get()\n",
        "\n",
        "sum += one\n",
        "\n",
        "print(sum)\n"
      ],
      "metadata": {
        "colab": {
          "base_uri": "https://localhost:8080/"
        },
        "id": "q8q5sRJp_c9I",
        "outputId": "01280268-d5d8-4971-e55c-f78e987e4cee"
      },
      "execution_count": 43,
      "outputs": [
        {
          "output_type": "stream",
          "name": "stdout",
          "text": [
            "62\n"
          ]
        }
      ]
    },
    {
      "cell_type": "markdown",
      "source": [
        "---\n",
        "# 10. [회의실 배정하기](https://www.acmicpc.net/problem/1931)\n",
        "---"
      ],
      "metadata": {
        "id": "tkLNWUXSA_SA"
      }
    },
    {
      "cell_type": "markdown",
      "source": [
        "#### 아이디어 = 그리디 알고리즘 \n",
        "\n",
        "1. 회의 정보 데이터를 종료시간 순으로 정렬한다.  \n",
        "  단, 종료시간이 같을 경우 시간 시간을 기준으로 정렬한다.\n",
        "2. 순차적 탐색을 하다가 시간이 겹치는 회의가 나오면 선택한다."
      ],
      "metadata": {
        "id": "bWvQfd9bC_x9"
      }
    },
    {
      "cell_type": "code",
      "source": [
        "N = int(input())\n",
        "A = [[0] * 2 for i in range(N)]\n",
        "\n",
        "for i in range(N):\n",
        "  s, e = map(int,input().split())\n",
        "  A[i][0] = e   # 종료시간 기준 정렬을 진행하기 때문에 종료시간(e)값이 앞으로 저장\n",
        "  A[i][1] = s\n",
        "\n",
        "A.sort() # 정렬"
      ],
      "metadata": {
        "colab": {
          "base_uri": "https://localhost:8080/"
        },
        "id": "qa-xtJY9A76B",
        "outputId": "ab27111c-fff2-4cb5-eeaa-8364e08ed0bc"
      },
      "execution_count": 44,
      "outputs": [
        {
          "name": "stdout",
          "output_type": "stream",
          "text": [
            "11\n",
            "1 4\n",
            "3 5\n",
            "0 6\n",
            "5 7\n",
            "3 8\n",
            "5 9\n",
            "6 10\n",
            "8 11\n",
            "8 12\n",
            "2 13\n",
            "12 14\n"
          ]
        }
      ]
    },
    {
      "cell_type": "code",
      "source": [
        "print(A)"
      ],
      "metadata": {
        "colab": {
          "base_uri": "https://localhost:8080/"
        },
        "id": "gTbC0uplEA0o",
        "outputId": "4cdd9b23-cf4f-4c05-ff4a-defee481de05"
      },
      "execution_count": 47,
      "outputs": [
        {
          "output_type": "stream",
          "name": "stdout",
          "text": [
            "[[4, 1], [5, 3], [6, 0], [7, 5], [8, 3], [9, 5], [10, 6], [11, 8], [12, 8], [13, 2], [14, 12]]\n"
          ]
        }
      ]
    },
    {
      "cell_type": "code",
      "source": [
        "count = 0 \n",
        "end = -1 \n",
        "for i in range(N):\n",
        "  if A[i][1] > end: # 종료 시간과 겹치지 않는 값이 나온경우\n",
        "    end = A[i][0] # 종료시간 값을 업데이트 하고\n",
        "    count += 1 # 개수를 늘린다\n",
        "\n",
        "print(count)"
      ],
      "metadata": {
        "colab": {
          "base_uri": "https://localhost:8080/"
        },
        "id": "zYSU19thEJOe",
        "outputId": "260b9cea-4c3e-4800-a2ab-954eb2819972"
      },
      "execution_count": 48,
      "outputs": [
        {
          "output_type": "stream",
          "name": "stdout",
          "text": [
            "4\n"
          ]
        }
      ]
    },
    {
      "cell_type": "markdown",
      "source": [
        "---\n",
        "# 11. [최솟값을 만드는 괄호 배치 찾기](https://www.acmicpc.net/problem/1541)\n",
        "---"
      ],
      "metadata": {
        "id": "nVlz-JJWFYd7"
      }
    },
    {
      "cell_type": "markdown",
      "source": [
        "#### 아이디어 = 그리디 알고리즘\n",
        "\n",
        "1. 가장 작은 최솟값을 만들기 위해서는 가장 큰 수를 뺴야하며\n",
        "2. 수식으 +,-로만 이루어져 있기 때문에 먼저 +를 모두 더하고 \n",
        "3. 나머지 연산을 진행"
      ],
      "metadata": {
        "id": "QqxcJWxeF7kM"
      }
    },
    {
      "cell_type": "code",
      "source": [
        "answer = 0\n",
        "A = list(map(str,input().split('-'))) # - 기준 분리\n",
        "\n",
        "def mysum(i): # -로 나눈 그룹의 값을 모두 더해주는 함수\n",
        "  sum = 0\n",
        "  temp = str(i).split('+') \n",
        "  for i in temp :\n",
        "    sum += int(i)\n",
        "  return sum\n",
        "\n",
        "for i in range(len(A)):\n",
        "  temp = mysum(A[i])\n",
        "  if i == 0:  # 가장 앞에 있는 값은 더하고\n",
        "    answer += temp  \n",
        "  else :      # 나머지 값은 뺴기 \n",
        "    answer -= temp\n",
        "\n",
        "print(answer)"
      ],
      "metadata": {
        "colab": {
          "base_uri": "https://localhost:8080/"
        },
        "id": "m-nUNAF5FVum",
        "outputId": "a68eee03-8b41-4aeb-e2c1-a73e64f67026"
      },
      "execution_count": 50,
      "outputs": [
        {
          "output_type": "stream",
          "name": "stdout",
          "text": [
            "100-40+50+74-30+29-45+43+11\n",
            "-222\n"
          ]
        }
      ]
    }
  ]
}