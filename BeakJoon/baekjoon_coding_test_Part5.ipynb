{
  "nbformat": 4,
  "nbformat_minor": 0,
  "metadata": {
    "colab": {
      "provenance": []
    },
    "kernelspec": {
      "name": "python3",
      "display_name": "Python 3"
    },
    "language_info": {
      "name": "python"
    }
  },
  "cells": [
    {
      "cell_type": "markdown",
      "source": [
        "---\n",
        "# 1. [소수 구하기](https://www.acmicpc.net/problem/1929)\n",
        "---"
      ],
      "metadata": {
        "id": "40eiTSbSQiWQ"
      }
    },
    {
      "cell_type": "markdown",
      "source": [
        "#### 아이디어 = 에라토스테네스의 체\n",
        "\n",
        "1. 구하고자 하는 소수의 범위만큼 1차원 리스트를 생성\n",
        "2. 2부터 시작하고, 시작점을 제외하고 배수에 해당하는 수를 탐색하여 지운다.\n",
        "3. 2번을 끝까지 반복한다."
      ],
      "metadata": {
        "id": "xsRmTzG2Q3r0"
      }
    },
    {
      "cell_type": "code",
      "execution_count": null,
      "metadata": {
        "colab": {
          "base_uri": "https://localhost:8080/"
        },
        "id": "6xCfC_J0QNRK",
        "outputId": "2dca3ee2-956a-40ce-fd2c-5288a393c618"
      },
      "outputs": [
        {
          "output_type": "stream",
          "name": "stdout",
          "text": [
            "3 16\n",
            "3\n",
            "5\n",
            "7\n",
            "11\n",
            "13\n"
          ]
        }
      ],
      "source": [
        "import math \n",
        "\n",
        "s, e = map(int,input().split())\n",
        "A = [0] * (e+1)\n",
        "\n",
        "for i in range(2, e+1):\n",
        "  A[i] = i\n",
        "\n",
        "# 소수 찾기\n",
        "for i in range(2,int(math.sqrt(e)+1)): # 연산량 감소를 위해 제곱근 수행\n",
        "  if A[i] == 0 : \n",
        "    continue\n",
        "  for j in range(i+i, e+1, i): # 배수의 값 찾아서 0으로 변경\n",
        "    A[j] = 0                   # i+i 의 값으로 시작함으로써 자기 자신은 제외한 배수값 부터 시작\n",
        "\n",
        "for i in range(s, e+1):\n",
        "  if A[i] != 0:\n",
        "    print(A[i])"
      ]
    },
    {
      "cell_type": "markdown",
      "source": [
        "---\n",
        "# 2. [거의 소수 구하기](https://www.acmicpc.net/problem/1456)\n",
        "----"
      ],
      "metadata": {
        "id": "FUSEXZx4XVnn"
      }
    },
    {
      "cell_type": "markdown",
      "source": [
        "#### 아이디어 = 에라토스테네스의 체\n",
        "\n",
        "1. 범위내에 있는 소수를 우선 구한다.\n",
        "2. 밤위내에서 소수의 제곱에 해당하는 수를 찾는다."
      ],
      "metadata": {
        "id": "e6sg2rFeXbpB"
      }
    },
    {
      "cell_type": "code",
      "source": [
        "import math\n",
        "s, e = map(int,input().split())\n",
        "A = [0] * (e+1)\n",
        "\n",
        "for i in range(s,e):\n",
        "  A[i] = i\n",
        "\n",
        "# 소수 찾기\n",
        "for i in range(2, int(math.sqrt(len(A))+1)):  # 연산량 감소를 위해 제곱근 수행\n",
        "  if A[i] == 0:\n",
        "    continue\n",
        "  for j in range(i+i, e+1, i):\n",
        "    A[j] = 0\n",
        "\n",
        "value = set()\n",
        "for i in range(2, len(A)):\n",
        "  if A[i] != 0:\n",
        "    for j in range(2, len(A)//i):\n",
        "      if (A[i] ** j >= s) & (A[i] ** j <= e):\n",
        "        value.add(A[i] ** j)\n",
        "\n",
        "print(len(value))"
      ],
      "metadata": {
        "colab": {
          "base_uri": "https://localhost:8080/"
        },
        "id": "WXSkgUfpXbHb",
        "outputId": "34e5e150-11a7-4701-e0bd-ff026ccf7805"
      },
      "execution_count": null,
      "outputs": [
        {
          "output_type": "stream",
          "name": "stdout",
          "text": [
            "1 1000\n",
            "25\n"
          ]
        }
      ]
    },
    {
      "cell_type": "markdown",
      "source": [
        "---\n",
        "# 3. [소수 & 팰린드롬 수 중에서 최소값 찾기](https://www.acmicpc.net/problem/1747)\n",
        "---\n",
        "\n",
        "- 팰린드롬 수 : 어던 수와 그 수의 숫자 순서를 뒤집은 수가 일치하는 수"
      ],
      "metadata": {
        "id": "cG-_j5W9b9Jv"
      }
    },
    {
      "cell_type": "markdown",
      "source": [
        "#### 아이디어 = 에라토스테네스의 체\n",
        "\n",
        "1. 주어진 범위내에 소수를 모두 구한다.\n",
        "2. 소수의 값을 리스트로 변환 후 양쪽 끝 투포인터를 비교해 팰린드롬 수를 판별\n",
        "3. 최소값을 찾는다."
      ],
      "metadata": {
        "id": "vmgF_P_UcRC_"
      }
    },
    {
      "cell_type": "code",
      "source": [
        "N = int(input())\n",
        "A = [0] * (10000001)\n",
        "\n",
        "for i in range(2,len(A)):\n",
        "  A[i] = i\n",
        "\n",
        "# 소수 찾기\n",
        "for i in range(2, int(math.sqrt(len(A))+1)):\n",
        "  if A[i] == 0:\n",
        "    continue\n",
        "  for j in range(i+i, len(A), i):\n",
        "    A[j] = 0\n",
        "\n",
        "def palindrome(value):\n",
        "  temp = list(str(value))\n",
        "  s = 0\n",
        "  e = len(temp) -1\n",
        "  while (s < e):\n",
        "    if temp[s] != temp[e]:\n",
        "      return False\n",
        "    else:\n",
        "      s += 1\n",
        "      e -= 1\n",
        "      return True\n",
        "\n",
        "i = N\n",
        "while True:\n",
        "  if A[i] != 0:\n",
        "    result = A[i]\n",
        "    if palindrome(result) == True:\n",
        "      print(result)\n",
        "      break\n",
        "  i += 1"
      ],
      "metadata": {
        "colab": {
          "base_uri": "https://localhost:8080/"
        },
        "id": "H823pAnxcHCO",
        "outputId": "8707f8cc-d492-44db-db65-b222b26e8e40"
      },
      "execution_count": null,
      "outputs": [
        {
          "output_type": "stream",
          "name": "stdout",
          "text": [
            "31\n",
            "101\n"
          ]
        }
      ]
    },
    {
      "cell_type": "markdown",
      "source": [
        "----\n",
        "# 4. [제곱이 아닌 수 찾기](https://www.acmicpc.net/problem/1016)\n",
        "----"
      ],
      "metadata": {
        "id": "45NuE8LOi994"
      }
    },
    {
      "cell_type": "code",
      "source": [
        "import math\n",
        "\n",
        "min, max = map(int,input().split())\n",
        "check = [False] * (max - min + 1)\n",
        "\n",
        "for i in range(2, int(math.sqrt(max) + 1)):\n",
        "  pow = i * i\n",
        "  start_index = int(min / pow)\n",
        "  if min % pow != 0:\n",
        "    start_index += 1\n",
        "  for j in range(start_index, int(max / pow)+1) :\n",
        "    check[int((j * pow) - min)] = True\n",
        "\n",
        "count = 0\n",
        "for i in range(0, max - min + 1):\n",
        "  if not check[i]:\n",
        "    count += 1\n",
        "\n",
        "print(count)"
      ],
      "metadata": {
        "colab": {
          "base_uri": "https://localhost:8080/"
        },
        "id": "32gQ3XUriMyf",
        "outputId": "735e0320-94df-44fb-905e-1a4f2cae853f"
      },
      "execution_count": null,
      "outputs": [
        {
          "output_type": "stream",
          "name": "stdout",
          "text": [
            "1 10\n",
            "7\n"
          ]
        }
      ]
    },
    {
      "cell_type": "code",
      "source": [
        "import math\n",
        "\n",
        "min, max = map(int,input().split())\n",
        "A = [0] * (max+1)\n",
        "\n",
        "for i in range(1, max + 1):\n",
        "  A[i] = i\n",
        "\n",
        "\n",
        "for i in range(2, max+1):\n",
        "  pow = i * i\n",
        "  if pow > max :\n",
        "    break\n",
        "  else:\n",
        "    for j in range(pow, max+1):\n",
        "      if A[j] % pow == 0:\n",
        "        A[j] = 0\n",
        "print('')\n",
        "print(A)\n",
        "\n",
        "count = 0\n",
        "for i in range(len(A)):\n",
        "  if A[i] != 0 :\n",
        "    count += 1\n",
        "\n",
        "print(count)"
      ],
      "metadata": {
        "colab": {
          "base_uri": "https://localhost:8080/"
        },
        "id": "zAV8bjHhkiO3",
        "outputId": "cf2730c9-9321-4dee-ccc9-0d39e378bc12"
      },
      "execution_count": null,
      "outputs": [
        {
          "output_type": "stream",
          "name": "stdout",
          "text": [
            "1 10\n",
            "\n",
            "[0, 1, 2, 3, 0, 5, 6, 7, 0, 0, 10]\n",
            "7\n"
          ]
        }
      ]
    },
    {
      "cell_type": "markdown",
      "source": [
        "---\n",
        "# 5. [오일러 피 함수 구현하기](https://www.acmicpc.net/problem/11689)\n",
        "----"
      ],
      "metadata": {
        "id": "Kid-LfXcxu_6"
      }
    },
    {
      "cell_type": "markdown",
      "source": [
        "- 오일러 피 함수의 원리 \n",
        "\n",
        "1. 구하고자 하는 오일러 피의 범위만큼 리스트를 자기 자신의 인덱스 값으로 초기화 한다.\n",
        "2. 2부터 시작해 현재 리스트의 값과 인덱스가 같으면 현재 선택된 숫자(K)의 배수에 해당하는 수를 리스트에 끝까지 탐색하여 P[i] = p[i] - p[i]/K 연산을 수행한다.\n",
        "3. 리스트의 끝까지 2를 반복한다."
      ],
      "metadata": {
        "id": "7auWV1n6y5L6"
      }
    },
    {
      "cell_type": "code",
      "source": [
        "import math\n",
        "N = int(input())\n",
        "result = N\n",
        "\n",
        "for i in range(2, int(math.sqrt(N)) + 1):\n",
        "  if N % i == 0: # p가 소인수인지 확인\n",
        "    result -= result / i # 결과값 업데이트 \n",
        "    while N % i == 0 :\n",
        "      N /= i\n",
        "\n",
        "if N > 1:\n",
        "  result -= result / N\n",
        "\n",
        "print(int(result))      "
      ],
      "metadata": {
        "colab": {
          "base_uri": "https://localhost:8080/"
        },
        "id": "szZFxa8Ax8lN",
        "outputId": "8378f695-f189-411f-85cf-51645be38c36"
      },
      "execution_count": 5,
      "outputs": [
        {
          "output_type": "stream",
          "name": "stdout",
          "text": [
            "10\n",
            "4\n"
          ]
        }
      ]
    },
    {
      "cell_type": "code",
      "source": [
        "1"
      ],
      "metadata": {
        "id": "rRRUnNji1wGU"
      },
      "execution_count": null,
      "outputs": []
    }
  ]
}