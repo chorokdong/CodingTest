{
  "nbformat": 4,
  "nbformat_minor": 0,
  "metadata": {
    "colab": {
      "provenance": []
    },
    "kernelspec": {
      "name": "python3",
      "display_name": "Python 3"
    },
    "language_info": {
      "name": "python"
    }
  },
  "cells": [
    {
      "cell_type": "markdown",
      "source": [
        "---\n",
        "# 1. [소수 구하기](https://www.acmicpc.net/problem/1929)\n",
        "---"
      ],
      "metadata": {
        "id": "40eiTSbSQiWQ"
      }
    },
    {
      "cell_type": "markdown",
      "source": [
        "#### 아이디어 = 에라토스테네스의 체\n",
        "\n",
        "1. 구하고자 하는 소수의 범위만큼 1차원 리스트를 생성\n",
        "2. 2부터 시작하고, 시작점을 제외하고 배수에 해당하는 수를 탐색하여 지운다.\n",
        "3. 2번을 끝까지 반복한다."
      ],
      "metadata": {
        "id": "xsRmTzG2Q3r0"
      }
    },
    {
      "cell_type": "code",
      "execution_count": null,
      "metadata": {
        "colab": {
          "base_uri": "https://localhost:8080/"
        },
        "id": "6xCfC_J0QNRK",
        "outputId": "2dca3ee2-956a-40ce-fd2c-5288a393c618"
      },
      "outputs": [
        {
          "output_type": "stream",
          "name": "stdout",
          "text": [
            "3 16\n",
            "3\n",
            "5\n",
            "7\n",
            "11\n",
            "13\n"
          ]
        }
      ],
      "source": [
        "import math \n",
        "\n",
        "s, e = map(int,input().split())\n",
        "A = [0] * (e+1)\n",
        "\n",
        "for i in range(2, e+1):\n",
        "  A[i] = i\n",
        "\n",
        "# 소수 찾기\n",
        "for i in range(2,int(math.sqrt(e)+1)): # 연산량 감소를 위해 제곱근 수행\n",
        "  if A[i] == 0 : \n",
        "    continue\n",
        "  for j in range(i+i, e+1, i): # 배수의 값 찾아서 0으로 변경\n",
        "    A[j] = 0                   # i+i 의 값으로 시작함으로써 자기 자신은 제외한 배수값 부터 시작\n",
        "\n",
        "for i in range(s, e+1):\n",
        "  if A[i] != 0:\n",
        "    print(A[i])"
      ]
    },
    {
      "cell_type": "markdown",
      "source": [
        "---\n",
        "# 2. [거의 소수 구하기](https://www.acmicpc.net/problem/1456)\n",
        "----"
      ],
      "metadata": {
        "id": "FUSEXZx4XVnn"
      }
    },
    {
      "cell_type": "markdown",
      "source": [
        "#### 아이디어 = 에라토스테네스의 체\n",
        "\n",
        "1. 범위내에 있는 소수를 우선 구한다.\n",
        "2. 밤위내에서 소수의 제곱에 해당하는 수를 찾는다."
      ],
      "metadata": {
        "id": "e6sg2rFeXbpB"
      }
    },
    {
      "cell_type": "code",
      "source": [
        "import math\n",
        "s, e = map(int,input().split())\n",
        "A = [0] * (e+1)\n",
        "\n",
        "for i in range(s,e):\n",
        "  A[i] = i\n",
        "\n",
        "# 소수 찾기\n",
        "for i in range(2, int(math.sqrt(len(A))+1)):  # 연산량 감소를 위해 제곱근 수행\n",
        "  if A[i] == 0:\n",
        "    continue\n",
        "  for j in range(i+i, e+1, i):\n",
        "    A[j] = 0\n",
        "\n",
        "value = set()\n",
        "for i in range(2, len(A)):\n",
        "  if A[i] != 0:\n",
        "    for j in range(2, len(A)//i):\n",
        "      if (A[i] ** j >= s) & (A[i] ** j <= e):\n",
        "        value.add(A[i] ** j)\n",
        "\n",
        "print(len(value))"
      ],
      "metadata": {
        "colab": {
          "base_uri": "https://localhost:8080/"
        },
        "id": "WXSkgUfpXbHb",
        "outputId": "34e5e150-11a7-4701-e0bd-ff026ccf7805"
      },
      "execution_count": null,
      "outputs": [
        {
          "output_type": "stream",
          "name": "stdout",
          "text": [
            "1 1000\n",
            "25\n"
          ]
        }
      ]
    },
    {
      "cell_type": "markdown",
      "source": [
        "---\n",
        "# 3. [소수 & 팰린드롬 수 중에서 최소값 찾기](https://www.acmicpc.net/problem/1747)\n",
        "---\n",
        "\n",
        "- 팰린드롬 수 : 어던 수와 그 수의 숫자 순서를 뒤집은 수가 일치하는 수"
      ],
      "metadata": {
        "id": "cG-_j5W9b9Jv"
      }
    },
    {
      "cell_type": "markdown",
      "source": [
        "#### 아이디어 = 에라토스테네스의 체\n",
        "\n",
        "1. 주어진 범위내에 소수를 모두 구한다.\n",
        "2. 소수의 값을 리스트로 변환 후 양쪽 끝 투포인터를 비교해 팰린드롬 수를 판별\n",
        "3. 최소값을 찾는다."
      ],
      "metadata": {
        "id": "vmgF_P_UcRC_"
      }
    },
    {
      "cell_type": "code",
      "source": [
        "N = int(input())\n",
        "A = [0] * (10000001)\n",
        "\n",
        "for i in range(2,len(A)):\n",
        "  A[i] = i\n",
        "\n",
        "# 소수 찾기\n",
        "for i in range(2, int(math.sqrt(len(A))+1)):\n",
        "  if A[i] == 0:\n",
        "    continue\n",
        "  for j in range(i+i, len(A), i):\n",
        "    A[j] = 0\n",
        "\n",
        "def palindrome(value):\n",
        "  temp = list(str(value))\n",
        "  s = 0\n",
        "  e = len(temp) -1\n",
        "  while (s < e):\n",
        "    if temp[s] != temp[e]:\n",
        "      return False\n",
        "    else:\n",
        "      s += 1\n",
        "      e -= 1\n",
        "      return True\n",
        "\n",
        "i = N\n",
        "while True:\n",
        "  if A[i] != 0:\n",
        "    result = A[i]\n",
        "    if palindrome(result) == True:\n",
        "      print(result)\n",
        "      break\n",
        "  i += 1"
      ],
      "metadata": {
        "colab": {
          "base_uri": "https://localhost:8080/"
        },
        "id": "H823pAnxcHCO",
        "outputId": "8707f8cc-d492-44db-db65-b222b26e8e40"
      },
      "execution_count": null,
      "outputs": [
        {
          "output_type": "stream",
          "name": "stdout",
          "text": [
            "31\n",
            "101\n"
          ]
        }
      ]
    },
    {
      "cell_type": "markdown",
      "source": [
        "----\n",
        "# 4. [제곱이 아닌 수 찾기](https://www.acmicpc.net/problem/1016)\n",
        "----"
      ],
      "metadata": {
        "id": "45NuE8LOi994"
      }
    },
    {
      "cell_type": "code",
      "source": [
        "import math\n",
        "\n",
        "min, max = map(int,input().split())\n",
        "check = [False] * (max - min + 1)\n",
        "\n",
        "for i in range(2, int(math.sqrt(max) + 1)):\n",
        "  pow = i * i\n",
        "  start_index = int(min / pow)\n",
        "  if min % pow != 0:\n",
        "    start_index += 1\n",
        "  for j in range(start_index, int(max / pow)+1) :\n",
        "    check[int((j * pow) - min)] = True\n",
        "\n",
        "count = 0\n",
        "for i in range(0, max - min + 1):\n",
        "  if not check[i]:\n",
        "    count += 1\n",
        "\n",
        "print(count)"
      ],
      "metadata": {
        "colab": {
          "base_uri": "https://localhost:8080/"
        },
        "id": "32gQ3XUriMyf",
        "outputId": "735e0320-94df-44fb-905e-1a4f2cae853f"
      },
      "execution_count": null,
      "outputs": [
        {
          "output_type": "stream",
          "name": "stdout",
          "text": [
            "1 10\n",
            "7\n"
          ]
        }
      ]
    },
    {
      "cell_type": "code",
      "source": [
        "import math\n",
        "\n",
        "min, max = map(int,input().split())\n",
        "A = [0] * (max+1)\n",
        "\n",
        "for i in range(1, max + 1):\n",
        "  A[i] = i\n",
        "\n",
        "\n",
        "for i in range(2, max+1):\n",
        "  pow = i * i\n",
        "  if pow > max :\n",
        "    break\n",
        "  else:\n",
        "    for j in range(pow, max+1):\n",
        "      if A[j] % pow == 0:\n",
        "        A[j] = 0\n",
        "print('')\n",
        "print(A)\n",
        "\n",
        "count = 0\n",
        "for i in range(len(A)):\n",
        "  if A[i] != 0 :\n",
        "    count += 1\n",
        "\n",
        "print(count)"
      ],
      "metadata": {
        "colab": {
          "base_uri": "https://localhost:8080/"
        },
        "id": "zAV8bjHhkiO3",
        "outputId": "cf2730c9-9321-4dee-ccc9-0d39e378bc12"
      },
      "execution_count": null,
      "outputs": [
        {
          "output_type": "stream",
          "name": "stdout",
          "text": [
            "1 10\n",
            "\n",
            "[0, 1, 2, 3, 0, 5, 6, 7, 0, 0, 10]\n",
            "7\n"
          ]
        }
      ]
    },
    {
      "cell_type": "markdown",
      "source": [
        "---\n",
        "# 5. [오일러 피 함수 구현하기](https://www.acmicpc.net/problem/11689)\n",
        "----"
      ],
      "metadata": {
        "id": "Kid-LfXcxu_6"
      }
    },
    {
      "cell_type": "markdown",
      "source": [
        "- 오일러 피 함수의 원리 \n",
        "\n",
        "1. 구하고자 하는 오일러 피의 범위만큼 리스트를 자기 자신의 인덱스 값으로 초기화 한다.\n",
        "2. 2부터 시작해 현재 리스트의 값과 인덱스가 같으면 현재 선택된 숫자(K)의 배수에 해당하는 수를 리스트에 끝까지 탐색하여 P[i] = p[i] - p[i]/K 연산을 수행한다.\n",
        "3. 리스트의 끝까지 2를 반복한다."
      ],
      "metadata": {
        "id": "7auWV1n6y5L6"
      }
    },
    {
      "cell_type": "code",
      "source": [
        "import math\n",
        "N = int(input())\n",
        "result = N\n",
        "\n",
        "for i in range(2, int(math.sqrt(N)) + 1):\n",
        "  if N % i == 0: # p가 소인수인지 확인\n",
        "    result -= result / i # 결과값 업데이트 \n",
        "    while N % i == 0 :\n",
        "      N /= i\n",
        "\n",
        "if N > 1:\n",
        "  result -= result / N\n",
        "\n",
        "print(int(result))      "
      ],
      "metadata": {
        "colab": {
          "base_uri": "https://localhost:8080/"
        },
        "id": "szZFxa8Ax8lN",
        "outputId": "8378f695-f189-411f-85cf-51645be38c36"
      },
      "execution_count": null,
      "outputs": [
        {
          "output_type": "stream",
          "name": "stdout",
          "text": [
            "10\n",
            "4\n"
          ]
        }
      ]
    },
    {
      "cell_type": "markdown",
      "source": [
        "---\n",
        "# 6. [최소 공배수 구하기](https://www.acmicpc.net/problem/1934)\n",
        "---"
      ],
      "metadata": {
        "id": "TLaSSmCWiO5t"
      }
    },
    {
      "cell_type": "markdown",
      "source": [
        "#### 아이디어 = 유클리드 호재법 \n",
        "\n",
        "1. 큰 수에서 작은수로 MOD(두 값을 나눈 나머지를 구하는 연산)연산 수행 \n",
        "2. 앞 단계에서의 작은수 와 MOD 연산 결과값(나머지)로 다시 MOD 연산 수행\n",
        "3. 2단계 반복하다가 나머지가 0이 되는 순간의 작은 수를 최대공약수로 선택\n",
        "\n",
        "4. 최소 공배수의 경우 두 수의 곱을 최대 공약수로 나눈 값이 정답"
      ],
      "metadata": {
        "id": "BGuOrsQWindK"
      }
    },
    {
      "cell_type": "code",
      "source": [
        "def gcd(a,b):\n",
        "  if b == 0:\n",
        "    return a\n",
        "  else: \n",
        "    return gcd(b,a % b)\n",
        "\n",
        "N = int(input())\n",
        "\n",
        "for i in range(N):\n",
        "  a , b = map(int,input().split())\n",
        "  result = (a * b) / gcd(a,b)\n",
        "  print(int(result))\n"
      ],
      "metadata": {
        "id": "rRRUnNji1wGU",
        "colab": {
          "base_uri": "https://localhost:8080/"
        },
        "outputId": "595518a2-dc50-4a43-dbb0-e91f0ac530c8"
      },
      "execution_count": 12,
      "outputs": [
        {
          "output_type": "stream",
          "name": "stdout",
          "text": [
            "3\n",
            "1 45000\n",
            "45000\n",
            "6 10\n",
            "30\n",
            "13 17\n",
            "221\n"
          ]
        }
      ]
    },
    {
      "cell_type": "markdown",
      "source": [
        "---\n",
        "# 7. [최소 공배수 구하기](https://www.acmicpc.net/problem/1850)\n",
        "---"
      ],
      "metadata": {
        "id": "zZVOmL2skv7i"
      }
    },
    {
      "cell_type": "code",
      "source": [
        "def gcd(a,b):\n",
        "  if b == 0:\n",
        "    return a\n",
        "  else: \n",
        "    return gcd(b,a % b)\n",
        "\n",
        "a , b = map(int,input().split())\n",
        "result = gcd(a,b)\n",
        "\n",
        "while result > 0:\n",
        "  print(1,end='')\n",
        "  result -= 1\n"
      ],
      "metadata": {
        "colab": {
          "base_uri": "https://localhost:8080/"
        },
        "id": "tm9BCdBqkNiv",
        "outputId": "4788eb26-5bc7-4ceb-c450-e7818fd6bc2b"
      },
      "execution_count": 14,
      "outputs": [
        {
          "output_type": "stream",
          "name": "stdout",
          "text": [
            "3 6\n",
            "111"
          ]
        }
      ]
    },
    {
      "cell_type": "markdown",
      "source": [
        "---\n",
        "# 8. [칵테일 만들기](https://www.acmicpc.net/problem/1033)\n",
        "---"
      ],
      "metadata": {
        "id": "oAKWpyZKl1Uv"
      }
    },
    {
      "cell_type": "markdown",
      "source": [
        "#### 아이디어 = 유클리드 호제법 + DFS\n",
        "\n",
        "1. 인접 리스트를 이용해 각 재료의 비율 자료를 그래프로 구현\n",
        "2. 데이터를 저장할 때 마다 비율과 관련된 수들의 최소 공배수를 업데이트\n",
        "3. 임의의 시작점에 최대 공배수 값을 저장 \n",
        "4. 임의의 시작점에서 DFS로 탐색을 수행하면서 각 노드의 값을 이전 노드의 값과의 비율 계산을 통해 계싼하고 저장\n",
        "5. 각 노드의 값을 모든 노드의 최대 공약수로 나눈 뒤 출력\n"
      ],
      "metadata": {
        "id": "uaS0Ep9OmfY5"
      }
    },
    {
      "cell_type": "code",
      "source": [
        "N = int(input())\n",
        "A = [[] for i in range(N)] # 인접 리스트 저장용\n",
        "visited = [False] * N # 방문 기록용\n",
        "D = [0] * N # 각 노드값 저장 리스트\n",
        "lcm = 1 # 최소 공배수\n",
        "\n",
        "def gcd(a,b):\n",
        "  if b == 0:\n",
        "    return a\n",
        "  else: \n",
        "    return gcd(b,a % b)\n",
        "\n",
        "def DFS(value):\n",
        "  visited[value] = True\n",
        "  for i in A[value]:\n",
        "    next = i[0]\n",
        "    if not visited[next]:\n",
        "      D[next] = D[value] * i[2] // i[1] # b번재료(D[value])의 질량으로 나눈 값은 q(i[2]) / p(i[1]) # 배율로 값을 구하기 위해 p/q가 아닌 q/p로\n",
        "      DFS(next)\n",
        "\n"
      ],
      "metadata": {
        "colab": {
          "base_uri": "https://localhost:8080/"
        },
        "id": "aR3eF60ClQeJ",
        "outputId": "bc468348-d1bb-4cfd-e4ca-041ed7ad0137"
      },
      "execution_count": 36,
      "outputs": [
        {
          "name": "stdout",
          "output_type": "stream",
          "text": [
            "5\n"
          ]
        }
      ]
    },
    {
      "cell_type": "code",
      "source": [
        "for i in range(N-1):\n",
        "  a,b,p,q = map(int,input().split())\n",
        "  A[a].append((b,p,q))\n",
        "  A[b].append((a,q,p))\n",
        "  lcm *= (p * q // gcd(p,q)) # 최소 공배수는 두 수의 곱을 최대 공약수로 나눈 것 \n",
        "\n",
        "print(A)"
      ],
      "metadata": {
        "colab": {
          "base_uri": "https://localhost:8080/"
        },
        "id": "4Cmu8tXBok5s",
        "outputId": "cf4d17ae-3006-4001-d42e-6efb5f393ded"
      },
      "execution_count": 37,
      "outputs": [
        {
          "output_type": "stream",
          "name": "stdout",
          "text": [
            "4 0 1 1\n",
            "4 1 3 1\n",
            "4 2 5 1\n",
            "4 3 7 1\n",
            "[[(4, 1, 1)], [(4, 1, 3)], [(4, 1, 5)], [(4, 1, 7)], [(0, 1, 1), (1, 3, 1), (2, 5, 1), (3, 7, 1)]]\n"
          ]
        }
      ]
    },
    {
      "cell_type": "code",
      "source": [
        "D[0] = lcm # 임의의 시작점에 최대 공배수 저장\n",
        "DFS(0) # 임의의 시작점에서 시작\n",
        "mgcd = D[0]\n",
        "\n",
        "for i in range(1,N):\n",
        "  mgcd = gcd(mgcd, D[i])\n",
        "\n",
        "for i in range(N):\n",
        "  print(int(D[i] // mgcd ), end = ' ')"
      ],
      "metadata": {
        "colab": {
          "base_uri": "https://localhost:8080/"
        },
        "id": "GqSqVptRo6ND",
        "outputId": "5c3cdd01-8c53-484f-c4c9-6fb2ea831799"
      },
      "execution_count": 40,
      "outputs": [
        {
          "output_type": "stream",
          "name": "stdout",
          "text": [
            "105 35 21 15 105 "
          ]
        }
      ]
    },
    {
      "cell_type": "code",
      "source": [
        "def DFS(value):\n",
        "  visited[value] = True\n",
        "  for i in A[value]:\n",
        "    next = i[0]\n",
        "    if not visited[next]:\n",
        "      D[next] = D[value] * i[2] // i[1] # b번재료(D[value])의 질량으로 나눈 값은 q(i[2]) / p(i[1]) # 배율로 값을 구하기 위해 p/q가 아닌 q/p로\n",
        "      print(next)\n",
        "      print(D)\n",
        "      DFS(next)\n",
        "      \n",
        "D[0] = lcm # 임의의 시작점에 최대 공배수 저장\n",
        "DFS(0)"
      ],
      "metadata": {
        "colab": {
          "base_uri": "https://localhost:8080/"
        },
        "id": "qkGCKTrrpIWw",
        "outputId": "a38d98dd-13e0-4f23-caaa-c1f601317cf1"
      },
      "execution_count": 39,
      "outputs": [
        {
          "output_type": "stream",
          "name": "stdout",
          "text": [
            "4\n",
            "[105, 0, 0, 0, 105]\n",
            "1\n",
            "[105, 35, 0, 0, 105]\n",
            "2\n",
            "[105, 35, 21, 0, 105]\n",
            "3\n",
            "[105, 35, 21, 15, 105]\n"
          ]
        }
      ]
    },
    {
      "cell_type": "markdown",
      "source": [
        "---\n",
        "# 9. [Ax + By = c](https://www.acmicpc.net/problem/21568)\n",
        "---"
      ],
      "metadata": {
        "id": "BB1CQMy1wwUD"
      }
    },
    {
      "cell_type": "markdown",
      "source": [
        "#### 아이디어 = 확장 유클리드 호제법 \n",
        "\n",
        "- 목적 = 방정식의 해를 구하는 것 \n",
        "\n",
        "- 원리 이해하기\n",
        " \n",
        "  1. 5x + 9y = 2 일 경우\n",
        "  2. 5x + 9y가 정수해를 갖게 하는 c의 최소값이 gcd(5,9)라는 것을 적용해 식을 재설정\n",
        "  3. gcd(5,9) = 1이므로 5x + 9y = 1로 재설정\n",
        "  4. a, b로 유클리드 호제법을 반복 실행하며 몫과 나머지를 저장 , 반복은 0이 되면 종료\n",
        "  5. 구한 몫과 나머지를 거꾸로 올라가며 x = x' , y = x'(이전 x) - y*(이전 y) q(현재 몫) 를 계산  \n",
        "  처음에는 x와 y의 값이 없으므로 1.0으로 지정 \n"
      ],
      "metadata": {
        "id": "xcVr1B9lw6Uy"
      }
    },
    {
      "cell_type": "code",
      "source": [
        "a, b, c = map(int,input().split())\n",
        "\n",
        "def gcd(a,b):\n",
        "  if b == 0:\n",
        "    return a\n",
        "  else: \n",
        "    return gcd(b,a % b)\n",
        "\n",
        "def execute(a,b):\n",
        "  ret = [0] * 2\n",
        "  if b == 0:\n",
        "    ret[0] = 1\n",
        "    ret[1] = 0\n",
        "    return ret\n",
        "  q = a // b\n",
        "  v = execute(b, a % b) # 재귀 형태로 유클리드 호제법 수행 \n",
        "  ret[0] = v[1] # 역순으로 올라오면서 x,y를 계산\n",
        "  ret[1] = v[0] - v[1] * q\n",
        "  return ret\n",
        "\n",
        "mgcd = gcd(a,b) \n",
        "\n",
        "if c % mgcd != 0: # 최대공약수의 배수 형태인지 확인\n",
        "  print(-1) # 안되면 -1 출력 \n",
        "else : \n",
        "  mok = int(c / mgcd)\n",
        "  ret = execute(a,b)\n",
        "  print(ret[0]* mok, end=' ')\n",
        "  print(ret[1]* mok)\n"
      ],
      "metadata": {
        "colab": {
          "base_uri": "https://localhost:8080/"
        },
        "id": "qOHnIMR_w50r",
        "outputId": "66f51058-dcec-433c-91b0-2a6a2f82f2fb"
      },
      "execution_count": 42,
      "outputs": [
        {
          "output_type": "stream",
          "name": "stdout",
          "text": [
            "6 8 3\n",
            "-1\n"
          ]
        }
      ]
    }
  ]
}