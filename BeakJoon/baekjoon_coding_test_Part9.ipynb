{
  "nbformat": 4,
  "nbformat_minor": 0,
  "metadata": {
    "colab": {
      "provenance": []
    },
    "kernelspec": {
      "name": "python3",
      "display_name": "Python 3"
    },
    "language_info": {
      "name": "python"
    }
  },
  "cells": [
    {
      "cell_type": "markdown",
      "source": [
        "---\n",
        "# 1. [순열의 순서 구하기](https://www.acmicpc.net/problem/1722)\n",
        "---"
      ],
      "metadata": {
        "id": "Me6812llUeSC"
      }
    },
    {
      "cell_type": "markdown",
      "source": [
        "1. 자릿수에 따른 순열의 경우의 수를 1부터 N의 자리 까지 미리 계산\n",
        "\n",
        "2. K가 주어질 때 K번째 순열을 구한다. \n",
        "  - 주어진 값(K)과 현재 자리(N) - 1에서 만들 수 있는 경우의 수 비교\n",
        "  - 위에서 K가 더 작아질 때까지 경우의 수를 배수로 증가\n",
        "  - K의 값이 더 작아지면 순열에 값을 저장하고 K를 K - (경우의 수 * (배수 -1))로 업데이트\n",
        "  - 순열이 완성될 때까지 반복\n",
        "\n",
        "3. 임의의 순열이 주어지면 이 순열이 몇 번째 순열인지 계산\n",
        "  - 현재 자릴수의 숫자를 확인하고 해당 숫자보다 앞 숫자 중 미사용 숫자를 카운트\n",
        "  - 미사용 숫자 개수 * (현재 자리 - 1 에서 만들 수 있는 순열의 개수)를 K에 더함\n",
        "  - 모든 자릴수에 관해 반복 후 K값 출력 "
      ],
      "metadata": {
        "id": "KQ0HMsS2Usg4"
      }
    },
    {
      "cell_type": "code",
      "execution_count": null,
      "metadata": {
        "colab": {
          "base_uri": "https://localhost:8080/"
        },
        "id": "ljTO618AUTH7",
        "outputId": "5543bc64-9cde-40eb-dbd5-91ea169f4676"
      },
      "outputs": [
        {
          "output_type": "stream",
          "name": "stdout",
          "text": [
            "4\n",
            "1 3\n",
            "1 3 2 4 "
          ]
        }
      ],
      "source": [
        "F = [0] * 21 # 자리별로 담을 수 있는 경우의 수 저장 리스트\n",
        "S = [0] * 21 # 순열을 담는 리스트\n",
        "\n",
        "visited = [False] * 21 # 숫자 사용여부 확인 리스트\n",
        "N = int(input()) # 순열의 길이 \n",
        "F[0] = 1\n",
        "\n",
        "for i in range(1, N+1):\n",
        "  F[i] = F[i-1] * i # 팩토리얼(!) 공식 적용\n",
        "\n",
        "input_list = list(map(int, input().split()))  # 문제 종류 및 순열 데이터 받기\n",
        "\n",
        "if input_list[0] == 1:\n",
        "  K = input_list[1]\n",
        "  for i in range(1, N+1):\n",
        "    cnt = 1 # 해당 자리에서 몇 번째 숫자를 사용할지 정하는 변수\n",
        "    for j in range(1, N+1):\n",
        "      if visited[j] : # 이미 사용한 숫자 인지 확인\n",
        "        continue # 사용했으면 패스\n",
        "      if K <= cnt * F[N-i]: # 주어진 K에 따라 각 자리에 들어갈 수 있는 수 찾기 / 현재 순서가 < 해당 자리 순열 수 * cnt\n",
        "      \n",
        "        K -= (cnt - 1) * F[N-i] # 현재 순서 = 현재 순서 - 해당 자리 순열 수 * (cnt - 1)\n",
        "        S[i] = j # 현재 자리에 j 값 저장\n",
        "        visited[j] = True # 방문 체크\n",
        "        break\n",
        "      cnt += 1\n",
        "  for i in range(1, N+1):\n",
        "    print(S[i], end= ' ')    \n",
        "else:\n",
        "  K = 1\n",
        "  for i in range(1, N+1):\n",
        "    cnt = 0\n",
        "    for j in range(1, input_list[i]):\n",
        "      if not visited[j]:\n",
        "        cnt += 1 # 미사용 숫자 만큼 카운트\n",
        "    K += cnt * F[N-i]    # 자릴수에 따라 순서 더하기\n",
        "    visited[input_list[i]] = True\n",
        "  print(K)"
      ]
    },
    {
      "cell_type": "markdown",
      "source": [
        "---\n",
        "# 2. [사전 찾기](https://www.acmicpc.net/problem/1256)\n",
        "---"
      ],
      "metadata": {
        "id": "YeUdIrthZaOW"
      }
    },
    {
      "cell_type": "code",
      "source": [
        "N,M,K = map(int, input().split()) # a 문자 개수 / z 문자 개수 / 순번\n",
        "D = [[0 for _ in range(202)] for _ in range(202)] # 조합 경우의 수 저장 테이블\n",
        "\n",
        "for i in range(0, 201): # 조합 테이블 만들기\n",
        "  for j in range(0, i+1):\n",
        "    if (j == 0) or (j == i) :\n",
        "      D[i][j] = 1\n",
        "    else: \n",
        "      D[i][j] = D[i-1][j] + D[i-1][j]\n",
        "      if D[i][j] > 10000000:\n",
        "        D[i][j] = 10000001 # K의 범위가 넘어가면 최대값 저장\n",
        "\n",
        "# 주어진 자리수로 만들수 없는 경우\n",
        "if D[N + M][M] < K:\n",
        "  print(-1)        \n",
        "else:\n",
        "  while not (N== 0 and M == 0):\n",
        "    if D[N-1 + M][M] >= K:\n",
        "      print('a', end='')\n",
        "      N -= 1\n",
        "    else :\n",
        "      print('z', end = '')\n",
        "      K -= D[N-1+M][M]\n",
        "      M -= 1"
      ],
      "metadata": {
        "colab": {
          "base_uri": "https://localhost:8080/"
        },
        "id": "5D7JjxZbXhy3",
        "outputId": "9d742ad0-1761-41f7-8f54-5da0e3aeb609"
      },
      "execution_count": null,
      "outputs": [
        {
          "output_type": "stream",
          "name": "stdout",
          "text": [
            "2 2 2\n",
            "azaz"
          ]
        }
      ]
    },
    {
      "cell_type": "markdown",
      "source": [
        "---\n",
        "# 3. [선물 전달하기](https://www.acmicpc.net/problem/1947)\n",
        "---"
      ],
      "metadata": {
        "id": "YIpbWj7Xa2HJ"
      }
    },
    {
      "cell_type": "code",
      "source": [
        "N = int(input()) # 대회에 참석한 학생 수\n",
        "mod = 1000000000 # 나누어야 하는 변수\n",
        "D = [0] * 1000000001 # N명일 때 선물을 교환할 수 있는 모든 경우의 수 저장 리스트\n",
        "\n",
        "D[1] = 0 # 혼자는 선물 교환 불가능\n",
        "D[2] = 1 # 2명일 경우 서로 교환하는 경우의 수만 존재\n",
        "\n",
        "for i in range(3, N+1):\n",
        "  D[i] = (i-1) * (D[i-1] + D[i-2]) % mod\n",
        "\n",
        "print(D[N])"
      ],
      "metadata": {
        "colab": {
          "base_uri": "https://localhost:8080/"
        },
        "id": "_X3ohMVHavFS",
        "outputId": "e0d940e9-200a-4f24-ee09-6e059785795d"
      },
      "execution_count": null,
      "outputs": [
        {
          "output_type": "stream",
          "name": "stdout",
          "text": [
            "5\n",
            "44\n"
          ]
        }
      ]
    },
    {
      "cell_type": "markdown",
      "source": [
        "---\n",
        "# 4. [정수를 1로 만들기](https://www.acmicpc.net/problem/1463)\n",
        "---"
      ],
      "metadata": {
        "id": "NMttdfAgpeB8"
      }
    },
    {
      "cell_type": "markdown",
      "source": [
        "#### 아이디어 = 동적 계획법 \n",
        "\n",
        "- 핵심 이론\n",
        "\n",
        "1. 큰 문제를 작은 문제로 나눌 수 있어야 한다.\n",
        "\n",
        "2. 작은 문제들이 반복돼 나타나고 사용되며 작은 문제들의 결과값은 항상 같아야 한다.\n",
        "\n",
        "3. 모든 작은 문제들은 한 번만 계산해 DP 테이블에 저장하며 추후 재사용할 때에는 이 DP 테이블을 이용한다. (memorization 기법)\n",
        "\n",
        "4. Top-Down 방식과 Button-Up 방식으로 구현할 수 있다. "
      ],
      "metadata": {
        "id": "1j1WEaO8plc4"
      }
    },
    {
      "cell_type": "code",
      "source": [
        "N = int(input()) # 구하고자 하는 수\n",
        "D = [0] * (N+1) # 연산 횟수 최소값을 저장하는 DP 테이블\n",
        "D[1] = 0 # 1일때 연산 불필요\n",
        "\n",
        "for i in range(2, N+1):\n",
        "  D[i] = D[i-1] + 1\n",
        "  if i % 2 == 0:\n",
        "    D[i] = min(D[i], D[i//2] + 1) \n",
        "  if i % 3 == 0:\n",
        "    D[i] = min(D[i], D[i//3] + 1) \n",
        "\n",
        "print(D[N])    "
      ],
      "metadata": {
        "id": "vOv2zwjWbnaN",
        "colab": {
          "base_uri": "https://localhost:8080/"
        },
        "outputId": "afc3a7b0-d9ac-461c-89f2-fce46298752a"
      },
      "execution_count": 1,
      "outputs": [
        {
          "output_type": "stream",
          "name": "stdout",
          "text": [
            "10\n",
            "3\n"
          ]
        }
      ]
    },
    {
      "cell_type": "markdown",
      "source": [
        "---\n",
        "# 5. [퇴사 준비하기](https://www.acmicpc.net/problem/14501)\n",
        "---"
      ],
      "metadata": {
        "id": "Ji0A3fx7rDfB"
      }
    },
    {
      "cell_type": "code",
      "source": [
        "N = int(input())\n",
        "D = [0] * (N+2) # 오늘 부터 퇴사일까지 벌 수 있는 최대 수입 \n",
        "T = [0] * (N+1) # 상담에 필요한 일수\n",
        "P = [0] * (N+1) # 상담 완료시 수입\n",
        "\n",
        "for i in range(1, N+1):\n",
        "  T[i], P[i] = map(int,input().split())"
      ],
      "metadata": {
        "colab": {
          "base_uri": "https://localhost:8080/"
        },
        "id": "zFzUpJtqqvto",
        "outputId": "429ce041-b29e-4cfe-eb70-3961e4fb9f44"
      },
      "execution_count": 2,
      "outputs": [
        {
          "name": "stdout",
          "output_type": "stream",
          "text": [
            "7\n",
            "3 10\n",
            "5 20\n",
            "1 10\n",
            "1 20\n",
            "2 15\n",
            "4 40\n",
            "2 200\n"
          ]
        }
      ]
    },
    {
      "cell_type": "code",
      "source": [
        "print(T)\n",
        "print(P)"
      ],
      "metadata": {
        "colab": {
          "base_uri": "https://localhost:8080/"
        },
        "id": "NzbdHyLWrxxu",
        "outputId": "9e0acdf0-9abd-4266-c135-d46829c83f25"
      },
      "execution_count": 3,
      "outputs": [
        {
          "output_type": "stream",
          "name": "stdout",
          "text": [
            "[0, 3, 5, 1, 1, 2, 4, 2]\n",
            "[0, 10, 20, 10, 20, 15, 40, 200]\n"
          ]
        }
      ]
    },
    {
      "cell_type": "code",
      "source": [
        "for i in range(N, 0, -1):\n",
        "  if i + T[i] > N+1: # i번째 상담을 퇴사일까지 끝낼 수 있을 때\n",
        "    D[i] = D[i+1] # i+1일 부터 퇴사일에 벌 수 있는 최대 수입\n",
        "  else:  # i번째 상담을 퇴사일까지 끝낼 수 없을 때\n",
        "    D[i] = max(D[i+1], P[i] + D[i + T[i]]) # i번째 상담 비용 + i번째 상담이 끝난 다음 날 부터 퇴사일까지의 최대 수입\n",
        "\n",
        "D[1] # 1일 부터 퇴사일까지 벌 수 있는 최대 수입"
      ],
      "metadata": {
        "colab": {
          "base_uri": "https://localhost:8080/"
        },
        "id": "5JWBMzfzsG0Z",
        "outputId": "eb3d56a5-d0e0-4323-f9eb-6e66c567b82f"
      },
      "execution_count": 4,
      "outputs": [
        {
          "output_type": "execute_result",
          "data": {
            "text/plain": [
              "45"
            ]
          },
          "metadata": {},
          "execution_count": 4
        }
      ]
    },
    {
      "cell_type": "code",
      "source": [
        "D"
      ],
      "metadata": {
        "colab": {
          "base_uri": "https://localhost:8080/"
        },
        "id": "xfdjTbpes0RJ",
        "outputId": "f3baf0f4-73a8-42df-e7cb-13c7c38643a4"
      },
      "execution_count": 5,
      "outputs": [
        {
          "output_type": "execute_result",
          "data": {
            "text/plain": [
              "[0, 45, 45, 45, 35, 15, 0, 0, 0]"
            ]
          },
          "metadata": {},
          "execution_count": 5
        }
      ]
    },
    {
      "cell_type": "markdown",
      "source": [
        "---\n",
        "# 6. [이친수 구하기](https://www.acmicpc.net/problem/2193)\n",
        "---"
      ],
      "metadata": {
        "id": "YMOga5xhs7ZE"
      }
    },
    {
      "cell_type": "markdown",
      "source": [
        "- D[i][0] = 길이 i에서 끝이 0으로 끝나는 이친수의 개수\n",
        "- D[i][1] = 길이 i에서 끝이 1으로 끝나는 이친수의 개수"
      ],
      "metadata": {
        "id": "7mdZ2WdStiAM"
      }
    },
    {
      "cell_type": "code",
      "source": [
        "N = int(input()) # 자리수\n",
        "D = [[0 for _ in range(2)] for _ in range(N+1)]\n",
        "D[1][1] = 1 # 1은 이친수\n",
        "D[1][0] = 0 # 이친수는 0으로 시작하지 않기 때문에 1자리 0으로 끝나는 이친수는 없음 "
      ],
      "metadata": {
        "colab": {
          "base_uri": "https://localhost:8080/"
        },
        "id": "CfUf3Bbos05D",
        "outputId": "b22b750b-8f6e-4ae7-c175-eab2edc9ab3c"
      },
      "execution_count": 6,
      "outputs": [
        {
          "name": "stdout",
          "output_type": "stream",
          "text": [
            "5\n"
          ]
        }
      ]
    },
    {
      "cell_type": "code",
      "source": [
        "D"
      ],
      "metadata": {
        "colab": {
          "base_uri": "https://localhost:8080/"
        },
        "id": "0Ev07uU9trGR",
        "outputId": "13307cf7-6f5b-4673-d36f-b30100f0da60"
      },
      "execution_count": 7,
      "outputs": [
        {
          "output_type": "execute_result",
          "data": {
            "text/plain": [
              "[[0, 0], [0, 1], [0, 0], [0, 0], [0, 0], [0, 0]]"
            ]
          },
          "metadata": {},
          "execution_count": 7
        }
      ]
    },
    {
      "cell_type": "code",
      "source": [
        "for i in range(2, N+1):\n",
        "  D[i][0] = D[i-1][1] + D[i-1][0] # i번째 0으로 끝나는 개수 = i-1에서 0으로 끝나느 개수 + i-1에서 1로 끝나는 개수\n",
        "  D[i][1] = D[i-1][0] # i번째 1로 끝나는 개수 = i-1에서 0으로 끝나느 개수\n",
        "\n",
        "print(D[N][0] + D[N][1]) # N번째에서 0으로 끝나느 개수 + N번째에서 1로 끝나는 개수"
      ],
      "metadata": {
        "colab": {
          "base_uri": "https://localhost:8080/"
        },
        "id": "DxXHnGartsUx",
        "outputId": "291b38d8-7aa1-4014-9cb0-9df0099dbe37"
      },
      "execution_count": 8,
      "outputs": [
        {
          "output_type": "stream",
          "name": "stdout",
          "text": [
            "5\n"
          ]
        }
      ]
    },
    {
      "cell_type": "code",
      "source": [],
      "metadata": {
        "id": "q7_Nxf0KuXTB"
      },
      "execution_count": null,
      "outputs": []
    }
  ]
}