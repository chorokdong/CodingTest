{
  "nbformat": 4,
  "nbformat_minor": 0,
  "metadata": {
    "colab": {
      "provenance": []
    },
    "kernelspec": {
      "name": "python3",
      "display_name": "Python 3"
    },
    "language_info": {
      "name": "python"
    }
  },
  "cells": [
    {
      "cell_type": "markdown",
      "source": [
        "---\n",
        "# 1. [순열의 순서 구하기](https://www.acmicpc.net/problem/1722)\n",
        "---"
      ],
      "metadata": {
        "id": "Me6812llUeSC"
      }
    },
    {
      "cell_type": "markdown",
      "source": [
        "1. 자릿수에 따른 순열의 경우의 수를 1부터 N의 자리 까지 미리 계산\n",
        "\n",
        "2. K가 주어질 때 K번째 순열을 구한다. \n",
        "  - 주어진 값(K)과 현재 자리(N) - 1에서 만들 수 있는 경우의 수 비교\n",
        "  - 위에서 K가 더 작아질 때까지 경우의 수를 배수로 증가\n",
        "  - K의 값이 더 작아지면 순열에 값을 저장하고 K를 K - (경우의 수 * (배수 -1))로 업데이트\n",
        "  - 순열이 완성될 때까지 반복\n",
        "\n",
        "3. 임의의 순열이 주어지면 이 순열이 몇 번째 순열인지 계산\n",
        "  - 현재 자릴수의 숫자를 확인하고 해당 숫자보다 앞 숫자 중 미사용 숫자를 카운트\n",
        "  - 미사용 숫자 개수 * (현재 자리 - 1 에서 만들 수 있는 순열의 개수)를 K에 더함\n",
        "  - 모든 자릴수에 관해 반복 후 K값 출력 "
      ],
      "metadata": {
        "id": "KQ0HMsS2Usg4"
      }
    },
    {
      "cell_type": "code",
      "execution_count": 5,
      "metadata": {
        "colab": {
          "base_uri": "https://localhost:8080/"
        },
        "id": "ljTO618AUTH7",
        "outputId": "5543bc64-9cde-40eb-dbd5-91ea169f4676"
      },
      "outputs": [
        {
          "output_type": "stream",
          "name": "stdout",
          "text": [
            "4\n",
            "1 3\n",
            "1 3 2 4 "
          ]
        }
      ],
      "source": [
        "F = [0] * 21 # 자리별로 담을 수 있는 경우의 수 저장 리스트\n",
        "S = [0] * 21 # 순열을 담는 리스트\n",
        "\n",
        "visited = [False] * 21 # 숫자 사용여부 확인 리스트\n",
        "N = int(input()) # 순열의 길이 \n",
        "F[0] = 1\n",
        "\n",
        "for i in range(1, N+1):\n",
        "  F[i] = F[i-1] * i # 팩토리얼(!) 공식 적용\n",
        "\n",
        "input_list = list(map(int, input().split()))  # 문제 종류 및 순열 데이터 받기\n",
        "\n",
        "if input_list[0] == 1:\n",
        "  K = input_list[1]\n",
        "  for i in range(1, N+1):\n",
        "    cnt = 1 # 해당 자리에서 몇 번째 숫자를 사용할지 정하는 변수\n",
        "    for j in range(1, N+1):\n",
        "      if visited[j] : # 이미 사용한 숫자 인지 확인\n",
        "        continue # 사용했으면 패스\n",
        "      if K <= cnt * F[N-i]: # 주어진 K에 따라 각 자리에 들어갈 수 있는 수 찾기 / 현재 순서가 < 해당 자리 순열 수 * cnt\n",
        "      \n",
        "        K -= (cnt - 1) * F[N-i] # 현재 순서 = 현재 순서 - 해당 자리 순열 수 * (cnt - 1)\n",
        "        S[i] = j # 현재 자리에 j 값 저장\n",
        "        visited[j] = True # 방문 체크\n",
        "        break\n",
        "      cnt += 1\n",
        "  for i in range(1, N+1):\n",
        "    print(S[i], end= ' ')    \n",
        "else:\n",
        "  K = 1\n",
        "  for i in range(1, N+1):\n",
        "    cnt = 0\n",
        "    for j in range(1, input_list[i]):\n",
        "      if not visited[j]:\n",
        "        cnt += 1 # 미사용 숫자 만큼 카운트\n",
        "    K += cnt * F[N-i]    # 자릴수에 따라 순서 더하기\n",
        "    visited[input_list[i]] = True\n",
        "  print(K)"
      ]
    },
    {
      "cell_type": "markdown",
      "source": [
        "---\n",
        "# 2. [사전 찾기](https://www.acmicpc.net/problem/1256)\n",
        "---"
      ],
      "metadata": {
        "id": "YeUdIrthZaOW"
      }
    },
    {
      "cell_type": "code",
      "source": [
        "N,M,K = map(int, input().split()) # a 문자 개수 / z 문자 개수 / 순번\n",
        "D = [[0 for _ in range(202)] for _ in range(202)] # 조합 경우의 수 저장 테이블\n",
        "\n",
        "for i in range(0, 201): # 조합 테이블 만들기\n",
        "  for j in range(0, i+1):\n",
        "    if (j == 0) or (j == i) :\n",
        "      D[i][j] = 1\n",
        "    else: \n",
        "      D[i][j] = D[i-1][j] + D[i-1][j]\n",
        "      if D[i][j] > 10000000:\n",
        "        D[i][j] = 10000001 # K의 범위가 넘어가면 최대값 저장\n",
        "\n",
        "# 주어진 자리수로 만들수 없는 경우\n",
        "if D[N + M][M] < K:\n",
        "  print(-1)        \n",
        "else:\n",
        "  while not (N== 0 and M == 0):\n",
        "    if D[N-1 + M][M] >= K:\n",
        "      print('a', end='')\n",
        "      N -= 1\n",
        "    else :\n",
        "      print('z', end = '')\n",
        "      K -= D[N-1+M][M]\n",
        "      M -= 1"
      ],
      "metadata": {
        "colab": {
          "base_uri": "https://localhost:8080/"
        },
        "id": "5D7JjxZbXhy3",
        "outputId": "9d742ad0-1761-41f7-8f54-5da0e3aeb609"
      },
      "execution_count": 8,
      "outputs": [
        {
          "output_type": "stream",
          "name": "stdout",
          "text": [
            "2 2 2\n",
            "azaz"
          ]
        }
      ]
    },
    {
      "cell_type": "markdown",
      "source": [
        "---\n",
        "# 3. [선물 전달하기](https://www.acmicpc.net/problem/1947)\n",
        "---"
      ],
      "metadata": {
        "id": "YIpbWj7Xa2HJ"
      }
    },
    {
      "cell_type": "code",
      "source": [
        "N = int(input()) # 대회에 참석한 학생 수\n",
        "mod = 1000000000 # 나누어야 하는 변수\n",
        "D = [0] * 1000000001 # N명일 때 선물을 교환할 수 있는 모든 경우의 수 저장 리스트\n",
        "\n",
        "D[1] = 0 # 혼자는 선물 교환 불가능\n",
        "D[2] = 1 # 2명일 경우 서로 교환하는 경우의 수만 존재\n",
        "\n",
        "for i in range(3, N+1):\n",
        "  D[i] = (i-1) * (D[i-1] + D[i-2]) % mod\n",
        "\n",
        "print(D[N])"
      ],
      "metadata": {
        "colab": {
          "base_uri": "https://localhost:8080/"
        },
        "id": "_X3ohMVHavFS",
        "outputId": "e0d940e9-200a-4f24-ee09-6e059785795d"
      },
      "execution_count": 9,
      "outputs": [
        {
          "output_type": "stream",
          "name": "stdout",
          "text": [
            "5\n",
            "44\n"
          ]
        }
      ]
    },
    {
      "cell_type": "code",
      "source": [],
      "metadata": {
        "id": "vOv2zwjWbnaN"
      },
      "execution_count": null,
      "outputs": []
    }
  ]
}