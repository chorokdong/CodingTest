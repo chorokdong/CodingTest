{
  "nbformat": 4,
  "nbformat_minor": 0,
  "metadata": {
    "colab": {
      "provenance": []
    },
    "kernelspec": {
      "name": "python3",
      "display_name": "Python 3"
    },
    "language_info": {
      "name": "python"
    }
  },
  "cells": [
    {
      "cell_type": "markdown",
      "source": [
        "---\n",
        "# 1. [트리의 부모 찾기](https://www.acmicpc.net/problem/11725)\n",
        "---"
      ],
      "metadata": {
        "id": "B5zWnJ_6jwfv"
      }
    },
    {
      "cell_type": "markdown",
      "source": [
        "#### 아아디어 = DFS를 사용한 트리 구조 \n",
        "\n",
        "1. 인접 리스트로 트리 데이터를 구현\n",
        "2. DFS 탐색을 수행, 수행 시 부모 노드의 값을 정답 리스트에 저장\n",
        "3. 정답 리스트의 2번 인덱스 부터 값을 차례대로 출력"
      ],
      "metadata": {
        "id": "uwQldR-aj-C9"
      }
    },
    {
      "cell_type": "code",
      "execution_count": null,
      "metadata": {
        "colab": {
          "base_uri": "https://localhost:8080/"
        },
        "id": "kMRMNnPjjnCb",
        "outputId": "4cc4d019-38d1-4670-8f83-ddc504843207"
      },
      "outputs": [
        {
          "name": "stdout",
          "output_type": "stream",
          "text": [
            "7\n",
            "1 6\n",
            "6 3\n",
            "3 5\n",
            "4 1\n",
            "2 4\n",
            "4 7\n"
          ]
        }
      ],
      "source": [
        "N = int(input()) # 노드 개수\n",
        "visited = [False] * (N+1) # 방문 기록 저장 리스트 \n",
        "tree = [[] for _ in range(N+1)] # 그래프 데이터 저장 인접 리스트 \n",
        "answer = [0] * (N+1) # 부모 노드 저장 정답 리스트\n",
        "\n",
        "for i in range(1, N):\n",
        "  n1, n2 = map(int,input().split())\n",
        "  tree[n1].append(n2)\n",
        "  tree[n2].append(n1)"
      ]
    },
    {
      "cell_type": "code",
      "source": [
        "tree"
      ],
      "metadata": {
        "colab": {
          "base_uri": "https://localhost:8080/"
        },
        "id": "kUqzBt4rlXXm",
        "outputId": "f1d04d0d-4331-48ea-845d-a7b47dcbe9c8"
      },
      "execution_count": null,
      "outputs": [
        {
          "output_type": "execute_result",
          "data": {
            "text/plain": [
              "[[], [6, 4], [4], [6, 5], [1, 2, 7], [3], [1, 3], [4]]"
            ]
          },
          "metadata": {},
          "execution_count": 4
        }
      ]
    },
    {
      "cell_type": "code",
      "source": [
        "def DFS(num):\n",
        "  visited[num] = True\n",
        "  for i in tree[num]: # visited 리스트에 현재 노드 방문 기록 확인\n",
        "    if not visited[i]: # 만약 방문하지 않았다면\n",
        "      answer[i] = num # 부모 노드로 현재 노드 저장\n",
        "      DFS(i) # 미방문 노드 실행\n",
        "\n",
        "# 부모 노드 부터 실행\n",
        "DFS(1)      \n",
        "\n",
        "for i in range(2, N+1): \n",
        "  print(answer[i])\n"
      ],
      "metadata": {
        "colab": {
          "base_uri": "https://localhost:8080/"
        },
        "id": "gD8iyvvplHIX",
        "outputId": "d1eb9ef1-1239-4811-bbdd-a9a4266250df"
      },
      "execution_count": null,
      "outputs": [
        {
          "output_type": "stream",
          "name": "stdout",
          "text": [
            "4\n",
            "6\n",
            "1\n",
            "3\n",
            "1\n",
            "4\n"
          ]
        }
      ]
    },
    {
      "cell_type": "markdown",
      "source": [
        "---\n",
        "# 2. [리프 노드의 개수 구하기](https://www.acmicpc.net/problem/1068)\n",
        "----"
      ],
      "metadata": {
        "id": "h0n-iEK_mL1K"
      }
    },
    {
      "cell_type": "markdown",
      "source": [
        "#### 아이디어 = DFS or BFS를 진행하며 리프 노드의 개수를 세던 중 삭제 노드를 만나면 탐색을 중지"
      ],
      "metadata": {
        "id": "lWoVh1c0mqiu"
      }
    },
    {
      "cell_type": "code",
      "source": [
        "N = int(input()) # 노드 개수\n",
        "visited = [False] * (N) # 방문 기록 저장 리스트 \n",
        "tree = [[] for _ in range(N)] # 그래프 데이터 저장 인접 리스트 \n",
        "answer = 0 # 리프 노드 개수 저장 \n",
        "P = list(map(int, input().split())) # 입력 데이터 저장 리스트\n",
        "del_node = int(input()) # 삭제 노드\n",
        "\n",
        "for i in range(N):\n",
        "  if P[i] != -1: # 루트 노드가 아닐경우\n",
        "    tree[i].append(P[i])\n",
        "    tree[P[i]].append(i)\n",
        "  else: # 루트 노드일 경우\n",
        "    root = i # 루트 노드값 저장"
      ],
      "metadata": {
        "colab": {
          "base_uri": "https://localhost:8080/"
        },
        "id": "3KxukIqAmeqK",
        "outputId": "4426ef2f-02c1-447e-b4f9-c56e53f08f55"
      },
      "execution_count": null,
      "outputs": [
        {
          "name": "stdout",
          "output_type": "stream",
          "text": [
            "9 \n",
            "-1 0 0 2 2 4 4 6 6\n",
            "4\n"
          ]
        }
      ]
    },
    {
      "cell_type": "code",
      "source": [
        "print(P)\n",
        "print(tree)"
      ],
      "metadata": {
        "colab": {
          "base_uri": "https://localhost:8080/"
        },
        "id": "8AgXCrX6nkxU",
        "outputId": "f248c159-2114-462c-e15d-69139db56c6c"
      },
      "execution_count": null,
      "outputs": [
        {
          "output_type": "stream",
          "name": "stdout",
          "text": [
            "[-1, 0, 0, 2, 2, 4, 4, 6, 6]\n",
            "[[1, 2], [0], [0, 3, 4], [2], [2, 5, 6], [4], [4, 7, 8], [6], [6]]\n"
          ]
        }
      ]
    },
    {
      "cell_type": "code",
      "source": [
        "def DFS(num):\n",
        "  global answer\n",
        "  visited[num] = True\n",
        "  c_node = 0 # 자식 노드 개수\n",
        "  \n",
        "  for i in tree[num]:\n",
        "    if not visited[i] and (i != del_node): # 방문하지 않았고 삭제 노드도 아닐 경우\n",
        "      c_node += 1 # 자식 노드 개수 +1\n",
        "      DFS(i)\n",
        "\n",
        "  if c_node == 0: # 자식 노드가 0일 경우\n",
        "    answer += 1   # 리프 노드로 간주하고 정답 +1 \n",
        "\n",
        "if del_node == root :\n",
        "  print(0)\n",
        "else: \n",
        "  DFS(root)\n",
        "  print(answer)      "
      ],
      "metadata": {
        "colab": {
          "base_uri": "https://localhost:8080/"
        },
        "id": "Uj8px_Irnpt1",
        "outputId": "fdbf9212-883d-4a83-ef29-b9cd048333d0"
      },
      "execution_count": null,
      "outputs": [
        {
          "output_type": "stream",
          "name": "stdout",
          "text": [
            "2\n"
          ]
        }
      ]
    },
    {
      "cell_type": "markdown",
      "source": [
        "---\n",
        "# 3. [문자열 찾기](https://www.acmicpc.net/problem/14425)\n",
        "----"
      ],
      "metadata": {
        "id": "w8NlG2KGWAh-"
      }
    },
    {
      "cell_type": "markdown",
      "source": [
        "#### 아이디어 = 트라이 알고리즘\n",
        "\n",
        "- 단어들을 사전 형태로 생성한 후 트리의 부모 자식 노드 관계를 이용해 검색을 수행 "
      ],
      "metadata": {
        "id": "_ZabQadyWGep"
      }
    },
    {
      "cell_type": "code",
      "source": [
        "# N, M = map(int, input().split()) # 집합 S의 문자열 개수 / 검사할 문자열 개수\n",
        "\n",
        "# text_list = set([input() for _ in range(N)])\n",
        "# count = 0\n",
        "\n",
        "# for _ in range(M):\n",
        "#   subtext = input()\n",
        "#   if subtext in text_list:\n",
        "#     count += 1\n",
        "\n",
        "# print(count)    "
      ],
      "metadata": {
        "id": "0YYS-wkNYaHN"
      },
      "execution_count": null,
      "outputs": []
    },
    {
      "cell_type": "code",
      "source": [
        "N, M = map(int, input().split()) # 집합 S의 문자열 개수 / 검사할 문자열 개수\n",
        "value_N = ['baekjoononlinejudge','startlink','codeplus','sundaycoding','codingsh']\n",
        "value_M = ['baekjoon','codeplus','codeminus','startlink','starlink','sundaycoding','codingsh','codinghs','sondaycoding','startrink','icerink']\n",
        "textlist = set([x for x in value_N])\n",
        "count = 0\n",
        "\n",
        "for subtext in value_M: \n",
        "  if subtext in textlist :\n",
        "    count += 1\n",
        "\n",
        "print(count)    "
      ],
      "metadata": {
        "id": "xKN-gggtn-nK",
        "colab": {
          "base_uri": "https://localhost:8080/"
        },
        "outputId": "f30d0ad4-55aa-4d52-d6ef-4f22d1dfbe64"
      },
      "execution_count": null,
      "outputs": [
        {
          "output_type": "stream",
          "name": "stdout",
          "text": [
            "5 11\n",
            "4\n"
          ]
        }
      ]
    },
    {
      "cell_type": "markdown",
      "source": [
        "---\n",
        "# 4. [트리 순회하기](https://www.acmicpc.net/problem/1991)\n",
        "----"
      ],
      "metadata": {
        "id": "8MNKODowY60k"
      }
    },
    {
      "cell_type": "markdown",
      "source": [
        "#### 아디디어 = 이진 트리 \n",
        "\n",
        "- 각 노드의 자식 노드의 개수가 2 이하로 구성되어 있는 트리\n",
        "\n",
        "- 편향 이진 트리 = 노드들이 한쪾으로 편향돼 생성된 트리\n",
        "- 포화 이진 트리 = 트리의 높이가 모두 일정하며 리프 노드가 꽉찬 트리\n",
        "- 완전 이진 트리 = 마지막 레벨을 제외하고 완전하게 노드들이 채워져 있고, 마지막 레벨은 왼쪽 부터 채워진 트리 "
      ],
      "metadata": {
        "id": "fBr8AXstZCV6"
      }
    },
    {
      "cell_type": "code",
      "source": [
        "N = int(input()) # 노드 개수 \n",
        "tree = {} # 딕셔너리 형태로 사용\n",
        "\n",
        "for _ in range(N):\n",
        "  root, left, right = input().split()\n",
        "  tree[root] = [left, right]\n",
        "\n",
        "def pre_order(now):  \n",
        "  if now == '.':\n",
        "    return \n",
        "  print(now, end = '')    # 1. 현재 노드\n",
        "  pre_order(tree[now][0]) # 2. 왼쪽 탐색\n",
        "  pre_order(tree[now][1]) # 3. 오른쪽 탐색\n",
        "\n",
        "def mid_order(now):\n",
        "  if now == '.':\n",
        "    return\n",
        "  mid_order(tree[now][0]) # 1. 왼쪽 탐색\n",
        "  print(now, end = '')    # 2. 현재 노드\n",
        "  mid_order(tree[now][1]) # 3. 오른쪽 탐색\n",
        "\n",
        "def post_order(now):\n",
        "  if now == '.':\n",
        "    return\n",
        "  post_order(tree[now][0]) # 1. 왼쪽 탐색\n",
        "  post_order(tree[now][1]) # 2. 오른쪽 탐색\n",
        "  print(now, end = '')     # 3. 현재 노드"
      ],
      "metadata": {
        "colab": {
          "base_uri": "https://localhost:8080/"
        },
        "id": "4u1m9uDVXiLZ",
        "outputId": "81fc4adf-a04b-4fad-b18f-1cdee5b41f1e"
      },
      "execution_count": null,
      "outputs": [
        {
          "name": "stdout",
          "output_type": "stream",
          "text": [
            "7\n",
            "A B C\n",
            "B D .\n",
            "C E F\n",
            "E . .\n",
            "F . G\n",
            "D . .\n",
            "G . .\n"
          ]
        }
      ]
    },
    {
      "cell_type": "code",
      "source": [
        "tree"
      ],
      "metadata": {
        "colab": {
          "base_uri": "https://localhost:8080/"
        },
        "id": "-Z6NvW4ObK9i",
        "outputId": "eb0136ef-9ffb-4b84-983a-5c3c962bf0b1"
      },
      "execution_count": null,
      "outputs": [
        {
          "output_type": "execute_result",
          "data": {
            "text/plain": [
              "{'A': ['B', 'C'],\n",
              " 'B': ['D', '.'],\n",
              " 'C': ['E', 'F'],\n",
              " 'E': ['.', '.'],\n",
              " 'F': ['.', 'G'],\n",
              " 'D': ['.', '.'],\n",
              " 'G': ['.', '.']}"
            ]
          },
          "metadata": {},
          "execution_count": 9
        }
      ]
    },
    {
      "cell_type": "code",
      "source": [
        "pre_order('A')\n",
        "print()\n",
        "mid_order('A')\n",
        "print()\n",
        "post_order('A')\n"
      ],
      "metadata": {
        "colab": {
          "base_uri": "https://localhost:8080/"
        },
        "id": "xMPuvShIa9-D",
        "outputId": "e3f0a3ca-b57a-4901-b380-65e5f943cd16"
      },
      "execution_count": null,
      "outputs": [
        {
          "output_type": "stream",
          "name": "stdout",
          "text": [
            "ABDCEFG\n",
            "DBAECFG\n",
            "DBEGFCA"
          ]
        }
      ]
    },
    {
      "cell_type": "markdown",
      "source": [
        "---\n",
        "# 5. [구간 합 구하기3](https://www.acmicpc.net/problem/2042)\n",
        "---"
      ],
      "metadata": {
        "id": "2HnhtZ3xzxkG"
      }
    },
    {
      "cell_type": "markdown",
      "source": [
        "#### 아이디어 = 세그먼트 트리\n",
        "\n",
        "- 종류 : 구간 합, 최대최소 구하기\n",
        "\n",
        "1. 트리 초기화하기 \n",
        "  - 리프 노드의 개수가 데이터의 개수(N)이상이 되도록 트리를 생성\n",
        "  - 크기는 $2^k$ >= N을 만족하는 최솟값을 구한 후 $2^k * 2$를 트리의 리스트로 생성 \n",
        "\n",
        "2. 질의값 구하기\n",
        "  - 질의 인덱스를 세그먼트 트리의 인덱스로 변경 \n",
        "    - 세그먼트 트리 index = 주어진 질의 index + $2^k -1$   \n",
        "  \n",
        "3. 데이터 업데이트\n"
      ],
      "metadata": {
        "id": "Ym_V20kTz4is"
      }
    },
    {
      "cell_type": "code",
      "source": [
        "N, M, K = map(int, input().split()) # 노드 개수 / 변경 횟수 / 구간 합 횟수\n",
        "treeheight = 0 # 트리 높이\n",
        "length = N # 리프 노드의 개수\n",
        "\n",
        "# 트리의 높이 구하기 \n",
        "while length != 0:\n",
        "  length //= 2\n",
        "  treeheight += 1\n",
        "\n",
        "# 트리 리스트의 크기 구하기\n",
        "tree_size = pow(2, treeheight + 1)\n",
        "\n",
        "# 리프 노드의 시작 인덱스\n",
        "left_node_start_index = tree_size // 2 -1\n",
        "\n",
        "# 인덱스 트리 저장 리스트 생성 \n",
        "tree = [0] * (tree_size + 1)\n",
        "\n",
        "# 데이터를 리프 노드에 저장\n",
        "for i in range(left_node_start_index + 1, left_node_start_index + N + 1):\n",
        "  tree[i] = int(input())"
      ],
      "metadata": {
        "id": "vZ6VVAFybO8c",
        "colab": {
          "base_uri": "https://localhost:8080/"
        },
        "outputId": "b2234db9-688e-4b5f-c637-2b64fed6db29"
      },
      "execution_count": null,
      "outputs": [
        {
          "name": "stdout",
          "output_type": "stream",
          "text": [
            "5 2 2\n",
            "1\n",
            "2\n",
            "3\n",
            "4\n",
            "5\n"
          ]
        }
      ]
    },
    {
      "cell_type": "code",
      "source": [
        "print(tree_size)\n",
        "print(left_node_start_index)\n",
        "print(tree)"
      ],
      "metadata": {
        "colab": {
          "base_uri": "https://localhost:8080/"
        },
        "id": "o9p41z1Y29wN",
        "outputId": "47b9d948-b091-477b-9d0d-03ec29085114"
      },
      "execution_count": null,
      "outputs": [
        {
          "output_type": "stream",
          "name": "stdout",
          "text": [
            "16\n",
            "7\n",
            "[0, 0, 0, 0, 0, 0, 0, 0, 1, 2, 3, 4, 5, 0, 0, 0, 0]\n"
          ]
        }
      ]
    },
    {
      "cell_type": "code",
      "source": [
        "# 인덱스 트리 생성 함수\n",
        "def set_tree(i):\n",
        "  while i != 0:\n",
        "    tree[i // 2] += tree[i]\n",
        "    i -= 1\n",
        "\n",
        "# 값 변경 함수\n",
        "def change_value(index, value):\n",
        "  diff = value - tree[index]\n",
        "  while index > 0 :\n",
        "    tree[index] = tree[index] + diff\n",
        "    index = index // 2\n",
        "\n",
        "# 구간 합 계산 함수\n",
        "def get_sum(s,e):\n",
        "  partsum = 0\n",
        "  while s <= e:\n",
        "    if s % 2 == 1:\n",
        "      partsum += tree[s]\n",
        "      s += 1\n",
        "    if e % 2 == 0:\n",
        "      partsum += tree[e]\n",
        "      e -= 1\n",
        "    s = s // 2\n",
        "    e = e // 2\n",
        "  return partsum\n",
        "\n",
        "set_tree(tree_size - 1)"
      ],
      "metadata": {
        "id": "pVCXA2LZ3OmF"
      },
      "execution_count": null,
      "outputs": []
    },
    {
      "cell_type": "code",
      "source": [
        "for _ in range(M + K):\n",
        "  question, s, e = map(int,input().split())\n",
        "  if question == 1:\n",
        "    change_value(left_node_start_index + s , e)\n",
        "  elif question == 2:\n",
        "    s = s + left_node_start_index\n",
        "    e = e + left_node_start_index\n",
        "    print(get_sum(s,e))"
      ],
      "metadata": {
        "colab": {
          "base_uri": "https://localhost:8080/"
        },
        "id": "gwvadDV04KmP",
        "outputId": "f707481c-e697-463a-9db6-ded567d9cf9d"
      },
      "execution_count": null,
      "outputs": [
        {
          "output_type": "stream",
          "name": "stdout",
          "text": [
            "1 3 6\n",
            "2 2 5\n",
            "17\n",
            "1 5 2\n",
            "2 3 5\n",
            "12\n"
          ]
        }
      ]
    },
    {
      "cell_type": "markdown",
      "source": [
        "---\n",
        "# 6. [최솟값 찾기2](https://www.acmicpc.net/problem/10868)\n",
        "---"
      ],
      "metadata": {
        "id": "cJAE5H794tFM"
      }
    },
    {
      "cell_type": "code",
      "source": [
        "N, M = map(int,input().split())\n",
        "tree_height = 0\n",
        "length = N \n",
        "max_value = 1000\n",
        "\n",
        "# 트리의 높이 구하기 \n",
        "while length != 0:\n",
        "  length //= 2\n",
        "  treeheight += 1\n",
        "\n",
        "# 트리 리스트의 크기 구하기\n",
        "tree_size = pow(2, treeheight + 1)\n",
        "\n",
        "# 리프 노드의 시작 인덱스\n",
        "left_node_start_index = tree_size // 2 -1\n",
        "\n",
        "# 인덱스 트리 저장 리스트 생성 \n",
        "tree = [max_value] * (tree_size + 1)\n",
        "\n",
        "# 데이터를 리프 노드에 저장\n",
        "for i in range(left_node_start_index + 1, left_node_start_index + N + 1):\n",
        "  tree[i] = int(input())\n",
        "\n",
        "# 인덱스 트리 생성 함수\n",
        "def set_tree(i):\n",
        "  while i != 0 :\n",
        "    if tree[i // 2] > tree[i]:\n",
        "      tree[i // 2] = tree[i]\n",
        "    i -= 1\n",
        "\n",
        "set_tree(tree_size - 1)\n",
        "\n",
        "# 최솟값 계산 함수\n",
        "def get_min(s,e):\n",
        "  Min = max_value\n",
        "  while s <= e:\n",
        "    if s % 2 == 1:\n",
        "      Min = min(Min, tree[s])\n",
        "      s += 1\n",
        "    if e & 2 == 0:\n",
        "      Min = min(Min, tree[e])\n",
        "      e -= 1\n",
        "    s = s // 2\n",
        "    e = e // 2\n",
        "  return Min"
      ],
      "metadata": {
        "colab": {
          "base_uri": "https://localhost:8080/"
        },
        "id": "-tyFs-dH4eI0",
        "outputId": "4bc628b5-11b6-4ac3-87fe-e78bac7be474"
      },
      "execution_count": null,
      "outputs": [
        {
          "name": "stdout",
          "output_type": "stream",
          "text": [
            "10 4\n",
            "75\n",
            "30\n",
            "100\n",
            "38\n",
            "50\n",
            "51\n",
            "52\n",
            "20\n",
            "81\n",
            "5\n"
          ]
        }
      ]
    },
    {
      "cell_type": "code",
      "source": [
        "for _ in range(M):\n",
        "  s ,e = map(int, input().split())\n",
        "  s = s + left_node_start_index\n",
        "  e = e +  left_node_start_index\n",
        "  print(get_min(s,e))\n"
      ],
      "metadata": {
        "colab": {
          "base_uri": "https://localhost:8080/"
        },
        "id": "LOs16MPK6Kcd",
        "outputId": "5b668486-3efd-42dd-fc60-e2da781b5a9a"
      },
      "execution_count": null,
      "outputs": [
        {
          "output_type": "stream",
          "name": "stdout",
          "text": [
            "1 10\n",
            "5\n",
            "3 5\n",
            "38\n",
            "6 9\n",
            "20\n",
            "8 10\n",
            "5\n"
          ]
        }
      ]
    },
    {
      "cell_type": "markdown",
      "source": [
        "---\n",
        "# 7. [최소 공통 조상 구하기1](https://www.acmicpc.net/problem/11437)\n",
        "----"
      ],
      "metadata": {
        "id": "jYKgX4B-n9qX"
      }
    },
    {
      "cell_type": "markdown",
      "source": [
        "#### 아아디어 = 최소 공통 조상\n",
        "\n",
        "- 트리 그래프에서 임의의 두 노드를 선택 후 두 노드가 각각 자신을 포함해 거슬러 올라가면서 부모 노드를 탐색할 때, 처음 공통으로 만나게 되는 부모 노드\n",
        "\n"
      ],
      "metadata": {
        "id": "zCWQy30woFF_"
      }
    },
    {
      "cell_type": "code",
      "source": [
        "from collections import deque\n",
        "\n",
        "N = int(input()) # 수의 개수\n",
        "tree = [[] for _ in range(N+1)] # 트리 데이터 저장\n",
        "depth = [0] * (N+1) # 노드 깊이 리스트\n",
        "parent = [0] * (N+1) # 노드 조상 리스트\n",
        "visited = [False] * (N+1) # 방문 여부 저장 리스트\n",
        "\n",
        "\n",
        "for _ in range(N-1): # 인접 리스트에 트리 데이터 저장\n",
        "  s, e = map(int,input().split())\n",
        "  tree[s].append(e)\n",
        "  tree[e].append(s)\n",
        "\n",
        "def BFS(num):\n",
        "  queue = deque()  \n",
        "  queue.append(num)\n",
        "  visited[num] = True # 리스트에 현재 노드 방문 기록\n",
        "  level = 1 # 트리의 깊이\n",
        "  now_size = 1 # 현재 깊이에서 트리 크기\n",
        "  count = 0\n",
        "  while queue :\n",
        "    now_node = queue.popleft()\n",
        "    for next in tree[now_node]: # 현재 노드와 연결된 노드 탐색\n",
        "      if not visited[next]:\n",
        "        visited[next] = True \n",
        "        queue.append(next)\n",
        "        parent[next] = now_node # 부모 노드 저장\n",
        "        depth[next] = level # 노드 depth 저장\n",
        "    count += 1\n",
        "    if count == now_size:\n",
        "      count = 0\n",
        "      now_size = len(queue)\n",
        "      level += 1\n",
        "      \n",
        "BFS(1)      "
      ],
      "metadata": {
        "id": "mbKQ30m66QPs",
        "colab": {
          "base_uri": "https://localhost:8080/"
        },
        "outputId": "557bf732-4c52-4c73-b70a-21214319637e"
      },
      "execution_count": 2,
      "outputs": [
        {
          "name": "stdout",
          "output_type": "stream",
          "text": [
            "15\n",
            "1 2\n",
            "1 3\n",
            "2 4\n",
            "3 7\n",
            "6 2\n",
            "3 8\n",
            "4 9\n",
            "2 5\n",
            "5 11\n",
            "7 13\n",
            "10 4\n",
            "11 15\n",
            "12 5\n",
            "14 7\n"
          ]
        }
      ]
    },
    {
      "cell_type": "code",
      "source": [
        "tree"
      ],
      "metadata": {
        "colab": {
          "base_uri": "https://localhost:8080/"
        },
        "id": "rppfvwtdonyX",
        "outputId": "938dd61c-4fcc-4f3e-876f-e504dbe426e1"
      },
      "execution_count": 5,
      "outputs": [
        {
          "output_type": "execute_result",
          "data": {
            "text/plain": [
              "[[],\n",
              " [2, 3],\n",
              " [1, 4, 6, 5],\n",
              " [1, 7, 8],\n",
              " [2, 9, 10],\n",
              " [2, 11, 12],\n",
              " [2],\n",
              " [3, 13, 14],\n",
              " [3],\n",
              " [4],\n",
              " [4],\n",
              " [5, 15],\n",
              " [5],\n",
              " [7],\n",
              " [7],\n",
              " [11]]"
            ]
          },
          "metadata": {},
          "execution_count": 5
        }
      ]
    },
    {
      "cell_type": "code",
      "source": [
        "def executeLCA(a,b):\n",
        "  if depth[a] < depth[b]:\n",
        "    temp = a\n",
        "    a = b\n",
        "    b = temp\n",
        "\n",
        "  while depth[a] != depth[b]: # depth 맞추기\n",
        "    a = parent[a]\n",
        "\n",
        "  while a != b : # 공통 조상 찾기\n",
        "    a = parent[a]\n",
        "    b = parent[b]\n",
        "  return a\n",
        "\n",
        "M = int(input())\n",
        "\n",
        "for _ in range(M):\n",
        "  a , b = map(int, input().split())\n",
        "  print(str(executeLCA(a,b)))\n",
        "  print()"
      ],
      "metadata": {
        "colab": {
          "base_uri": "https://localhost:8080/"
        },
        "id": "v-hIH8H0qYkl",
        "outputId": "780fb04f-fcd8-47fb-8243-df8056585331"
      },
      "execution_count": 6,
      "outputs": [
        {
          "output_type": "stream",
          "name": "stdout",
          "text": [
            "6\n",
            "6 11\n",
            "2\n",
            "\n",
            "10 9\n",
            "4\n",
            "\n",
            "2 6\n",
            "2\n",
            "\n",
            "7 6\n",
            "1\n",
            "\n",
            "8 13\n",
            "3\n",
            "\n",
            "8 15\n",
            "1\n",
            "\n"
          ]
        }
      ]
    },
    {
      "cell_type": "markdown",
      "source": [
        "---\n",
        "# 8. [최소 공통 조상 구하기2](https://www.acmicpc.net/problem/11438)\n",
        "----"
      ],
      "metadata": {
        "id": "Scn55n42rLJs"
      }
    },
    {
      "cell_type": "code",
      "source": [
        "from collections import deque\n",
        "\n",
        "N = int(input()) # 수의 개수\n",
        "tree = [[0] for _ in range(N+1)] # 트리 데이터 저장\n",
        "\n",
        "depth = [0] * (N+1) # 노드 깊이 리스트\n",
        "visited = [False] * (N+1) # 방문 여부 저장 리스트\n",
        "temp = 1\n",
        "kmax = 0\n",
        "\n",
        "while temp <= N : # 최대 가능 depth 구하기\n",
        "  temp <<= 1\n",
        "  kmax += 1\n",
        "\n",
        "parent = [[0 for i in range(N+1)] for j in range(kmax+1)]  \n",
        "\n",
        "for _ in range(N-1): # 인접 리스트에 트리 데이터 저장\n",
        "  s, e = map(int,input().split())\n",
        "  tree[s].append(e)\n",
        "  tree[e].append(s)\n",
        "\n",
        "def BFS(num):\n",
        "  queue = deque()  \n",
        "  queue.append(num)\n",
        "  visited[num] = True # 리스트에 현재 노드 방문 기록\n",
        "  level = 1 # 트리의 깊이\n",
        "  now_size = 1 # 현재 깊이에서 트리 크기\n",
        "  count = 0\n",
        "  while queue :\n",
        "    now_node = queue.popleft()\n",
        "    for next in tree[now_node]: # 현재 노드와 연결된 노드 탐색\n",
        "      if not visited[next]:\n",
        "        visited[next] = True \n",
        "        queue.append(next)\n",
        "        parent[0][next] = now_node # 부모 노드 저장\n",
        "        depth[next] = level # 노드 depth 저장\n",
        "    count += 1\n",
        "    if count == now_size:\n",
        "      count = 0\n",
        "      now_size = len(queue)\n",
        "      level += 1\n",
        "      \n",
        "BFS(1)      "
      ],
      "metadata": {
        "colab": {
          "base_uri": "https://localhost:8080/"
        },
        "id": "75svQR5nq80I",
        "outputId": "884169a4-775e-44e0-a9fc-ebf60d68b029"
      },
      "execution_count": 14,
      "outputs": [
        {
          "name": "stdout",
          "output_type": "stream",
          "text": [
            "15\n",
            "1 2\n",
            "1 3\n",
            "2 4\n",
            "3 7\n",
            "6 2\n",
            "3 8\n",
            "4 9\n",
            "2 5\n",
            "5 11\n",
            "7 13\n",
            "10 4\n",
            "11 15\n",
            "12 5\n",
            "14 7\n"
          ]
        }
      ]
    },
    {
      "cell_type": "code",
      "source": [
        "print(tree)\n",
        "print()\n",
        "print(parent)"
      ],
      "metadata": {
        "colab": {
          "base_uri": "https://localhost:8080/"
        },
        "id": "RO9xcEspr1PM",
        "outputId": "1571f908-908c-4789-a5b2-2e3805df0a99"
      },
      "execution_count": 15,
      "outputs": [
        {
          "output_type": "stream",
          "name": "stdout",
          "text": [
            "[[0], [0, 2, 3], [0, 1, 4, 6, 5], [0, 1, 7, 8], [0, 2, 9, 10], [0, 2, 11, 12], [0, 2], [0, 3, 13, 14], [0, 3], [0, 4], [0, 4], [0, 5, 15], [0, 5], [0, 7], [0, 7], [0, 11]]\n",
            "\n",
            "[[1, 0, 1, 1, 2, 2, 2, 3, 3, 4, 4, 5, 5, 7, 7, 11], [0, 0, 0, 0, 0, 0, 0, 0, 0, 0, 0, 0, 0, 0, 0, 0], [0, 0, 0, 0, 0, 0, 0, 0, 0, 0, 0, 0, 0, 0, 0, 0], [0, 0, 0, 0, 0, 0, 0, 0, 0, 0, 0, 0, 0, 0, 0, 0], [0, 0, 0, 0, 0, 0, 0, 0, 0, 0, 0, 0, 0, 0, 0, 0]]\n"
          ]
        }
      ]
    },
    {
      "cell_type": "code",
      "source": [
        "for k in range(1, kmax + 1):\n",
        "  for j in range(1 , N+1):\n",
        "    parent[k][j] = parent[k-1][parent[k-1][j]]\n",
        "\n",
        "\n",
        "def executeLCA(a,b):\n",
        "  if depth[a] < depth[b]:\n",
        "    temp = a\n",
        "    a = b\n",
        "    b = temp\n",
        "  \n",
        "  # depth 빠르게 맞추기\n",
        "  for k in range(kmax, -1, -1):\n",
        "    if pow(2,k) <= depth[b] - depth[a]:\n",
        "      if depth[a] <= depth[parent[k][b]]:\n",
        "        b = parent[k][b]\n",
        "\n",
        "  # 조상 빠르게 찾기\n",
        "  for k in range(kmax, -1, -1):\n",
        "    if a == b:\n",
        "      break\n",
        "    if parent[k][a] != parent[k][b]:\n",
        "      a = parent[k][a]\n",
        "      b = parent[k][b]\n",
        "\n",
        "  LCA = a\n",
        "\n",
        "  if a != b:\n",
        "    LCA = parent[0][LCA]\n",
        "  return LCA\n",
        "\n",
        "M = int(input())     \n",
        "\n",
        "for _ in range(M):\n",
        "  a, b = map(int, input().split())\n",
        "  print(str(executeLCA(a,b)))\n",
        "  print()"
      ],
      "metadata": {
        "id": "bjcDMoF4sA9v"
      },
      "execution_count": null,
      "outputs": []
    },
    {
      "cell_type": "code",
      "source": [],
      "metadata": {
        "id": "6sLtf5EttQwG"
      },
      "execution_count": null,
      "outputs": []
    }
  ]
}