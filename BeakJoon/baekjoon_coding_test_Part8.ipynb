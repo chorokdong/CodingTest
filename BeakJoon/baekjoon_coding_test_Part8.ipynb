{
  "nbformat": 4,
  "nbformat_minor": 0,
  "metadata": {
    "colab": {
      "provenance": []
    },
    "kernelspec": {
      "name": "python3",
      "display_name": "Python 3"
    },
    "language_info": {
      "name": "python"
    }
  },
  "cells": [
    {
      "cell_type": "markdown",
      "source": [
        "---\n",
        "# 1. [트리의 부모 찾기](https://www.acmicpc.net/problem/11725)\n",
        "---"
      ],
      "metadata": {
        "id": "B5zWnJ_6jwfv"
      }
    },
    {
      "cell_type": "markdown",
      "source": [
        "#### 아아디어 = DFS를 사용한 트리 구조 \n",
        "\n",
        "1. 인접 리스트로 트리 데이터를 구현\n",
        "2. DFS 탐색을 수행, 수행 시 부모 노드의 값을 정답 리스트에 저장\n",
        "3. 정답 리스트의 2번 인덱스 부터 값을 차례대로 출력"
      ],
      "metadata": {
        "id": "uwQldR-aj-C9"
      }
    },
    {
      "cell_type": "code",
      "execution_count": null,
      "metadata": {
        "colab": {
          "base_uri": "https://localhost:8080/"
        },
        "id": "kMRMNnPjjnCb",
        "outputId": "4cc4d019-38d1-4670-8f83-ddc504843207"
      },
      "outputs": [
        {
          "name": "stdout",
          "output_type": "stream",
          "text": [
            "7\n",
            "1 6\n",
            "6 3\n",
            "3 5\n",
            "4 1\n",
            "2 4\n",
            "4 7\n"
          ]
        }
      ],
      "source": [
        "N = int(input()) # 노드 개수\n",
        "visited = [False] * (N+1) # 방문 기록 저장 리스트 \n",
        "tree = [[] for _ in range(N+1)] # 그래프 데이터 저장 인접 리스트 \n",
        "answer = [0] * (N+1) # 부모 노드 저장 정답 리스트\n",
        "\n",
        "for i in range(1, N):\n",
        "  n1, n2 = map(int,input().split())\n",
        "  tree[n1].append(n2)\n",
        "  tree[n2].append(n1)"
      ]
    },
    {
      "cell_type": "code",
      "source": [
        "tree"
      ],
      "metadata": {
        "colab": {
          "base_uri": "https://localhost:8080/"
        },
        "id": "kUqzBt4rlXXm",
        "outputId": "f1d04d0d-4331-48ea-845d-a7b47dcbe9c8"
      },
      "execution_count": null,
      "outputs": [
        {
          "output_type": "execute_result",
          "data": {
            "text/plain": [
              "[[], [6, 4], [4], [6, 5], [1, 2, 7], [3], [1, 3], [4]]"
            ]
          },
          "metadata": {},
          "execution_count": 4
        }
      ]
    },
    {
      "cell_type": "code",
      "source": [
        "def DFS(num):\n",
        "  visited[num] = True\n",
        "  for i in tree[num]: # visited 리스트에 현재 노드 방문 기록 확인\n",
        "    if not visited[i]: # 만약 방문하지 않았다면\n",
        "      answer[i] = num # 부모 노드로 현재 노드 저장\n",
        "      DFS(i) # 미방문 노드 실행\n",
        "\n",
        "# 부모 노드 부터 실행\n",
        "DFS(1)      \n",
        "\n",
        "for i in range(2, N+1): \n",
        "  print(answer[i])\n"
      ],
      "metadata": {
        "colab": {
          "base_uri": "https://localhost:8080/"
        },
        "id": "gD8iyvvplHIX",
        "outputId": "d1eb9ef1-1239-4811-bbdd-a9a4266250df"
      },
      "execution_count": null,
      "outputs": [
        {
          "output_type": "stream",
          "name": "stdout",
          "text": [
            "4\n",
            "6\n",
            "1\n",
            "3\n",
            "1\n",
            "4\n"
          ]
        }
      ]
    },
    {
      "cell_type": "markdown",
      "source": [
        "---\n",
        "# 2. [리프 노드의 개수 구하기](https://www.acmicpc.net/problem/1068)\n",
        "----"
      ],
      "metadata": {
        "id": "h0n-iEK_mL1K"
      }
    },
    {
      "cell_type": "markdown",
      "source": [
        "#### 아이디어 = DFS or BFS를 진행하며 리프 노드의 개수를 세던 중 삭제 노드를 만나면 탐색을 중지"
      ],
      "metadata": {
        "id": "lWoVh1c0mqiu"
      }
    },
    {
      "cell_type": "code",
      "source": [
        "N = int(input()) # 노드 개수\n",
        "visited = [False] * (N) # 방문 기록 저장 리스트 \n",
        "tree = [[] for _ in range(N)] # 그래프 데이터 저장 인접 리스트 \n",
        "answer = 0 # 리프 노드 개수 저장 \n",
        "P = list(map(int, input().split())) # 입력 데이터 저장 리스트\n",
        "del_node = int(input()) # 삭제 노드\n",
        "\n",
        "for i in range(N):\n",
        "  if P[i] != -1: # 루트 노드가 아닐경우\n",
        "    tree[i].append(P[i])\n",
        "    tree[P[i]].append(i)\n",
        "  else: # 루트 노드일 경우\n",
        "    root = i # 루트 노드값 저장"
      ],
      "metadata": {
        "colab": {
          "base_uri": "https://localhost:8080/"
        },
        "id": "3KxukIqAmeqK",
        "outputId": "4426ef2f-02c1-447e-b4f9-c56e53f08f55"
      },
      "execution_count": null,
      "outputs": [
        {
          "name": "stdout",
          "output_type": "stream",
          "text": [
            "9 \n",
            "-1 0 0 2 2 4 4 6 6\n",
            "4\n"
          ]
        }
      ]
    },
    {
      "cell_type": "code",
      "source": [
        "print(P)\n",
        "print(tree)"
      ],
      "metadata": {
        "colab": {
          "base_uri": "https://localhost:8080/"
        },
        "id": "8AgXCrX6nkxU",
        "outputId": "f248c159-2114-462c-e15d-69139db56c6c"
      },
      "execution_count": null,
      "outputs": [
        {
          "output_type": "stream",
          "name": "stdout",
          "text": [
            "[-1, 0, 0, 2, 2, 4, 4, 6, 6]\n",
            "[[1, 2], [0], [0, 3, 4], [2], [2, 5, 6], [4], [4, 7, 8], [6], [6]]\n"
          ]
        }
      ]
    },
    {
      "cell_type": "code",
      "source": [
        "def DFS(num):\n",
        "  global answer\n",
        "  visited[num] = True\n",
        "  c_node = 0 # 자식 노드 개수\n",
        "  \n",
        "  for i in tree[num]:\n",
        "    if not visited[i] and (i != del_node): # 방문하지 않았고 삭제 노드도 아닐 경우\n",
        "      c_node += 1 # 자식 노드 개수 +1\n",
        "      DFS(i)\n",
        "\n",
        "  if c_node == 0: # 자식 노드가 0일 경우\n",
        "    answer += 1   # 리프 노드로 간주하고 정답 +1 \n",
        "\n",
        "if del_node == root :\n",
        "  print(0)\n",
        "else: \n",
        "  DFS(root)\n",
        "  print(answer)      "
      ],
      "metadata": {
        "colab": {
          "base_uri": "https://localhost:8080/"
        },
        "id": "Uj8px_Irnpt1",
        "outputId": "fdbf9212-883d-4a83-ef29-b9cd048333d0"
      },
      "execution_count": null,
      "outputs": [
        {
          "output_type": "stream",
          "name": "stdout",
          "text": [
            "2\n"
          ]
        }
      ]
    },
    {
      "cell_type": "code",
      "source": [],
      "metadata": {
        "id": "xKN-gggtn-nK"
      },
      "execution_count": null,
      "outputs": []
    }
  ]
}