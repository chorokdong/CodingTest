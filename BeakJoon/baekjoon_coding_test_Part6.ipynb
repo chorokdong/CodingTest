{
  "nbformat": 4,
  "nbformat_minor": 0,
  "metadata": {
    "colab": {
      "provenance": [],
      "collapsed_sections": [
        "bR-u0NQgIbWu",
        "-MGXisOiIisK",
        "ifQWi6qjOuWs",
        "CjiSVTQ7V58g",
        "kS83LEmjWZXR",
        "BnkGCoCMxh38",
        "OT3K_8M3y2IZ",
        "RM6qvwu_1x7V"
      ]
    },
    "kernelspec": {
      "name": "python3",
      "display_name": "Python 3"
    },
    "language_info": {
      "name": "python"
    }
  },
  "cells": [
    {
      "cell_type": "markdown",
      "source": [
        "---\n",
        "# 1. [특정 거리의 도시 찾기](https://www.acmicpc.net/problem/18352)\n",
        "----"
      ],
      "metadata": {
        "id": "bR-u0NQgIbWu"
      }
    },
    {
      "cell_type": "markdown",
      "source": [
        "#### 아이디어 = 가중치 없는 인접 리스트\n",
        "\n",
        "1. 인접 리스트로 도시와 도로 데이터의 그래프를 구현\n",
        "2. BFS 탐색 알고리즘으로 탐색을 수행하면서 각 도시로 가는 최단 거리값을 방문 리스트에 저장\n",
        "3. 탐색 종료 후 방문 리스트에서 값이 K와 같은 도시의 번호를 출력\n",
        "\n"
      ],
      "metadata": {
        "id": "-MGXisOiIisK"
      }
    },
    {
      "cell_type": "code",
      "execution_count": null,
      "metadata": {
        "colab": {
          "base_uri": "https://localhost:8080/"
        },
        "id": "P-jPIFlqHfOi",
        "outputId": "8b50febf-6a22-42a3-b059-870247c64b1b"
      },
      "outputs": [
        {
          "name": "stdout",
          "output_type": "stream",
          "text": [
            "4 4 2 1\n",
            "1 2 \n",
            "1 3\n",
            "2 3\n",
            "2 4\n"
          ]
        }
      ],
      "source": [
        "from collections import deque\n",
        "\n",
        "N, M, K, X = map(int,input().split()) # 노드 개수 / 엣지 개수 / 목표 거리 / 시작점 \n",
        "A = [[] for i in range(N+1)] # 방문 기록용 (1부터 시작하기 위해 N+1)\n",
        "answer = [] # 정답을 추가할 리스트\n",
        "visited = [-1] * (N+1) # 노드별 거리 기록용 (1부터 시작하기 위해 N+1)\n",
        "\n",
        "def BFS(v):\n",
        "  queue = deque()\n",
        "  queue.append(v) # node 방문\n",
        "  visited[v] += 1 # 방문한 node의 거리 1 더하기\n",
        "  while queue:\n",
        "    now_node = queue.popleft() \n",
        "    for i in A[now_node]:  # 여러개 라면 하니씩 빼서 방문\n",
        "      if visited[i] == -1: # 방문한적이 없다면\n",
        "        visited[i] = visited[now_node] + 1 # 거리는 이전 node거리의 거리 + 1 \n",
        "        queue.append(i)\n",
        "\n",
        "for i in range(N):\n",
        "  s, e = map(int,input().split())        \n",
        "  A[s].append(e)"
      ]
    },
    {
      "cell_type": "code",
      "source": [
        "print(visited)\n",
        "BFS(X)\n",
        "print(visited)"
      ],
      "metadata": {
        "colab": {
          "base_uri": "https://localhost:8080/"
        },
        "id": "Nw8mpczHKjOl",
        "outputId": "07edcb7e-df00-4f21-8622-f252a1973bf4"
      },
      "execution_count": null,
      "outputs": [
        {
          "output_type": "stream",
          "name": "stdout",
          "text": [
            "[-1, -1, -1, -1, -1]\n",
            "[-1, 0, 1, 1, 2]\n"
          ]
        }
      ]
    },
    {
      "cell_type": "code",
      "source": [
        "# 방문거리가 K인 node의 번호 찾기\n",
        "for i in range(N+1): \n",
        "  if visited[i] == K:\n",
        "    answer.append(i)\n",
        "\n",
        "if not answer: # 없으면 -1 추렭\n",
        "  print(-1)\n",
        "else:\n",
        "  answer.sort()\n",
        "  for i in answer: # 하나씩 출력\n",
        "    print(i)\n"
      ],
      "metadata": {
        "colab": {
          "base_uri": "https://localhost:8080/"
        },
        "id": "xkbQPwP4LM68",
        "outputId": "81af9b81-9cda-4ed9-bf47-6d9416c548f7"
      },
      "execution_count": null,
      "outputs": [
        {
          "output_type": "stream",
          "name": "stdout",
          "text": [
            "4\n"
          ]
        }
      ]
    },
    {
      "cell_type": "markdown",
      "source": [
        "---\n",
        "# 2. [효율적으로 해킹하기](https://www.acmicpc.net/problem/1325)\n",
        "----"
      ],
      "metadata": {
        "id": "ifQWi6qjOuWs"
      }
    },
    {
      "cell_type": "code",
      "source": [
        "from collections import deque\n",
        "\n",
        "N, M = map(int,input().split()) # 노드 개수 / 엣지 개수\n",
        "A = [[] for i in range(N+1)]\n",
        "answer = [0] * (N+1)\n",
        "\n",
        "def BFS(v):\n",
        "  queue = deque()\n",
        "  queue.append(v)\n",
        "  visited[v] = True\n",
        "  while queue :\n",
        "    now_node = queue.popleft()\n",
        "    for i in A[now_node]:\n",
        "      if not visited[i]:\n",
        "        visited[i] = True\n",
        "        answer[i] += 1\n",
        "        queue.append(i)\n",
        "        \n",
        "for i in range(M):\n",
        "  s,e = map(int,input().split())\n",
        "  A[s].append(e)\n",
        "\n"
      ],
      "metadata": {
        "colab": {
          "base_uri": "https://localhost:8080/"
        },
        "id": "sHsvXqdELsrE",
        "outputId": "fa75dc43-8f6c-457e-b02e-aeffbc20c783"
      },
      "execution_count": null,
      "outputs": [
        {
          "name": "stdout",
          "output_type": "stream",
          "text": [
            "5 4\n",
            "3 1\n",
            "3 2\n",
            "4 3\n",
            "5 3\n"
          ]
        }
      ]
    },
    {
      "cell_type": "code",
      "source": [
        "for i in range(1, N+1): # 모든 node에서 BFS 실행\n",
        "  visited = [False] * (N+1) # 모든 node를 한번씩 방문해야 하기 때문에 방문기록 초기화가 필요\n",
        "  BFS(i)\n",
        "\n",
        "for i in range(1, N+1):\n",
        "  if max(answer) == answer[i]:\n",
        "    print(i, end=' ')\n"
      ],
      "metadata": {
        "colab": {
          "base_uri": "https://localhost:8080/"
        },
        "id": "1dbg8AhhQYjQ",
        "outputId": "ed91b0bb-50e8-4474-bfae-efd6994db25f"
      },
      "execution_count": null,
      "outputs": [
        {
          "output_type": "stream",
          "name": "stdout",
          "text": [
            "1 2 "
          ]
        }
      ]
    },
    {
      "cell_type": "markdown",
      "source": [
        "---\n",
        "# 3. [이분 그래프 판별하기](https://www.acmicpc.net/problem/1707)\n",
        "----"
      ],
      "metadata": {
        "id": "CjiSVTQ7V58g"
      }
    },
    {
      "cell_type": "markdown",
      "source": [
        "#### 아이디어 = DFS를 통한 이분그래프\n",
        "\n",
        "1. 입력된 그래프 데이터를 인접 리스트로 구현 \n",
        "2. 모든 노드에 DFS 탐색을 진행\n",
        "  여기서 이미 방문한 노드가 나와 같은 집합이면 이분 그래프가 X\n",
        "3. 이분 그래프 정답 여부 출력\n",
        "\n"
      ],
      "metadata": {
        "id": "kS83LEmjWZXR"
      }
    },
    {
      "cell_type": "code",
      "source": [
        "N = int(input())\n",
        "IsEven = True\n",
        "\n",
        "def DFS(node):\n",
        "  global IsEven\n",
        "  visited[node] = True\n",
        "  for i in A[node]:\n",
        "    if not visited[i]:\n",
        "      check[i] = (check[node]+1) % 2 # 인접 노드는 같은 집합이 아니므로 다른 집합으로 처리 \n",
        "      DFS(i)\n",
        "    elif check[node] == check[i]: # 이미 방문한 노드가 현재 내 노드와 같은 집합이면 이분 그래프 X\n",
        "      IsEven = False\n",
        "\n",
        "for _ in range(N):\n",
        "  v, e = map(int,input().split())\n",
        "  A = [[] for _ in range(v+1)]\n",
        "  visited = [False] * (v + 1)\n",
        "  check = [0] * (v + 1)\n",
        "  IsEven = True\n",
        "  for i in range(e):\n",
        "    s,end = map(int,input().split())\n",
        "    A[s].append(end)\n",
        "    A[end].append(s)\n",
        "\n",
        "  for i in range(1, v+1):\n",
        "    if IsEven:\n",
        "      DFS(i)\n",
        "    else:\n",
        "      break \n",
        "\n",
        "  if IsEven:\n",
        "    print('YES')     \n",
        "  else:\n",
        "    print('NO')\n",
        "\n"
      ],
      "metadata": {
        "colab": {
          "base_uri": "https://localhost:8080/"
        },
        "id": "5gAZnJyUV_kp",
        "outputId": "fb9fa441-1de5-408f-b469-25481da77c16"
      },
      "execution_count": null,
      "outputs": [
        {
          "output_type": "stream",
          "name": "stdout",
          "text": [
            "2\n",
            "3 2\n",
            "1 3\n",
            "2 3\n",
            "YES\n",
            "4 4\n",
            "1 2\n",
            "2 3\n",
            "3 4\n",
            "4 2\n",
            "NO\n"
          ]
        }
      ]
    },
    {
      "cell_type": "markdown",
      "source": [
        "---\n",
        "# 4. [집합 표현하기](https://www.acmicpc.net/problem/1717)\n",
        "---"
      ],
      "metadata": {
        "id": "BnkGCoCMxh38"
      }
    },
    {
      "cell_type": "markdown",
      "source": [
        "#### 아이디어 = 유니온 파인드\n",
        "\n",
        "1. 각 노드의 대표는 자기 자신을 기준으로 하여 자기 인덱스 값으로 초기화\n",
        "2. find 연산으로 특정 노드의 대표 노드를 찾고, union연산으로 2개의 노드를 이용해 각 대표 노드를 찾아 연결\n",
        "3. 질의한 값에 따라 결과를 반환"
      ],
      "metadata": {
        "id": "OT3K_8M3y2IZ"
      }
    },
    {
      "cell_type": "code",
      "source": [
        "N,M = map(int,input().split()) # 원소 개수 / 질의 개수 \n",
        "parent = [0] * (N+1) # 대표 노드 저장 리스트\n",
        "\n",
        "def find(a): # find 연산\n",
        "  if a == parent[a]:\n",
        "    return a\n",
        "  else:\n",
        "    parent[a] = find(parent[a])\n",
        "    return parent[a]\n",
        "\n",
        "def union(a,b): # union 연산 대표 노드끼리 합치기\n",
        "  a = find(a)\n",
        "  b = find(b)\n",
        "  if a != b:\n",
        "    parent[b] = a\n",
        "\n",
        "def checksame(a,b): # 두 원소가 같은 집합에 속해 있는지 확인하는 함수\n",
        "  a = find(a)\n",
        "  b = find(b)\n",
        "  if a == b:\n",
        "    return True\n",
        "  return False\n",
        "\n",
        "for i in range(N+1):\n",
        "  parent[i] = i\n",
        "\n",
        "for i in range(M):\n",
        "  question, a, b = map(int,input().split())\n",
        "  if question == 0:\n",
        "    union(a,b)\n",
        "  else :\n",
        "    if checksame(a,b):\n",
        "      print('YES')\n",
        "    else:\n",
        "      print('NO')"
      ],
      "metadata": {
        "id": "I1H8MwqvYFzb",
        "colab": {
          "base_uri": "https://localhost:8080/"
        },
        "outputId": "ce71251b-bcc8-4834-eccb-ee2c29e2575e"
      },
      "execution_count": 3,
      "outputs": [
        {
          "output_type": "stream",
          "name": "stdout",
          "text": [
            "7 8\n",
            "0 1 3\n",
            "1 1 7\n",
            "NO\n",
            "0 7 6\n",
            "1 7 1\n",
            "NO\n",
            "0 3 7\n",
            "0 4 2\n",
            "0 1 1\n",
            "1 1 1\n",
            "YES\n"
          ]
        }
      ]
    },
    {
      "cell_type": "markdown",
      "source": [
        "---\n",
        "# 5. [여행 계획 짜기](https://www.acmicpc.net/problem/1976)\n",
        "---"
      ],
      "metadata": {
        "id": "RM6qvwu_1x7V"
      }
    },
    {
      "cell_type": "code",
      "source": [
        "N,M = map(int,input().split()) # 도시의 수 / 여행 계획에 속한 도시의 수\n",
        "dosi = [[0 for i in range(N+1)] for j in range(N+1)] # 도시 연결 행렬 리스트 # index를 1부터 시작하기 위해 (N+1) x (N+1) 행렬 \n",
        "parent =  [0] * (N+1)\n",
        "\n",
        "def find(a): # find 연산\n",
        "  if a == parent[a]:\n",
        "    return a\n",
        "  else:\n",
        "    parent[a] = find(parent[a])\n",
        "    return parent[a]\n",
        "\n",
        "def union(a,b): # union 연산 대표 노드끼리 합치기\n",
        "  a = find(a)\n",
        "  b = find(b)\n",
        "  if a != b:\n",
        "    parent[b] = a\n",
        "\n",
        "for i in range(1, N+1): # 도시 연결 데이터 저장\n",
        "  dosi[i] = list(map(int,input().split()))  # N개의 수 만큼 도시 연결 데이터 삽입\n",
        "  dosi[i].insert(0,0) # 1부터 시작하기 위에 멘 앞에 의미없는 값 삽입\n",
        "\n",
        "route = list(map(int,input().split()))\n",
        "route.insert(0,0)  "
      ],
      "metadata": {
        "colab": {
          "base_uri": "https://localhost:8080/"
        },
        "id": "bEnGTxqL0e-L",
        "outputId": "03739b45-6440-4835-cde9-29ef050e0535"
      },
      "execution_count": 16,
      "outputs": [
        {
          "name": "stdout",
          "output_type": "stream",
          "text": [
            "3 3\n",
            "0 1 0\n",
            "1 0 1\n",
            "0 1 0\n",
            "1 2 3\n"
          ]
        }
      ]
    },
    {
      "cell_type": "code",
      "source": [
        "print(dosi)\n",
        "print(route)"
      ],
      "metadata": {
        "colab": {
          "base_uri": "https://localhost:8080/"
        },
        "id": "5n2CPc2o3jK6",
        "outputId": "239ef995-f371-4b87-a1ab-a578f72d0962"
      },
      "execution_count": 18,
      "outputs": [
        {
          "output_type": "stream",
          "name": "stdout",
          "text": [
            "[[0, 0, 0, 0], [0, 0, 1, 0], [0, 1, 0, 1], [0, 0, 1, 0]]\n",
            "[0, 1, 2, 3]\n"
          ]
        }
      ]
    },
    {
      "cell_type": "code",
      "source": [
        "for i in range(N+1): # 대표 노드를 자기 자신으로 초기화\n",
        "  parent[i] = i \n",
        "\n",
        "for i in range(N+1):\n",
        "  for j in range(N+1):\n",
        "    if dosi[i][j] == 1:\n",
        "      union(i,j)\n",
        "\n",
        "index = find(route[1])\n",
        "\n",
        "value = True\n",
        "\n",
        "for i in range(2,len(route)):\n",
        "  if index != find(route[i]):\n",
        "    value = False\n",
        "    break\n",
        "\n",
        "if value :\n",
        "  print('YES')\n",
        "else:\n",
        "  print('NO')"
      ],
      "metadata": {
        "colab": {
          "base_uri": "https://localhost:8080/"
        },
        "id": "gJ94xZFs39s-",
        "outputId": "8b1053bc-6222-429b-c795-2829c3eef1df"
      },
      "execution_count": 19,
      "outputs": [
        {
          "output_type": "stream",
          "name": "stdout",
          "text": [
            "YES\n"
          ]
        }
      ]
    },
    {
      "cell_type": "markdown",
      "source": [
        "---\n",
        "# 6. [거짓말쟁이가 되긴 싫어](https://www.acmicpc.net/problem/1043)\n",
        "---"
      ],
      "metadata": {
        "id": "i_Kjvl2580p2"
      }
    },
    {
      "cell_type": "code",
      "source": [
        "N,M = map(int,input().split()) # 사람 수 / 파티 수 \n",
        "true_p = list(map(int,input().split())) # 진실을 아는 사람 데이터\n",
        "T = true_p[0] # 진실을 아는 사람 수 \n",
        "del true_p[0] \n",
        "result = 0\n",
        "party = [[]for i in range(M)]\n",
        "\n",
        "def find(a): # find 연산\n",
        "  if a == parent[a]:\n",
        "    return a\n",
        "  else:\n",
        "    parent[a] = find(parent[a])\n",
        "    return parent[a]\n",
        "\n",
        "def union(a,b): # union 연산 대표 노드끼리 합치기\n",
        "  a = find(a)\n",
        "  b = find(b)\n",
        "  if a != b:\n",
        "    parent[b] = a\n",
        "\n",
        "def checksame(a,b): # 두 원소가 같은 집합에 속해 있는지 확인하는 함수\n",
        "  a = find(a)\n",
        "  b = find(b)\n",
        "  if a == b:\n",
        "    return True\n",
        "  return False\n",
        "\n",
        "for i in range(M): # 파티 데이터 저장\n",
        "  party[i] = list(map(int,input().split()))\n",
        "  del party[i][0]\n",
        "\n",
        "parent = [0] * (N+1)  \n",
        "\n",
        "for i in range(N+1): # 대표 노드를 자기 자신으로 초기화\n",
        "  parent[i] = i\n",
        "  "
      ],
      "metadata": {
        "colab": {
          "base_uri": "https://localhost:8080/"
        },
        "id": "8GI1ZZ9V4Bvx",
        "outputId": "1055143f-ddd7-408b-bd4a-a2f015ee5194"
      },
      "execution_count": 20,
      "outputs": [
        {
          "name": "stdout",
          "output_type": "stream",
          "text": [
            "8 5\n",
            "3 1 2 7\n",
            "2 3 4\n",
            "1 5\n",
            "2 5 6\n",
            "2 6 8\n",
            "1 8\n"
          ]
        }
      ]
    },
    {
      "cell_type": "code",
      "source": [
        "print('진실을 알고 있는 사람의 index:',true_p)\n",
        "print('파티 데이터:',party)"
      ],
      "metadata": {
        "colab": {
          "base_uri": "https://localhost:8080/"
        },
        "id": "hJVlBdPt-ggM",
        "outputId": "38e26d14-40f5-4509-a9e5-2cefea7a3868"
      },
      "execution_count": 29,
      "outputs": [
        {
          "output_type": "stream",
          "name": "stdout",
          "text": [
            "진실을 알고 있는 사람의 index: [1, 2, 7]\n",
            "파티 데이터: [[3, 4], [5], [5, 6], [6, 8], [8]]\n"
          ]
        }
      ]
    },
    {
      "cell_type": "code",
      "source": [
        "for i in range(M): # 각 파티에 참여한 사람들을 1개의 그룹으로 만들기\n",
        "  first = party[i][0]\n",
        "  for j in range(1, len(party[i])):\n",
        "    union(first,party[i][j])\n",
        "\n",
        "print('파티 인원 그룹화:', parent)\n",
        "\n",
        "for i in range(M): # 각 파티의 대표 노드와 진실을 아는 사람들의 대표 노드가 같다면 과정할 수 없음\n",
        "  value = True\n",
        "  first = party[i][0]\n",
        "  for j in range(len(true_p)):\n",
        "    if find(first) == find(true_p[j]):\n",
        "      value = False\n",
        "      break\n",
        "  if value:\n",
        "    result += 1\n",
        "\n",
        "print(result)"
      ],
      "metadata": {
        "colab": {
          "base_uri": "https://localhost:8080/"
        },
        "id": "QM_Z5e0l-zCy",
        "outputId": "8a463b30-5816-45af-f00c-4ab78ab874e3"
      },
      "execution_count": 30,
      "outputs": [
        {
          "output_type": "stream",
          "name": "stdout",
          "text": [
            "파티 인원 그룹화: [0, 1, 2, 3, 3, 5, 5, 7, 5]\n",
            "5\n"
          ]
        }
      ]
    },
    {
      "cell_type": "code",
      "source": [],
      "metadata": {
        "id": "MhpfKTm7matw"
      },
      "execution_count": null,
      "outputs": []
    }
  ]
}